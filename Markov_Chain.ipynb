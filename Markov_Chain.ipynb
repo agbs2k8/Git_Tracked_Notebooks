{
 "cells": [
  {
   "cell_type": "markdown",
   "metadata": {},
   "source": [
    "# Building a Markov Chain\n",
    "\n",
    "    1. Get text to use as baseline and add it to a text file as individual lines\n",
    "        a. twitter extract of Boys' Life Tweets"
   ]
  },
  {
   "cell_type": "code",
   "execution_count": 2,
   "metadata": {
    "collapsed": false
   },
   "outputs": [
    {
     "name": "stdout",
     "output_type": "stream",
     "text": [
      "twython v.3.4.0\n",
      "pandas v.0.19.2\n",
      "ujson v.1.35\n"
     ]
    }
   ],
   "source": [
    "import twython\n",
    "from twython import Twython\n",
    "from twython import TwythonStreamer\n",
    "print(\"twython v.{}\".format(twython.__version__))\n",
    "import pandas as pd\n",
    "print(\"pandas v.{}\".format(pd.__version__))\n",
    "import ujson\n",
    "print('ujson v.{}'.format(ujson.__version__))"
   ]
  },
  {
   "cell_type": "code",
   "execution_count": 4,
   "metadata": {
    "collapsed": true
   },
   "outputs": [],
   "source": [
    "with open('D:\\\\Python\\\\twitter_credentials.json', 'r') as c:\n",
    "    credentials = ujson.load(c)\n",
    "\n",
    "CONSUMER_KEY = credentials['CONSUMER_KEY']\n",
    "CONSUMER_SECRET = credentials['CONSUMER_SECRET']\n",
    "ACCESS_TOKEN = credentials['ACCESS_TOKEN']\n",
    "ACCESS_TOKEN_SECRET = credentials['ACCESS_TOKEN_SECRET']"
   ]
  },
  {
   "cell_type": "code",
   "execution_count": 24,
   "metadata": {
    "collapsed": true
   },
   "outputs": [],
   "source": [
    "def get_tweets(twitter_id):\n",
    "    \n",
    "    twitter = Twython(CONSUMER_KEY, CONSUMER_SECRET)\n",
    "    \n",
    "    result = twitter.get_user_timeline(screen_name = twitter_id,\n",
    "                                       include_rts = False,\n",
    "                                       count = 200)\n",
    "    \n",
    "    return(result)"
   ]
  },
  {
   "cell_type": "code",
   "execution_count": 25,
   "metadata": {
    "collapsed": false
   },
   "outputs": [],
   "source": [
    "bl_tweets = get_tweets('@BoysLife')"
   ]
  },
  {
   "cell_type": "code",
   "execution_count": 26,
   "metadata": {
    "collapsed": false
   },
   "outputs": [],
   "source": [
    "texts = []\n",
    "\n",
    "for tweet in bl_tweets:\n",
    "    texts.append(tweet['text'])"
   ]
  },
  {
   "cell_type": "code",
   "execution_count": 27,
   "metadata": {
    "collapsed": false
   },
   "outputs": [
    {
     "data": {
      "text/plain": [
       "['Live! Play a game with us for National Scrabble Day... https://t.co/R2n3ncY20I',\n",
       " \"Help the Boys' Life staff play Scrabble to celebrate National Scrabble Day! https://t.co/BfHZHWyUzS\",\n",
       " 'How to prevent and treat mosquito bites https://t.co/K4jj5VUNtw',\n",
       " 'Splash down at Idaho’s Salmon River High Adventure Base https://t.co/VYfFq8hWiP https://t.co/MdaRfNqX2t',\n",
       " '@Junior_Miller @GordonKeith Still here, with plenty of fodder for more Jokes of the Day by @CorbyDavidson https://t.co/CA0P95DOSc',\n",
       " 'How to help Scouts or Venturers get ready for a long-distance trek https://t.co/Rm88uqOnuV https://t.co/FF8ylHZ3kz',\n",
       " 'Enter daily through April 30 for your chance to win a @ZebcoFishing Platinum 33 Fishing Combo!… https://t.co/QLRuZV1sPc',\n",
       " 'How Scouting Makes the Most of Right Now https://t.co/zvrHle7Vzd https://t.co/kUQ9IDFvVT',\n",
       " 'A stellar explosion in Orion caught on camera https://t.co/839twqZWXd https://t.co/CCnpouOXrp',\n",
       " 'One veteran Scouter’s tips for getting Scouts hooked on nature https://t.co/k5mWIHG7Le https://t.co/03wgVDpgmF',\n",
       " 'A book never written: How to Be a Better Baseball Player by Ben Schwarmer. https://t.co/xkykPitzmK',\n",
       " 'What It’s Like to Attend a Unique Eagle Scout Court of Honor https://t.co/PoUF7pZDDc https://t.co/KVQmaVUT8S',\n",
       " \"A rip current can carry swimmers out to sea. If you're caught in a rip current, don't panic and don't exhaust... https://t.co/RMhuvqqRv3\",\n",
       " 'An important knot for pioneering (and camporee competitions!) ... https://t.co/EOThd7ztje',\n",
       " 'Dude! Not cool! https://t.co/9k4lCQRnMG',\n",
       " 'When it’s OK to complete two advancement requirements with one activity https://t.co/jRL3nZjwEp',\n",
       " '4 Basic Swimming Strokes to\\xa0Know https://t.co/I5rQh6MTZA',\n",
       " 'Three awesome STEM activities for your next pack or den meeting https://t.co/1XKhr35RbO https://t.co/wd2WCAXiEv',\n",
       " 'Tips for navigating the Orienteering merit badge https://t.co/cRwhDlmxQe https://t.co/nzEJGI9gIE',\n",
       " 'We got to go on an awesome deep-sea fishing trip with Troop 64 in Lompoc, California. Read about it in the April... https://t.co/UsZjAebj0N',\n",
       " 'How to have meaningful discussions with your child https://t.co/kNJb6ykPl1 https://t.co/lN6Wxs83mY',\n",
       " 'Live! Backpack Q&amp;A and Giveaway. https://t.co/e2DfcGL0KX',\n",
       " \"Prepping the prizes for this afternoon's backpack giveaway on Facebook Live. Join us at 4 pm CT to participate!… https://t.co/CTvxtjS9Je\",\n",
       " \"Prepping the prizes for this afternoon's backpack giveaway on Facebook Live. Join us here at 4 pm CT to participate! https://t.co/t1IxLQtCQe\",\n",
       " 'What to do when a friend is suspected of cheating https://t.co/oaWcL8xi3I https://t.co/GWTQ2qtEmr',\n",
       " 'Why This City Council is Voting ‘Yes’ for Exploring https://t.co/dXFTnVbirj',\n",
       " 'Congratulations to Dave M. for submitting one of our favorite captions this month! https://t.co/KDK7bac2kA',\n",
       " \"This bot can fly like a bat — and that's no easy feat https://t.co/nzYHXfyuvz https://t.co/ulmtwX0vsR\",\n",
       " \"We can't decide. Awesome or ridiculous? https://t.co/AEDdqyt714\",\n",
       " 'ICYMI ... we tried out 4 outdoor games. Kubb was our favorite... https://t.co/H6KRUzu3pX',\n",
       " 'Scouts Brave Cold Temperatures to Sharpen Skills https://t.co/uV832whXex https://t.co/B2sDLEO9RK',\n",
       " 'You’ll Be Shocked At How Much the Average Cloud Weighs https://t.co/nFw6MP5Hwj https://t.co/PaJYLXiaNe',\n",
       " 'And do you use real sticks in your breadsticks? https://t.co/KzWOtteY1n',\n",
       " 'Calling All Youth Writers: We Want Your Stories For Boys’ Life! https://t.co/5edebBZHr3',\n",
       " 'Take a Sneak Peek at the 2017 National Jamboree Program https://t.co/l9LWH1RHqP @2017Jambo https://t.co/Fr7CbiM3BK',\n",
       " '#JokeOfTheDay: The Three Stooges’ favorite snack https://t.co/YKX7DLDl6M',\n",
       " '“Put those knives\\xa0down!” https://t.co/bOAihJLw1D',\n",
       " 'Check out @BechtelSummit 2018 Christen High Adventure Base Trek Programs https://t.co/NQqvQOgbwo https://t.co/dwmP0XGMJX',\n",
       " 'Write a Funny Caption For This\\xa0Photo https://t.co/ba2SYCa5xE',\n",
       " 'Eagle Scout Project Is Life-changing Gift for Child with Special Needs https://t.co/nzoEL4oRxf https://t.co/NrxTqQD6Ep',\n",
       " 'This Exceptional Venturer Won the 2017 Outdoor Inspiration Award https://t.co/WahrwH72qn https://t.co/4FZQlaMRE8',\n",
       " 'These Scouts made their own Dutch ovens ... https://t.co/Bd0ZnMysTZ',\n",
       " 'Nothing gets past this feline goalie https://t.co/lGqsMWI7fP https://t.co/504tCIsBj4',\n",
       " '11 Scouts from Same Troop Earn Eagle https://t.co/RUWsMhET4n https://t.co/vCdDz5vTmX',\n",
       " 'Eagle Scout Project Is Life-changing Gift for Child with Special Needs https://t.co/un4D09Crfv https://t.co/midMYKGm30',\n",
       " 'Help Staff the Jamboree and Serve Youth as Part of the Medical Services Team https://t.co/OjrVRDEOMp',\n",
       " 'Live! Yard games for families and Scouts. Comment and win! https://t.co/iR4CzxtByb',\n",
       " 'Best Way to Get Ready For a Long Hike? https://t.co/Iuts1W9ou4 https://t.co/CsS5WXKcNo',\n",
       " 'Join us LIVE today at 4 pm CT as we test and give away some of the fun outdoor games featured in the April issue. https://t.co/tqm7fsG4Ot',\n",
       " '#JokeOfTheDay: What the Lego mini figure said to the other https://t.co/BpeGnbA535',\n",
       " '7 Things You Should Know Before Buying Lego Worlds https://t.co/TZt4hYL3Hq https://t.co/LgJs4zf3Jt',\n",
       " \"21 things you didn't know about cows https://t.co/hDqOyhmVg6 https://t.co/zh3E6FiNJK\",\n",
       " 'How to safely pitch a tent in the snow https://t.co/M80Iz5oC6R https://t.co/fKt6muYTyM',\n",
       " 'Read the First Chapter of ‘Point Guard’ by @MikeLupica https://t.co/5oLcVxAtoM https://t.co/8qFv2JMCNr',\n",
       " 'Never let a burro help with your science project ... https://t.co/kdMbhCJ9X6',\n",
       " 'Outstanding Pinewood Derby Cars of 2017 https://t.co/zoG4FHttMA https://t.co/iPpfTyYAKB',\n",
       " \"Firefighter saves dog with 'mouth to snout' resuscitation https://t.co/lCBVK8OjIC https://t.co/jWUVmgqijr\",\n",
       " 'How These STEM Scouts Are “Bee”-ing Part of a Solution https://t.co/elu9aXZ080 https://t.co/1BdnDjhcUz',\n",
       " 'Wolfdreams: A New Short Story by Gary Paulsen https://t.co/GFidWxwTCh https://t.co/1AuGpB7ANq',\n",
       " \"Here's a throwback to when we got to ride with the U.S. Navy Blue Angels ... https://t.co/RcYa2dGrv4\",\n",
       " 'Cause Batman brings the best presents... https://t.co/TkBBccNE06',\n",
       " 'Happy International Waffle Day! https://t.co/rIIdtDcoLT',\n",
       " 'How Scouting Led This Eagle Scout to His Life Purpose https://t.co/vh4xezC5za https://t.co/Bx4rerwtXG',\n",
       " 'Check out these outstanding pinewood derby cars of 2017... https://t.co/2yM84OQTU6',\n",
       " 'How to tie the \"King of Knots!\" https://t.co/LMFEpKWIFP',\n",
       " '\"Quick, how do we fire this cannon?!\" https://t.co/Hx55tDqnDJ',\n",
       " '#BLWorkshop: Build a Giant Wood Block Game https://t.co/J7IOKeIea8 https://t.co/1UidSyP1LL',\n",
       " 'Eagle Project Focuses on Reading While Walking https://t.co/I643pMwt9t',\n",
       " 'Live! Guess the national park in the comments... https://t.co/cqhpZWC6g2',\n",
       " 'Live! Be the first to guess the National Park. https://t.co/i6cddpLeUL',\n",
       " '#GearGuy: Good Shoes For Both Hiking and Gym https://t.co/9f5IPSZpD5 https://t.co/fEySksKuOz',\n",
       " 'The https://t.co/Q6TYOGRHiQ Nat Geo Kids Explorers Club is live! Lots of great hands-on activity ideas!… https://t.co/KYVtzwP3io',\n",
       " 'Happy #NationalPuppyDay! Might need tissues for the ending of this story... https://t.co/uu7tANsZxi',\n",
       " 'Turn your binoculars to the night sky for the Beehive Cluster https://t.co/sbaKnPk5JZ https://t.co/TyBkSqxaVc',\n",
       " 'Fulfilling A Lifetime Dream of Visiting @Philmont Scout Ranch https://t.co/06rVrc9SYu',\n",
       " 'Hear Why One Venturer Will Be Going to @Jambo2017 This Summer https://t.co/Gy0gnTaXJ1@ https://t.co/vU7qzxS8mr',\n",
       " '5 fast facts about sloths https://t.co/tbN5uKKvPG https://t.co/WqVmSPmD1c',\n",
       " 'Watch us make Dutch-Oven Lasagna in under 2 minutes! (We used a 12 inch Dutch Oven). https://t.co/D1xszU09z1',\n",
       " 'Eagle Scout Bridge-building Project Is Ambitious https://t.co/Xt5pn1TG5L https://t.co/mS0woioYHK',\n",
       " 'Survival of the Fittest: Wilderness Survival Training https://t.co/Et38R00D69 https://t.co/dP7bA8Pxdz',\n",
       " 'Just a little tangled up... https://t.co/eQnHtDXTjF',\n",
       " 'Scouts Brave the Cold for a STEM University Experience https://t.co/34R5nczO2z https://t.co/nzNsC7nNQG',\n",
       " '5 Questions with Kicking &amp; Screaming’s Terry Fossum https://t.co/DYl8hlc66g',\n",
       " 'Report to the Nation Offers Scouts a Once-in-a-Lifetime Experience https://t.co/oKRoB6IkoT https://t.co/mo4FOAhjZS',\n",
       " \"Here's how we pick which heroes to feature in Scouts in Action ... https://t.co/fo5HfdiQYa\",\n",
       " 'Happy National Corndog Day! https://t.co/fUJns0HnrS',\n",
       " \"Enter Pedro's Nintendo Switch Giveaway https://t.co/HDbublUVHJ\",\n",
       " 'Check Out the Never-Before-Seen Cover For ‘The Last Kids On Earth and the Nightmare King’ https://t.co/7a3ZLWi1Tk',\n",
       " 'Knife Safety Quiz https://t.co/5pfoYxwcQ9 https://t.co/W5mZj0qsQC',\n",
       " '5 Ways One Pacific NW Council Serves Families by Keeping Things Simple https://t.co/fIpkCKk11q',\n",
       " \"Don't forget to wear green! https://t.co/6sS6SydJav\",\n",
       " '6 Exercises To Help You Do Better in Hikes and Sports https://t.co/6T94hQGL9t https://t.co/S6QK5Vt660',\n",
       " 'Live! Play Pedro Pictionary! Leave your answers in the comments section. https://t.co/euNsGGSlPI',\n",
       " 'Best Cars for Teens https://t.co/PCwxzYdAgY',\n",
       " 'Remember These National Park Service Fee Free Days For 2017 https://t.co/u9ohBXQInE https://t.co/AT8yEOTLz7',\n",
       " '@dr_whobacca @bj_moonshoes While ours remains as juvenile (in a good way!) as ever ... Daffynition: Avoidable — What bullfighters do.',\n",
       " 'How to Pack a Better School Lunch https://t.co/VgdQIxnPdi https://t.co/70we41eJJB',\n",
       " 'Use two half-hitches to tie a rope to a tree, ring or dock. Two half-hitches are commonly used to tie guy lines... https://t.co/EF5isJla0b',\n",
       " 'Royal Robbins never missed an opportunity to turn the next generation on to the great outdoors. https://t.co/hMSj3oeDlW',\n",
       " 'Much respect for Royal Robbins, who loved Scouting. “The Scouts got me off the streets of Los Angeles,” he said. “Into the out of doors.\"',\n",
       " \"Here's proof that Boys' Life leaves a lasting impression. https://t.co/oh7Ztkl06y\",\n",
       " 'Watch a 100 MPH RC Car Get the Slow-Mo Treatment https://t.co/8fYZnRBbVt https://t.co/csqgQUtnUJ',\n",
       " \"Have any winter plans for your Scout unit? Boys' Life would love to hear about them. We might even tag along! https://t.co/z9bT8NiWRh\",\n",
       " 'Boy Who is Terminally Ill Goes on Special Ski Trip with Fellow Scouts https://t.co/iHSDpwRlnD via @boyscouts',\n",
       " 'Refugee Crisis Spurs Eagle Project https://t.co/77d1BZMXME https://t.co/Ii20YKPhJR',\n",
       " 'Coming Attraction: Nintendo’s New Theme Park https://t.co/PTribeyIas',\n",
       " 'Eagle Scout Brotherhood Grows with Actual Brothers https://t.co/BmcvJ0gxet',\n",
       " 'Enjoy some pie on 3/14/17! https://t.co/Ew9se57zFv',\n",
       " 'Refugee Boys Grow Friendships Through Scouting https://t.co/wSwLSFAPui https://t.co/CzNiPZ2I19',\n",
       " 'Staying Warm in a Hammock https://t.co/3xWXz2w89J https://t.co/WXKDsgIohL',\n",
       " 'STEM Camps and Events Around the Nation https://t.co/8ckdDqixC5 https://t.co/qXmjvgq6hR',\n",
       " 'Are you going to celebrate? https://t.co/GyzZRleySn',\n",
       " \"Where have you been with Boys' LIfe? Share a photo of yourself with a copy of BL from anywhere in the world with... https://t.co/4jrlyXoTGW\",\n",
       " 'Shaq dazzles with humor, advice to Boy Scouts at Birmingham event - https://t.co/JBuW1r4L6v https://t.co/xvV5kSNnyE',\n",
       " 'Learn how to bake a Dutch-Oven Pineapple Upside-Down Cake in less than two minutes. https://t.co/Tnf0rrOMlD',\n",
       " 'Anyone else an hour late this morning? https://t.co/aSp8Bt0Z0B',\n",
       " 'Enter every day to win a week at Aviation Challenge Camp. New for 2017: Drones! https://t.co/fDg3I7hGqx @Check_Six',\n",
       " 'Happy Genealogy Day! https://t.co/SHwZSDYR0o',\n",
       " 'Scout Saves Father During “Terrifying” Life-threatening Situation https://t.co/5jWWSsKlXk https://t.co/rWjjPe1iuj',\n",
       " '3 fun science experiments you can try at home... https://t.co/YqEqTOxGyx',\n",
       " 'The sheet bend won’t slip when ropes of dissimilar material and size are tied together ... https://t.co/j73o2r3rI5',\n",
       " 'What the @NatlParkService Alliance Means for Scouting https://t.co/0vXAEzRQQU https://t.co/4eVIks2ma2',\n",
       " 'OK, we get it now. Happy Mar10 day! https://t.co/n7tE103LCX',\n",
       " \"#JokeOfTheDay: 20 dental funnies. (If you can't laugh at your dentist, who can you laugh at?)… https://t.co/zttroEZBp5\",\n",
       " '4 Reasons Parents Love STEM as Much as Kids https://t.co/45ZLk3UI8u https://t.co/gPih8eAXwl',\n",
       " 'BL reviews 5 fun backyard games https://t.co/O2FFNdgQqn',\n",
       " 'STEM camps and events around the nation https://t.co/iGooaKjfDm',\n",
       " 'This Simple Spray Can Save the Lives of Cyclists, Pedestrians https://t.co/kQE5oURIEz https://t.co/oyq45qGZft',\n",
       " '12 Purr-fectly Interesting Cat Facts https://t.co/Dht75ZPrNn',\n",
       " '#BLWorkshop: Special from the BL GYM ... How to Build a Balance Board https://t.co/O18083EUsS https://t.co/8ZdoeFdo6L',\n",
       " 'Who Said It? A Superhero or\\xa0Baden-Powell? https://t.co/zROANis5Mg',\n",
       " 'Try your hand at this fun, easy little doodle and maybe change it up to make it your own. https://t.co/6XnoEXa07w',\n",
       " 'This is what the first houses on Mars will probably look like https://t.co/9IxPxxjcue https://t.co/Twh527puUN',\n",
       " 'Michael Jordan could jump higher than your house https://t.co/HFVn1M21tj',\n",
       " 'How he stays in super shape... https://t.co/zL1JJyglZH',\n",
       " 'Scuba Diving With Gentle Giants https://t.co/cXz0w7WXNF https://t.co/97Mr05GK5X',\n",
       " 'The Exploring Sales Tools Your Council Needs In 2017 https://t.co/RTAJfcxGUq https://t.co/JQSsiiSTSQ',\n",
       " 'Improve Your Chess Skills With These 9 Expert\\xa0Tips https://t.co/Ngi1rkSNS5',\n",
       " '10 Scouts Report BSA’s Impact on Communities and Youth to Washington Officials https://t.co/CRjPVekxJ5',\n",
       " 'Get Geared Up for the National Jamboree at https://t.co/aOvfNS3ikB https://t.co/v4M74YyyAQ https://t.co/SikAwbNGfa',\n",
       " 'Making pinewood derby wheels at a factory in South Bend, Indiana ... https://t.co/xAVbrc7yto',\n",
       " '20 funny jokes in honor of #NationalDentistDay https://t.co/UykpDGXkCN',\n",
       " 'Is the Pinewood Derby a Tradition in Your Family? To This Family It Is! https://t.co/gj38Uk8JSP https://t.co/2QOuv83WmK',\n",
       " 'Challenge yourself with a camp-cooking crossword puzzle https://t.co/e9XH88leR0',\n",
       " 'Happy #NationalOreoCookieDay! https://t.co/ZA0Hsq1N1N',\n",
       " \"Use this knot for tying a tent's guy lines to a stake. If you need to tighten or loosen the guy line, just slide... https://t.co/mz3k3BzTSO\",\n",
       " 'A Scout is reverent... https://t.co/AExj9t7CuK',\n",
       " 'Find Pedro and enter at https://t.co/9sr2BFxNjT ... https://t.co/EWkKqxJH5g',\n",
       " 'Exciting news! Great-looking knives! https://t.co/rAyjRUFqal',\n",
       " \"The big Iditarod sled dog race starts tomorrow. Meet some of the canine athletes on Eagle Scout Matt Failor's team. https://t.co/Vcy1XAMvfG\",\n",
       " '#GearGuy: Keep Smellables Out of Your Tent https://t.co/tx3ewcHe0J https://t.co/GIpwLYifJu',\n",
       " 'Meteorite fragment contains bizarre crystals never seen before in nature https://t.co/ozgWEDC7nV https://t.co/lq1xEioOmD',\n",
       " 'On this day in 1931, \"The Star-Spangled Banner\" became the national anthem. https://t.co/lY7ftfg4ni',\n",
       " 'Want to Succeed in 2017? Every Council Will Need This Tool to Do It. https://t.co/WiwgqNIjjp',\n",
       " 'Watch us read Dr. Seuss books on his birthday! https://t.co/wHE1mbe7QL',\n",
       " 'Ice-Climbing Time! https://t.co/S7hYZgQ0qX https://t.co/y29KIun37H',\n",
       " \"Happy #DrSeuss Day! Did you know Dr. Seuss was a Boy Scout, and two of his photos won a Boys' Life magazine photo... https://t.co/LCM8oIbNe5\",\n",
       " 'Have a grand time at Camp Raymond, Grand Canyon Council https://t.co/rgp02IVb3Z',\n",
       " 'The Video Game History Quiz https://t.co/1sZmHQf8iM https://t.co/FSYGzyWk6C',\n",
       " '5 reasons why the new Nintendo Switch console is much better than the Wii U https://t.co/TGcHXWJENU',\n",
       " '5 surprising facts about spider monkeys https://t.co/eB1GsNEt0z https://t.co/GTsAVZicv8',\n",
       " 'Three Eagle Scout Brothers Earn All Merit Badges https://t.co/dJ4Ocd7awR',\n",
       " 'Happy 145th birthday to Yellowstone National Park! Established March 1, 1872. https://t.co/gSnRYbNEas',\n",
       " 'The first national park was born 145 years ago today. Here are 7 facts about @YellowstoneNPS… https://t.co/pONIoJ1V0Z',\n",
       " \"We can't decide. Is this awesome or ridiculous? https://t.co/x2jchFOuya\",\n",
       " 'An Eagle Scout in action! @scouting @boyscouts https://t.co/EIkIzrkvIO',\n",
       " 'Painting tips to make your pinewood car look awesome ... https://t.co/xSX9lYyK1y',\n",
       " 'How does a good friend of BL play in the snow? By making snowburros, of course! https://t.co/IhFRhDMp5e',\n",
       " 'When you think @BechtelSummit, do you think #fishing? You should! https://t.co/B5WDoTS5Ad https://t.co/RlkmZArnXE',\n",
       " 'What happens when we let Pedro the Mailburro loose to interview @BSAchief Mike Surbaugh? https://t.co/eHv74GEoMj… https://t.co/AsNnf9FU2h',\n",
       " '\"I always knew that they would get tired of eating grass someday.\" https://t.co/jmmqvVjcci',\n",
       " '#BLWorkshop: How to make a balloon-powered hovercraft https://t.co/ZIydRoKPo7 https://t.co/ME5yJjGpJC',\n",
       " 'Fold This Origami #StarWars X-wing Starfighter https://t.co/uuOrs2MmA2 https://t.co/z34VVf4RVp']"
      ]
     },
     "execution_count": 27,
     "metadata": {},
     "output_type": "execute_result"
    }
   ],
   "source": [
    "texts"
   ]
  }
 ],
 "metadata": {
  "kernelspec": {
   "display_name": "Python [conda env:py352]",
   "language": "python",
   "name": "conda-env-py352-py"
  },
  "language_info": {
   "codemirror_mode": {
    "name": "ipython",
    "version": 3
   },
   "file_extension": ".py",
   "mimetype": "text/x-python",
   "name": "python",
   "nbconvert_exporter": "python",
   "pygments_lexer": "ipython3",
   "version": "3.5.2"
  }
 },
 "nbformat": 4,
 "nbformat_minor": 2
}
