{
 "cells": [
  {
   "cell_type": "markdown",
   "metadata": {},
   "source": [
    "# Create PostgreSQL Database of Historic Data"
   ]
  },
  {
   "cell_type": "markdown",
   "metadata": {},
   "source": [
    "### Imports & Versions"
   ]
  },
  {
   "cell_type": "code",
   "execution_count": 4,
   "metadata": {
    "collapsed": false
   },
   "outputs": [
    {
     "name": "stdout",
     "output_type": "stream",
     "text": [
      "ujson v.1.35\n",
      "pandas v.0.19.2\n",
      "SqlAlchemy v.1.1.5\n"
     ]
    }
   ],
   "source": [
    "import ujson\n",
    "print(\"ujson v.{}\".format(ujson.__version__))\n",
    "\n",
    "import pandas as pd\n",
    "print(\"pandas v.{}\".format(pd.__version__))\n",
    "\n",
    "import sqlalchemy\n",
    "print(\"SqlAlchemy v.{}\".format(sqlalchemy.__version__))"
   ]
  },
  {
   "cell_type": "markdown",
   "metadata": {},
   "source": [
    "### Open PostgreSQL Credentials from local file"
   ]
  },
  {
   "cell_type": "code",
   "execution_count": 7,
   "metadata": {
    "collapsed": true
   },
   "outputs": [],
   "source": [
    "credentials = ujson.load(open(\"D:\\\\Python\\\\posgresql_credentials.json\",\"r\"))"
   ]
  },
  {
   "cell_type": "code",
   "execution_count": 8,
   "metadata": {
    "collapsed": false
   },
   "outputs": [
    {
     "data": {
      "text/plain": [
       "['temp_db_rental', 'ncaa_mbb']"
      ]
     },
     "execution_count": 8,
     "metadata": {},
     "output_type": "execute_result"
    }
   ],
   "source": [
    "#availible databases\n",
    "credentials['databases']"
   ]
  },
  {
   "cell_type": "markdown",
   "metadata": {},
   "source": [
    "### Define Function to Connect to Database"
   ]
  },
  {
   "cell_type": "code",
   "execution_count": 9,
   "metadata": {
    "collapsed": true
   },
   "outputs": [],
   "source": [
    "def pg_connect(user, password, db, host='localhost',port=5432):\n",
    "    '''Returns a connection and metada SqlAlchemy Object'''\n",
    "    url = 'postgresql://{}:{}@{}:{}/{}'\n",
    "    url = url.format(user, password, host, port, db)\n",
    "    engine = sqlalchemy.create_engine(url, client_encoding = 'utf8')\n",
    "    meta = sqlalchemy.MetaData()#bind = con, reflect = True)\n",
    "    \n",
    "    return (engine, meta)"
   ]
  },
  {
   "cell_type": "markdown",
   "metadata": {},
   "source": [
    "### Create the engine/con, meta and connection objects"
   ]
  },
  {
   "cell_type": "code",
   "execution_count": 10,
   "metadata": {
    "collapsed": true
   },
   "outputs": [],
   "source": [
    "engine, meta = pg_connect(credentials['user'],\n",
    "                       credentials['password'],\n",
    "                       credentials['databases'][1])\n",
    "connection = engine.connect()"
   ]
  },
  {
   "cell_type": "code",
   "execution_count": 12,
   "metadata": {
    "collapsed": false
   },
   "outputs": [
    {
     "name": "stdout",
     "output_type": "stream",
     "text": [
      "[]\n"
     ]
    }
   ],
   "source": [
    "#existing tables\n",
    "print(engine.table_names())"
   ]
  },
  {
   "cell_type": "markdown",
   "metadata": {},
   "source": [
    "### Create Blank Table for Teams"
   ]
  },
  {
   "cell_type": "code",
   "execution_count": 13,
   "metadata": {
    "collapsed": true
   },
   "outputs": [],
   "source": [
    "#Create Team Table (blank)\n",
    "teams = sqlalchemy.Table('teams', meta,\n",
    "                        sqlalchemy.Column('team_id', sqlalchemy.String, primary_key = True),\n",
    "                        sqlalchemy.Column('team_name', sqlalchemy.String))\n",
    "meta.create_all(engine)"
   ]
  },
  {
   "cell_type": "code",
   "execution_count": 14,
   "metadata": {
    "collapsed": false
   },
   "outputs": [
    {
     "name": "stdout",
     "output_type": "stream",
     "text": [
      "['teams']\n"
     ]
    }
   ],
   "source": [
    "#ensure the table was created\n",
    "print(engine.table_names())"
   ]
  },
  {
   "cell_type": "markdown",
   "metadata": {},
   "source": [
    "### Create Blank Table for Seeds"
   ]
  },
  {
   "cell_type": "code",
   "execution_count": 15,
   "metadata": {
    "collapsed": true
   },
   "outputs": [],
   "source": [
    "#Create Tournament Seed table (blank)\n",
    "tourney_seeds = sqlalchemy.Table('tourney_seeds',meta,\n",
    "                                 sqlalchemy.Column('season', sqlalchemy.String),\n",
    "                                 sqlalchemy.Column('seed', sqlalchemy.String),\n",
    "                                 sqlalchemy.Column('team',sqlalchemy.String, sqlalchemy.ForeignKey('teams.team_id')))\n",
    "meta.create_all(engine)"
   ]
  },
  {
   "cell_type": "code",
   "execution_count": 16,
   "metadata": {
    "collapsed": false
   },
   "outputs": [
    {
     "name": "stdout",
     "output_type": "stream",
     "text": [
      "['teams', 'tourney_seeds']\n"
     ]
    }
   ],
   "source": [
    "print(engine.table_names())"
   ]
  },
  {
   "cell_type": "markdown",
   "metadata": {},
   "source": [
    "### Pull Team Data into Dataframe from local .csv File"
   ]
  },
  {
   "cell_type": "code",
   "execution_count": 17,
   "metadata": {
    "collapsed": true
   },
   "outputs": [],
   "source": [
    "#Path to .csv files that contain the data to be added to these tables\n",
    "file_path = \"D:\\\\_data_science_data\\\\2017_march_madness\\\\tourney17\\\\\"\n",
    "#files: TourneySeeds.csv; Teams.csv"
   ]
  },
  {
   "cell_type": "code",
   "execution_count": 24,
   "metadata": {
    "collapsed": false
   },
   "outputs": [
    {
     "data": {
      "text/html": [
       "<div>\n",
       "<table border=\"1\" class=\"dataframe\">\n",
       "  <thead>\n",
       "    <tr style=\"text-align: right;\">\n",
       "      <th></th>\n",
       "      <th>team_id</th>\n",
       "      <th>team_name</th>\n",
       "    </tr>\n",
       "  </thead>\n",
       "  <tbody>\n",
       "    <tr>\n",
       "      <th>0</th>\n",
       "      <td>1101</td>\n",
       "      <td>Abilene Chr</td>\n",
       "    </tr>\n",
       "    <tr>\n",
       "      <th>1</th>\n",
       "      <td>1102</td>\n",
       "      <td>Air Force</td>\n",
       "    </tr>\n",
       "    <tr>\n",
       "      <th>2</th>\n",
       "      <td>1103</td>\n",
       "      <td>Akron</td>\n",
       "    </tr>\n",
       "    <tr>\n",
       "      <th>3</th>\n",
       "      <td>1104</td>\n",
       "      <td>Alabama</td>\n",
       "    </tr>\n",
       "    <tr>\n",
       "      <th>4</th>\n",
       "      <td>1105</td>\n",
       "      <td>Alabama A&amp;M</td>\n",
       "    </tr>\n",
       "  </tbody>\n",
       "</table>\n",
       "</div>"
      ],
      "text/plain": [
       "   team_id    team_name\n",
       "0     1101  Abilene Chr\n",
       "1     1102    Air Force\n",
       "2     1103        Akron\n",
       "3     1104      Alabama\n",
       "4     1105  Alabama A&M"
      ]
     },
     "execution_count": 24,
     "metadata": {},
     "output_type": "execute_result"
    }
   ],
   "source": [
    "#Load Teams dataframe\n",
    "teams_df = pd.read_csv(file_path+'Teams.csv')\n",
    "teams_df = teams_df.rename(index = str, columns = {'Team_Id':'team_id', 'Team_Name':'team_name'})\n",
    "teams_df.head()"
   ]
  },
  {
   "cell_type": "markdown",
   "metadata": {},
   "source": [
    "### Append Data from Teams DataFrame to existing PostgreSQL Table"
   ]
  },
  {
   "cell_type": "code",
   "execution_count": 25,
   "metadata": {
    "collapsed": false
   },
   "outputs": [],
   "source": [
    "#insert data into existing table by appending it to the end\n",
    "teams_df.to_sql('teams', engine, if_exists = 'append', index = False)"
   ]
  },
  {
   "cell_type": "code",
   "execution_count": 26,
   "metadata": {
    "collapsed": false
   },
   "outputs": [
    {
     "name": "stdout",
     "output_type": "stream",
     "text": [
      "('1101', 'Abilene Chr')\n",
      "('1102', 'Air Force')\n",
      "('1103', 'Akron')\n",
      "('1104', 'Alabama')\n",
      "('1105', 'Alabama A&M')\n",
      "('1106', 'Alabama St')\n"
     ]
    }
   ],
   "source": [
    "#Validate insertion by running select statemnt against table\n",
    "stmt = 'SELECT * FROM teams LIMIT 6'\n",
    "res_proxy = connection.execute(stmt)\n",
    "results = res_proxy.fetchall()\n",
    "for res in results:\n",
    "    print(res)"
   ]
  },
  {
   "cell_type": "markdown",
   "metadata": {},
   "source": [
    "### Pull Seed Data into DataFrame from local .csv File"
   ]
  },
  {
   "cell_type": "code",
   "execution_count": 29,
   "metadata": {
    "collapsed": false
   },
   "outputs": [
    {
     "data": {
      "text/html": [
       "<div>\n",
       "<table border=\"1\" class=\"dataframe\">\n",
       "  <thead>\n",
       "    <tr style=\"text-align: right;\">\n",
       "      <th></th>\n",
       "      <th>season</th>\n",
       "      <th>seed</th>\n",
       "      <th>team</th>\n",
       "    </tr>\n",
       "  </thead>\n",
       "  <tbody>\n",
       "    <tr>\n",
       "      <th>0</th>\n",
       "      <td>1985</td>\n",
       "      <td>W01</td>\n",
       "      <td>1207</td>\n",
       "    </tr>\n",
       "    <tr>\n",
       "      <th>1</th>\n",
       "      <td>1985</td>\n",
       "      <td>W02</td>\n",
       "      <td>1210</td>\n",
       "    </tr>\n",
       "    <tr>\n",
       "      <th>2</th>\n",
       "      <td>1985</td>\n",
       "      <td>W03</td>\n",
       "      <td>1228</td>\n",
       "    </tr>\n",
       "    <tr>\n",
       "      <th>3</th>\n",
       "      <td>1985</td>\n",
       "      <td>W04</td>\n",
       "      <td>1260</td>\n",
       "    </tr>\n",
       "    <tr>\n",
       "      <th>4</th>\n",
       "      <td>1985</td>\n",
       "      <td>W05</td>\n",
       "      <td>1374</td>\n",
       "    </tr>\n",
       "  </tbody>\n",
       "</table>\n",
       "</div>"
      ],
      "text/plain": [
       "   season seed  team\n",
       "0    1985  W01  1207\n",
       "1    1985  W02  1210\n",
       "2    1985  W03  1228\n",
       "3    1985  W04  1260\n",
       "4    1985  W05  1374"
      ]
     },
     "execution_count": 29,
     "metadata": {},
     "output_type": "execute_result"
    }
   ],
   "source": [
    "#Load Seeds dataframe\n",
    "seeds_df = pd.read_csv(file_path+'TourneySeeds.csv')\n",
    "seeds_df = seeds_df.rename(index = str, columns = {'Season':'season', 'Seed':'seed', 'Team':'team'})\n",
    "seeds_df.head()"
   ]
  },
  {
   "cell_type": "markdown",
   "metadata": {},
   "source": [
    "### Append Data from Seed DataFrame to existing PostgreSQL Table"
   ]
  },
  {
   "cell_type": "code",
   "execution_count": 30,
   "metadata": {
    "collapsed": true
   },
   "outputs": [],
   "source": [
    "#insert data into existing table by appending it to the end\n",
    "seeds_df.to_sql('tourney_seeds', engine, if_exists = 'append', index = False)"
   ]
  },
  {
   "cell_type": "code",
   "execution_count": 31,
   "metadata": {
    "collapsed": false
   },
   "outputs": [
    {
     "name": "stdout",
     "output_type": "stream",
     "text": [
      "('1985', 'W01', '1207')\n",
      "('1985', 'W02', '1210')\n",
      "('1985', 'W03', '1228')\n",
      "('1985', 'W04', '1260')\n",
      "('1985', 'W05', '1374')\n",
      "('1985', 'W06', '1208')\n"
     ]
    }
   ],
   "source": [
    "#Validate insertion by running select statemnt against table\n",
    "stmt = 'SELECT * FROM tourney_seeds LIMIT 6'\n",
    "res_proxy = connection.execute(stmt)\n",
    "results = res_proxy.fetchall()\n",
    "for res in results:\n",
    "    print(res)"
   ]
  },
  {
   "cell_type": "markdown",
   "metadata": {},
   "source": [
    "### Validate Keys in Table(s) by pulling a Select with a join"
   ]
  },
  {
   "cell_type": "code",
   "execution_count": 32,
   "metadata": {
    "collapsed": false
   },
   "outputs": [
    {
     "name": "stdout",
     "output_type": "stream",
     "text": [
      "('1985', 'W01', 'Georgetown')\n",
      "('1985', 'W02', 'Georgia Tech')\n",
      "('1985', 'W03', 'Illinois')\n",
      "('1985', 'W04', 'Loyola-Chicago')\n",
      "('1985', 'W05', 'SMU')\n",
      "('1985', 'W06', 'Georgia')\n"
     ]
    }
   ],
   "source": [
    "#Validate insertion by running select statemnt against table\n",
    "stmt = 'SELECT tourney_seeds.season, tourney_seeds.seed, teams.team_name \\\n",
    "        FROM tourney_seeds \\\n",
    "        INNER JOIN teams \\\n",
    "        ON tourney_seeds.team=teams.team_id \\\n",
    "        LIMIT 6'\n",
    "res_proxy = connection.execute(stmt)\n",
    "results = res_proxy.fetchall()\n",
    "for res in results:\n",
    "    print(res)"
   ]
  },
  {
   "cell_type": "markdown",
   "metadata": {},
   "source": [
    "### Disconnect From Database when done"
   ]
  },
  {
   "cell_type": "code",
   "execution_count": 33,
   "metadata": {
    "collapsed": true
   },
   "outputs": [],
   "source": [
    "connection.close()"
   ]
  }
 ],
 "metadata": {
  "kernelspec": {
   "display_name": "Python [conda env:py352]",
   "language": "python",
   "name": "conda-env-py352-py"
  },
  "language_info": {
   "codemirror_mode": {
    "name": "ipython",
    "version": 3
   },
   "file_extension": ".py",
   "mimetype": "text/x-python",
   "name": "python",
   "nbconvert_exporter": "python",
   "pygments_lexer": "ipython3",
   "version": "3.5.2"
  }
 },
 "nbformat": 4,
 "nbformat_minor": 1
}
