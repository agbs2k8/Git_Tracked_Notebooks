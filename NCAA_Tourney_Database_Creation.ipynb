{
 "cells": [
  {
   "cell_type": "markdown",
   "metadata": {},
   "source": [
    "# Create PostgreSQL Database of NCAA Men's Basketball Historic Data\n",
    "![](http://localhost:8888/tree/00_public/000_Git_Tracked_Notebooks/Git_Tracked_Notebooks/phx-final-four-logo.jpg)"
   ]
  },
  {
   "cell_type": "markdown",
   "metadata": {},
   "source": [
    "#### Imports & Versions"
   ]
  },
  {
   "cell_type": "code",
   "execution_count": 1,
   "metadata": {
    "collapsed": false
   },
   "outputs": [
    {
     "name": "stdout",
     "output_type": "stream",
     "text": [
      "ujson v.1.35\n",
      "pandas v.0.19.2\n",
      "SqlAlchemy v.1.1.5\n"
     ]
    }
   ],
   "source": [
    "import ujson\n",
    "print(\"ujson v.{}\".format(ujson.__version__))\n",
    "\n",
    "import pandas as pd\n",
    "print(\"pandas v.{}\".format(pd.__version__))\n",
    "\n",
    "import sqlalchemy\n",
    "print(\"SqlAlchemy v.{}\".format(sqlalchemy.__version__))"
   ]
  },
  {
   "cell_type": "code",
   "execution_count": 6,
   "metadata": {
    "collapsed": true
   },
   "outputs": [],
   "source": [
    "#Path to .csv files that contain the data to be added\n",
    "file_path = \"D:\\\\_data_science_data\\\\2017_march_madness\\\\tourney17\\\\\""
   ]
  },
  {
   "cell_type": "markdown",
   "metadata": {},
   "source": [
    "### Open PostgreSQL Credentials from local file"
   ]
  },
  {
   "cell_type": "code",
   "execution_count": 2,
   "metadata": {
    "collapsed": true
   },
   "outputs": [],
   "source": [
    "credentials = ujson.load(open(\"D:\\\\Python\\\\posgresql_credentials.json\",\"r\"))"
   ]
  },
  {
   "cell_type": "code",
   "execution_count": 3,
   "metadata": {
    "collapsed": false
   },
   "outputs": [
    {
     "data": {
      "text/plain": [
       "['temp_db_rental', 'ncaa_mbb']"
      ]
     },
     "execution_count": 3,
     "metadata": {},
     "output_type": "execute_result"
    }
   ],
   "source": [
    "#availible databases\n",
    "credentials['databases']"
   ]
  },
  {
   "cell_type": "markdown",
   "metadata": {},
   "source": [
    "### Define Function to Connect to Database"
   ]
  },
  {
   "cell_type": "code",
   "execution_count": 26,
   "metadata": {
    "collapsed": true
   },
   "outputs": [],
   "source": [
    "def pg_connect(user, password, db, host='localhost',port=5432):\n",
    "    '''Returns a connection and metada SqlAlchemy Object'''\n",
    "    url = 'postgresql://{}:{}@{}:{}/{}'\n",
    "    url = url.format(user, password, host, port, db)\n",
    "    engine = sqlalchemy.create_engine(url, client_encoding = 'utf8')\n",
    "    meta = sqlalchemy.MetaData()#bind = con, reflect = True)\n",
    "    \n",
    "    return (engine, meta)"
   ]
  },
  {
   "cell_type": "markdown",
   "metadata": {},
   "source": [
    "### Create the engine/con, meta and connection objects"
   ]
  },
  {
   "cell_type": "code",
   "execution_count": 27,
   "metadata": {
    "collapsed": false
   },
   "outputs": [],
   "source": [
    "engine, meta = pg_connect(credentials['user'],\n",
    "                       credentials['password'],\n",
    "                       credentials['databases'][1])\n",
    "connection = engine.connect()"
   ]
  },
  {
   "cell_type": "markdown",
   "metadata": {},
   "source": [
    "### Create Blank Table for Teams"
   ]
  },
  {
   "cell_type": "code",
   "execution_count": 13,
   "metadata": {
    "collapsed": true
   },
   "outputs": [],
   "source": [
    "#Create Team Table (blank)\n",
    "#teams = sqlalchemy.Table('teams', meta,\n",
    "#                        sqlalchemy.Column('team_id', sqlalchemy.String, primary_key = True),\n",
    "#                        sqlalchemy.Column('team_name', sqlalchemy.String))\n",
    "#meta.create_all(engine)"
   ]
  },
  {
   "cell_type": "code",
   "execution_count": 14,
   "metadata": {
    "collapsed": false
   },
   "outputs": [
    {
     "name": "stdout",
     "output_type": "stream",
     "text": [
      "['teams']\n"
     ]
    }
   ],
   "source": [
    "#ensure the table was created\n",
    "#print(engine.table_names())"
   ]
  },
  {
   "cell_type": "markdown",
   "metadata": {},
   "source": [
    "### Create Blank Table for Seeds"
   ]
  },
  {
   "cell_type": "code",
   "execution_count": 15,
   "metadata": {
    "collapsed": true
   },
   "outputs": [],
   "source": [
    "#Create Tournament Seed table (blank)\n",
    "#tourney_seeds = sqlalchemy.Table('tourney_seeds',meta,\n",
    "#                                 sqlalchemy.Column('season', sqlalchemy.String),\n",
    "#                                 sqlalchemy.Column('seed', sqlalchemy.String),\n",
    "#                                 sqlalchemy.Column('team',sqlalchemy.String, sqlalchemy.ForeignKey('teams.team_id')))\n",
    "#meta.create_all(engine)"
   ]
  },
  {
   "cell_type": "code",
   "execution_count": 11,
   "metadata": {
    "collapsed": false
   },
   "outputs": [
    {
     "name": "stdout",
     "output_type": "stream",
     "text": [
      "['teams', 'tourney_seeds']\n"
     ]
    }
   ],
   "source": [
    "#print(engine.table_names())"
   ]
  },
  {
   "cell_type": "markdown",
   "metadata": {},
   "source": [
    "### Pull Team Data into Dataframe from local .csv File"
   ]
  },
  {
   "cell_type": "code",
   "execution_count": 24,
   "metadata": {
    "collapsed": false
   },
   "outputs": [
    {
     "data": {
      "text/html": [
       "<div>\n",
       "<table border=\"1\" class=\"dataframe\">\n",
       "  <thead>\n",
       "    <tr style=\"text-align: right;\">\n",
       "      <th></th>\n",
       "      <th>team_id</th>\n",
       "      <th>team_name</th>\n",
       "    </tr>\n",
       "  </thead>\n",
       "  <tbody>\n",
       "    <tr>\n",
       "      <th>0</th>\n",
       "      <td>1101</td>\n",
       "      <td>Abilene Chr</td>\n",
       "    </tr>\n",
       "    <tr>\n",
       "      <th>1</th>\n",
       "      <td>1102</td>\n",
       "      <td>Air Force</td>\n",
       "    </tr>\n",
       "    <tr>\n",
       "      <th>2</th>\n",
       "      <td>1103</td>\n",
       "      <td>Akron</td>\n",
       "    </tr>\n",
       "    <tr>\n",
       "      <th>3</th>\n",
       "      <td>1104</td>\n",
       "      <td>Alabama</td>\n",
       "    </tr>\n",
       "    <tr>\n",
       "      <th>4</th>\n",
       "      <td>1105</td>\n",
       "      <td>Alabama A&amp;M</td>\n",
       "    </tr>\n",
       "  </tbody>\n",
       "</table>\n",
       "</div>"
      ],
      "text/plain": [
       "   team_id    team_name\n",
       "0     1101  Abilene Chr\n",
       "1     1102    Air Force\n",
       "2     1103        Akron\n",
       "3     1104      Alabama\n",
       "4     1105  Alabama A&M"
      ]
     },
     "execution_count": 24,
     "metadata": {},
     "output_type": "execute_result"
    }
   ],
   "source": [
    "#Load Teams dataframe\n",
    "#teams_df = pd.read_csv(file_path+'Teams.csv')\n",
    "#teams_df = teams_df.rename(index = str, columns = {'Team_Id':'team_id', 'Team_Name':'team_name'})\n",
    "#teams_df.head()"
   ]
  },
  {
   "cell_type": "markdown",
   "metadata": {},
   "source": [
    "### Append Data from Teams DataFrame to existing PostgreSQL Table"
   ]
  },
  {
   "cell_type": "code",
   "execution_count": 25,
   "metadata": {
    "collapsed": false
   },
   "outputs": [],
   "source": [
    "#insert data into existing table by appending it to the end\n",
    "#teams_df.to_sql('teams', engine, if_exists = 'append', index = False)"
   ]
  },
  {
   "cell_type": "code",
   "execution_count": 26,
   "metadata": {
    "collapsed": false
   },
   "outputs": [
    {
     "name": "stdout",
     "output_type": "stream",
     "text": [
      "('1101', 'Abilene Chr')\n",
      "('1102', 'Air Force')\n",
      "('1103', 'Akron')\n",
      "('1104', 'Alabama')\n",
      "('1105', 'Alabama A&M')\n",
      "('1106', 'Alabama St')\n"
     ]
    }
   ],
   "source": [
    "#Validate insertion by running select statemnt against table\n",
    "stmt = 'SELECT * FROM teams LIMIT 6'\n",
    "res_proxy = connection.execute(stmt)\n",
    "results = res_proxy.fetchall()\n",
    "for res in results:\n",
    "    print(res)"
   ]
  },
  {
   "cell_type": "markdown",
   "metadata": {},
   "source": [
    "### Pull Seed Data into DataFrame from local .csv File"
   ]
  },
  {
   "cell_type": "code",
   "execution_count": 29,
   "metadata": {
    "collapsed": false
   },
   "outputs": [
    {
     "data": {
      "text/html": [
       "<div>\n",
       "<table border=\"1\" class=\"dataframe\">\n",
       "  <thead>\n",
       "    <tr style=\"text-align: right;\">\n",
       "      <th></th>\n",
       "      <th>season</th>\n",
       "      <th>seed</th>\n",
       "      <th>team</th>\n",
       "    </tr>\n",
       "  </thead>\n",
       "  <tbody>\n",
       "    <tr>\n",
       "      <th>0</th>\n",
       "      <td>1985</td>\n",
       "      <td>W01</td>\n",
       "      <td>1207</td>\n",
       "    </tr>\n",
       "    <tr>\n",
       "      <th>1</th>\n",
       "      <td>1985</td>\n",
       "      <td>W02</td>\n",
       "      <td>1210</td>\n",
       "    </tr>\n",
       "    <tr>\n",
       "      <th>2</th>\n",
       "      <td>1985</td>\n",
       "      <td>W03</td>\n",
       "      <td>1228</td>\n",
       "    </tr>\n",
       "    <tr>\n",
       "      <th>3</th>\n",
       "      <td>1985</td>\n",
       "      <td>W04</td>\n",
       "      <td>1260</td>\n",
       "    </tr>\n",
       "    <tr>\n",
       "      <th>4</th>\n",
       "      <td>1985</td>\n",
       "      <td>W05</td>\n",
       "      <td>1374</td>\n",
       "    </tr>\n",
       "  </tbody>\n",
       "</table>\n",
       "</div>"
      ],
      "text/plain": [
       "   season seed  team\n",
       "0    1985  W01  1207\n",
       "1    1985  W02  1210\n",
       "2    1985  W03  1228\n",
       "3    1985  W04  1260\n",
       "4    1985  W05  1374"
      ]
     },
     "execution_count": 29,
     "metadata": {},
     "output_type": "execute_result"
    }
   ],
   "source": [
    "#Load Seeds dataframe\n",
    "#seeds_df = pd.read_csv(file_path+'TourneySeeds.csv')\n",
    "#seeds_df = seeds_df.rename(index = str, columns = {'Season':'season', 'Seed':'seed', 'Team':'team'})\n",
    "#seeds_df.head()"
   ]
  },
  {
   "cell_type": "markdown",
   "metadata": {},
   "source": [
    "### Append Data from Seed DataFrame to existing PostgreSQL Table"
   ]
  },
  {
   "cell_type": "code",
   "execution_count": 30,
   "metadata": {
    "collapsed": true
   },
   "outputs": [],
   "source": [
    "#insert data into existing table by appending it to the end\n",
    "#seeds_df.to_sql('tourney_seeds', engine, if_exists = 'append', index = False)"
   ]
  },
  {
   "cell_type": "code",
   "execution_count": 31,
   "metadata": {
    "collapsed": false
   },
   "outputs": [
    {
     "name": "stdout",
     "output_type": "stream",
     "text": [
      "('1985', 'W01', '1207')\n",
      "('1985', 'W02', '1210')\n",
      "('1985', 'W03', '1228')\n",
      "('1985', 'W04', '1260')\n",
      "('1985', 'W05', '1374')\n",
      "('1985', 'W06', '1208')\n"
     ]
    }
   ],
   "source": [
    "#Validate insertion by running select statemnt against table\n",
    "stmt = 'SELECT * FROM tourney_seeds LIMIT 6'\n",
    "res_proxy = connection.execute(stmt)\n",
    "results = res_proxy.fetchall()\n",
    "for res in results:\n",
    "    print(res)"
   ]
  },
  {
   "cell_type": "markdown",
   "metadata": {},
   "source": [
    "### Validate Keys in Table(s) by pulling a Select with a join"
   ]
  },
  {
   "cell_type": "code",
   "execution_count": 32,
   "metadata": {
    "collapsed": false
   },
   "outputs": [
    {
     "name": "stdout",
     "output_type": "stream",
     "text": [
      "('1985', 'W01', 'Georgetown')\n",
      "('1985', 'W02', 'Georgia Tech')\n",
      "('1985', 'W03', 'Illinois')\n",
      "('1985', 'W04', 'Loyola-Chicago')\n",
      "('1985', 'W05', 'SMU')\n",
      "('1985', 'W06', 'Georgia')\n"
     ]
    }
   ],
   "source": [
    "#Validate insertion by running select statemnt against table\n",
    "stmt = 'SELECT tourney_seeds.season, tourney_seeds.seed, teams.team_name \\\n",
    "        FROM tourney_seeds \\\n",
    "        INNER JOIN teams \\\n",
    "        ON tourney_seeds.team=teams.team_id \\\n",
    "        LIMIT 6'\n",
    "res_proxy = connection.execute(stmt)\n",
    "results = res_proxy.fetchall()\n",
    "for res in results:\n",
    "    print(res)"
   ]
  },
  {
   "cell_type": "markdown",
   "metadata": {},
   "source": [
    "### Convert Select Statement Results into DataFrame"
   ]
  },
  {
   "cell_type": "code",
   "execution_count": 6,
   "metadata": {
    "collapsed": false
   },
   "outputs": [
    {
     "data": {
      "text/html": [
       "<div>\n",
       "<table border=\"1\" class=\"dataframe\">\n",
       "  <thead>\n",
       "    <tr style=\"text-align: right;\">\n",
       "      <th></th>\n",
       "      <th>season</th>\n",
       "      <th>seed</th>\n",
       "      <th>team_name</th>\n",
       "    </tr>\n",
       "  </thead>\n",
       "  <tbody>\n",
       "    <tr>\n",
       "      <th>0</th>\n",
       "      <td>1985</td>\n",
       "      <td>W01</td>\n",
       "      <td>Georgetown</td>\n",
       "    </tr>\n",
       "    <tr>\n",
       "      <th>1</th>\n",
       "      <td>1985</td>\n",
       "      <td>W02</td>\n",
       "      <td>Georgia Tech</td>\n",
       "    </tr>\n",
       "    <tr>\n",
       "      <th>2</th>\n",
       "      <td>1985</td>\n",
       "      <td>W03</td>\n",
       "      <td>Illinois</td>\n",
       "    </tr>\n",
       "    <tr>\n",
       "      <th>3</th>\n",
       "      <td>1985</td>\n",
       "      <td>W04</td>\n",
       "      <td>Loyola-Chicago</td>\n",
       "    </tr>\n",
       "    <tr>\n",
       "      <th>4</th>\n",
       "      <td>1985</td>\n",
       "      <td>W05</td>\n",
       "      <td>SMU</td>\n",
       "    </tr>\n",
       "  </tbody>\n",
       "</table>\n",
       "</div>"
      ],
      "text/plain": [
       "  season seed       team_name\n",
       "0   1985  W01      Georgetown\n",
       "1   1985  W02    Georgia Tech\n",
       "2   1985  W03        Illinois\n",
       "3   1985  W04  Loyola-Chicago\n",
       "4   1985  W05             SMU"
      ]
     },
     "execution_count": 6,
     "metadata": {},
     "output_type": "execute_result"
    }
   ],
   "source": [
    "stmt = 'SELECT tourney_seeds.season, tourney_seeds.seed, teams.team_name \\\n",
    "        FROM tourney_seeds \\\n",
    "        INNER JOIN teams \\\n",
    "        ON tourney_seeds.team=teams.team_id'\n",
    "\n",
    "res_proxy = connection.execute(stmt)\n",
    "\n",
    "query_df = pd.DataFrame(res_proxy.fetchall())\n",
    "query_df.columns = res_proxy.keys()\n",
    "query_df.head()"
   ]
  },
  {
   "cell_type": "markdown",
   "metadata": {},
   "source": [
    "### Add remaining .CSV files to PostgreSQL Database as is"
   ]
  },
  {
   "cell_type": "code",
   "execution_count": 10,
   "metadata": {
    "collapsed": false
   },
   "outputs": [
    {
     "data": {
      "text/html": [
       "<div>\n",
       "<table border=\"1\" class=\"dataframe\">\n",
       "  <thead>\n",
       "    <tr style=\"text-align: right;\">\n",
       "      <th></th>\n",
       "      <th>season</th>\n",
       "      <th>team_id</th>\n",
       "      <th>conference</th>\n",
       "    </tr>\n",
       "  </thead>\n",
       "  <tbody>\n",
       "    <tr>\n",
       "      <th>0</th>\n",
       "      <td>1985</td>\n",
       "      <td>1114</td>\n",
       "      <td>a_sun</td>\n",
       "    </tr>\n",
       "    <tr>\n",
       "      <th>1</th>\n",
       "      <td>1985</td>\n",
       "      <td>1147</td>\n",
       "      <td>a_sun</td>\n",
       "    </tr>\n",
       "    <tr>\n",
       "      <th>2</th>\n",
       "      <td>1985</td>\n",
       "      <td>1204</td>\n",
       "      <td>a_sun</td>\n",
       "    </tr>\n",
       "    <tr>\n",
       "      <th>3</th>\n",
       "      <td>1985</td>\n",
       "      <td>1209</td>\n",
       "      <td>a_sun</td>\n",
       "    </tr>\n",
       "    <tr>\n",
       "      <th>4</th>\n",
       "      <td>1985</td>\n",
       "      <td>1215</td>\n",
       "      <td>a_sun</td>\n",
       "    </tr>\n",
       "  </tbody>\n",
       "</table>\n",
       "</div>"
      ],
      "text/plain": [
       "   season  team_id conference\n",
       "0    1985     1114      a_sun\n",
       "1    1985     1147      a_sun\n",
       "2    1985     1204      a_sun\n",
       "3    1985     1209      a_sun\n",
       "4    1985     1215      a_sun"
      ]
     },
     "execution_count": 10,
     "metadata": {},
     "output_type": "execute_result"
    }
   ],
   "source": [
    "#TeamConferences_Thru2017.csv - season, team_id, conference\n",
    "#conferences_df = pd.read_csv(file_path+'TeamConferences_Thru2017.csv')\n",
    "#conferences_df.head()"
   ]
  },
  {
   "cell_type": "code",
   "execution_count": 8,
   "metadata": {
    "collapsed": false
   },
   "outputs": [],
   "source": [
    "#team_conferences = sqlalchemy.Table('team_conferences',meta,\n",
    "#                                 sqlalchemy.Column('season', sqlalchemy.String),\n",
    "#                                 sqlalchemy.Column('team_id', sqlalchemy.String),\n",
    "#                                 sqlalchemy.Column('conference',sqlalchemy.String))\n",
    "#meta.create_all(engine)"
   ]
  },
  {
   "cell_type": "code",
   "execution_count": 11,
   "metadata": {
    "collapsed": false
   },
   "outputs": [],
   "source": [
    "#conferences_df.to_sql('team_conferences', engine, if_exists = 'append', index = False)"
   ]
  },
  {
   "cell_type": "code",
   "execution_count": 13,
   "metadata": {
    "collapsed": false
   },
   "outputs": [
    {
     "data": {
      "text/html": [
       "<div>\n",
       "<table border=\"1\" class=\"dataframe\">\n",
       "  <thead>\n",
       "    <tr style=\"text-align: right;\">\n",
       "      <th></th>\n",
       "      <th>season</th>\n",
       "      <th>team_id</th>\n",
       "      <th>conference</th>\n",
       "    </tr>\n",
       "  </thead>\n",
       "  <tbody>\n",
       "    <tr>\n",
       "      <th>0</th>\n",
       "      <td>1985</td>\n",
       "      <td>1114</td>\n",
       "      <td>a_sun</td>\n",
       "    </tr>\n",
       "    <tr>\n",
       "      <th>1</th>\n",
       "      <td>1985</td>\n",
       "      <td>1147</td>\n",
       "      <td>a_sun</td>\n",
       "    </tr>\n",
       "    <tr>\n",
       "      <th>2</th>\n",
       "      <td>1985</td>\n",
       "      <td>1204</td>\n",
       "      <td>a_sun</td>\n",
       "    </tr>\n",
       "    <tr>\n",
       "      <th>3</th>\n",
       "      <td>1985</td>\n",
       "      <td>1209</td>\n",
       "      <td>a_sun</td>\n",
       "    </tr>\n",
       "    <tr>\n",
       "      <th>4</th>\n",
       "      <td>1985</td>\n",
       "      <td>1215</td>\n",
       "      <td>a_sun</td>\n",
       "    </tr>\n",
       "  </tbody>\n",
       "</table>\n",
       "</div>"
      ],
      "text/plain": [
       "  season team_id conference\n",
       "0   1985    1114      a_sun\n",
       "1   1985    1147      a_sun\n",
       "2   1985    1204      a_sun\n",
       "3   1985    1209      a_sun\n",
       "4   1985    1215      a_sun"
      ]
     },
     "execution_count": 13,
     "metadata": {},
     "output_type": "execute_result"
    }
   ],
   "source": [
    "stmt = 'SELECT * FROM team_conferences LIMIT 5'\n",
    "\n",
    "res_proxy = connection.execute(stmt)\n",
    "\n",
    "query_df = pd.DataFrame(res_proxy.fetchall())\n",
    "query_df.columns = res_proxy.keys()\n",
    "query_df"
   ]
  },
  {
   "cell_type": "code",
   "execution_count": 16,
   "metadata": {
    "collapsed": false
   },
   "outputs": [
    {
     "data": {
      "text/html": [
       "<div>\n",
       "<table border=\"1\" class=\"dataframe\">\n",
       "  <thead>\n",
       "    <tr style=\"text-align: right;\">\n",
       "      <th></th>\n",
       "      <th>season</th>\n",
       "      <th>daynum</th>\n",
       "      <th>wteam</th>\n",
       "      <th>lteam</th>\n",
       "      <th>slot</th>\n",
       "      <th>host</th>\n",
       "      <th>lat</th>\n",
       "      <th>lon</th>\n",
       "    </tr>\n",
       "  </thead>\n",
       "  <tbody>\n",
       "    <tr>\n",
       "      <th>0</th>\n",
       "      <td>1985</td>\n",
       "      <td>136</td>\n",
       "      <td>1207</td>\n",
       "      <td>1250</td>\n",
       "      <td>R1W1</td>\n",
       "      <td>hartford</td>\n",
       "      <td>41.7627</td>\n",
       "      <td>-72.6743</td>\n",
       "    </tr>\n",
       "    <tr>\n",
       "      <th>1</th>\n",
       "      <td>1985</td>\n",
       "      <td>136</td>\n",
       "      <td>1260</td>\n",
       "      <td>1233</td>\n",
       "      <td>R1W4</td>\n",
       "      <td>hartford</td>\n",
       "      <td>41.7627</td>\n",
       "      <td>-72.6743</td>\n",
       "    </tr>\n",
       "    <tr>\n",
       "      <th>2</th>\n",
       "      <td>1985</td>\n",
       "      <td>136</td>\n",
       "      <td>1374</td>\n",
       "      <td>1330</td>\n",
       "      <td>R1W5</td>\n",
       "      <td>hartford</td>\n",
       "      <td>41.7627</td>\n",
       "      <td>-72.6743</td>\n",
       "    </tr>\n",
       "    <tr>\n",
       "      <th>3</th>\n",
       "      <td>1985</td>\n",
       "      <td>136</td>\n",
       "      <td>1396</td>\n",
       "      <td>1439</td>\n",
       "      <td>R1W8</td>\n",
       "      <td>hartford</td>\n",
       "      <td>41.7627</td>\n",
       "      <td>-72.6743</td>\n",
       "    </tr>\n",
       "    <tr>\n",
       "      <th>4</th>\n",
       "      <td>1985</td>\n",
       "      <td>136</td>\n",
       "      <td>1385</td>\n",
       "      <td>1380</td>\n",
       "      <td>R1X1</td>\n",
       "      <td>tulsa</td>\n",
       "      <td>36.1314</td>\n",
       "      <td>-95.9372</td>\n",
       "    </tr>\n",
       "  </tbody>\n",
       "</table>\n",
       "</div>"
      ],
      "text/plain": [
       "   season  daynum  wteam  lteam  slot      host      lat      lon\n",
       "0    1985     136   1207   1250  R1W1  hartford  41.7627 -72.6743\n",
       "1    1985     136   1260   1233  R1W4  hartford  41.7627 -72.6743\n",
       "2    1985     136   1374   1330  R1W5  hartford  41.7627 -72.6743\n",
       "3    1985     136   1396   1439  R1W8  hartford  41.7627 -72.6743\n",
       "4    1985     136   1385   1380  R1X1     tulsa  36.1314 -95.9372"
      ]
     },
     "execution_count": 16,
     "metadata": {},
     "output_type": "execute_result"
    }
   ],
   "source": [
    "#TourneyGeog.csv - season, daynum, wteam, lteam, host, lat, long\n",
    "#tgeog_df = pd.read_csv(file_path+'TourneyGeog.csv')\n",
    "#tgeog_df = tgeog_df.rename(index = str, columns = {'lng':'lon'})\n",
    "#tgeog_df.head()"
   ]
  },
  {
   "cell_type": "code",
   "execution_count": 18,
   "metadata": {
    "collapsed": false
   },
   "outputs": [],
   "source": [
    "#tourney_geography = sqlalchemy.Table('tourney_geography',meta,\n",
    "#                                     sqlalchemy.Column('season', sqlalchemy.String),\n",
    "#                                     sqlalchemy.Column('daynum', sqlalchemy.String),\n",
    "#                                     sqlalchemy.Column('wteam', sqlalchemy.String),\n",
    "#                                     sqlalchemy.Column('lteam', sqlalchemy.String),\n",
    "#                                     sqlalchemy.Column('slot', sqlalchemy.String),\n",
    "#                                     sqlalchemy.Column('host', sqlalchemy.String),\n",
    "#                                     sqlalchemy.Column('lat',sqlalchemy.Float),\n",
    "#                                     sqlalchemy.Column('lon',sqlalchemy.Float))\n",
    "#meta.create_all(engine)"
   ]
  },
  {
   "cell_type": "code",
   "execution_count": 19,
   "metadata": {
    "collapsed": true
   },
   "outputs": [],
   "source": [
    "#tgeog_df.to_sql('tourney_geography', engine, if_exists = 'append', index = False)"
   ]
  },
  {
   "cell_type": "code",
   "execution_count": 20,
   "metadata": {
    "collapsed": false
   },
   "outputs": [
    {
     "data": {
      "text/html": [
       "<div>\n",
       "<table border=\"1\" class=\"dataframe\">\n",
       "  <thead>\n",
       "    <tr style=\"text-align: right;\">\n",
       "      <th></th>\n",
       "      <th>season</th>\n",
       "      <th>daynum</th>\n",
       "      <th>wteam</th>\n",
       "      <th>lteam</th>\n",
       "      <th>slot</th>\n",
       "      <th>host</th>\n",
       "      <th>lat</th>\n",
       "      <th>lon</th>\n",
       "    </tr>\n",
       "  </thead>\n",
       "  <tbody>\n",
       "    <tr>\n",
       "      <th>0</th>\n",
       "      <td>1985</td>\n",
       "      <td>136</td>\n",
       "      <td>1207</td>\n",
       "      <td>1250</td>\n",
       "      <td>R1W1</td>\n",
       "      <td>hartford</td>\n",
       "      <td>41.7627</td>\n",
       "      <td>-72.6743</td>\n",
       "    </tr>\n",
       "    <tr>\n",
       "      <th>1</th>\n",
       "      <td>1985</td>\n",
       "      <td>136</td>\n",
       "      <td>1260</td>\n",
       "      <td>1233</td>\n",
       "      <td>R1W4</td>\n",
       "      <td>hartford</td>\n",
       "      <td>41.7627</td>\n",
       "      <td>-72.6743</td>\n",
       "    </tr>\n",
       "    <tr>\n",
       "      <th>2</th>\n",
       "      <td>1985</td>\n",
       "      <td>136</td>\n",
       "      <td>1374</td>\n",
       "      <td>1330</td>\n",
       "      <td>R1W5</td>\n",
       "      <td>hartford</td>\n",
       "      <td>41.7627</td>\n",
       "      <td>-72.6743</td>\n",
       "    </tr>\n",
       "    <tr>\n",
       "      <th>3</th>\n",
       "      <td>1985</td>\n",
       "      <td>136</td>\n",
       "      <td>1396</td>\n",
       "      <td>1439</td>\n",
       "      <td>R1W8</td>\n",
       "      <td>hartford</td>\n",
       "      <td>41.7627</td>\n",
       "      <td>-72.6743</td>\n",
       "    </tr>\n",
       "    <tr>\n",
       "      <th>4</th>\n",
       "      <td>1985</td>\n",
       "      <td>136</td>\n",
       "      <td>1385</td>\n",
       "      <td>1380</td>\n",
       "      <td>R1X1</td>\n",
       "      <td>tulsa</td>\n",
       "      <td>36.1314</td>\n",
       "      <td>-95.9372</td>\n",
       "    </tr>\n",
       "  </tbody>\n",
       "</table>\n",
       "</div>"
      ],
      "text/plain": [
       "  season daynum wteam lteam  slot      host      lat      lon\n",
       "0   1985    136  1207  1250  R1W1  hartford  41.7627 -72.6743\n",
       "1   1985    136  1260  1233  R1W4  hartford  41.7627 -72.6743\n",
       "2   1985    136  1374  1330  R1W5  hartford  41.7627 -72.6743\n",
       "3   1985    136  1396  1439  R1W8  hartford  41.7627 -72.6743\n",
       "4   1985    136  1385  1380  R1X1     tulsa  36.1314 -95.9372"
      ]
     },
     "execution_count": 20,
     "metadata": {},
     "output_type": "execute_result"
    }
   ],
   "source": [
    "stmt = 'SELECT * FROM tourney_geography LIMIT 5'\n",
    "\n",
    "res_proxy = connection.execute(stmt)\n",
    "\n",
    "query_df = pd.DataFrame(res_proxy.fetchall())\n",
    "query_df.columns = res_proxy.keys()\n",
    "query_df"
   ]
  },
  {
   "cell_type": "markdown",
   "metadata": {},
   "source": [
    "### Restructure Season Game Details"
   ]
  },
  {
   "cell_type": "code",
   "execution_count": 21,
   "metadata": {
    "collapsed": false
   },
   "outputs": [],
   "source": [
    "#RegularSeasonDetailedResults.csv\n",
    "#rsdr_df = pd.read_csv(file_path+'RegularSeasonDetailedResults.csv')"
   ]
  },
  {
   "cell_type": "code",
   "execution_count": 23,
   "metadata": {
    "collapsed": false
   },
   "outputs": [
    {
     "name": "stdout",
     "output_type": "stream",
     "text": [
      "153272\n"
     ]
    }
   ],
   "source": [
    "#rows = []\n",
    "#for x in range(len(rsdr_df)):\n",
    "#    temp_tr = list(rsdr_df.iloc[x])\n",
    "#    if temp_tr[6] == 'H':\n",
    "#        loc = [1,0,0]\n",
    "#    elif temp_tr[6] == 'A':\n",
    "#        loc = [0,1,0]\n",
    "#    else:\n",
    "#        loc = [0,0,1]\n",
    "#        \n",
    "#    rows.append([temp_tr[0],temp_tr[1],temp_tr[2],1,temp_tr[4],loc[0],loc[2],temp_tr[7],temp_tr[3],temp_tr[8],\n",
    "#                          temp_tr[9],temp_tr[10],temp_tr[11],temp_tr[12],temp_tr[13],temp_tr[14],temp_tr[15],temp_tr[16],\n",
    "#                          temp_tr[17],temp_tr[18],temp_tr[19],temp_tr[20],temp_tr[33],temp_tr[5],temp_tr[21],temp_tr[22],\n",
    "#                          temp_tr[23],temp_tr[24],temp_tr[25],temp_tr[26],temp_tr[27],temp_tr[28],temp_tr[29],temp_tr[30],\n",
    "#                          temp_tr[31],temp_tr[32]])\n",
    "#    rows.append([temp_tr[0],temp_tr[1],temp_tr[4],0,temp_tr[2],loc[1],loc[2],temp_tr[7],temp_tr[5],temp_tr[21],\n",
    "#                          temp_tr[22],temp_tr[23],temp_tr[24],temp_tr[25],temp_tr[26],temp_tr[27],temp_tr[28],temp_tr[29],\n",
    "#                          temp_tr[30],temp_tr[31],temp_tr[32],temp_tr[33],temp_tr[20],temp_tr[3],temp_tr[8],temp_tr[9],\n",
    "#                          temp_tr[10],temp_tr[11],temp_tr[12],temp_tr[13],temp_tr[14],temp_tr[15],temp_tr[16],temp_tr[17],\n",
    "#                          temp_tr[18],temp_tr[19]])\n",
    "#print(len(rows))"
   ]
  },
  {
   "cell_type": "code",
   "execution_count": 24,
   "metadata": {
    "collapsed": false
   },
   "outputs": [],
   "source": [
    "#rs_games_df = pd.DataFrame(rows, columns = ['season','daynum','team','win','opponent','home_game','neutral_location','num_ot','score',\n",
    "#                                      'fgm','fga','fgm3','fga3','ftm','fta','or','dr','ast','to','stl','blk','fouls_given',\n",
    "#                                      'fouls_received','opp_score','opp_fgm','opp_fga','opp_fgm3','opp_fga3','opp_ftm','opp_fta',\n",
    "#                                      'opp_or','opp_dr','opp_ast','opp_to','opp_stl','opp_blk'])"
   ]
  },
  {
   "cell_type": "code",
   "execution_count": 29,
   "metadata": {
    "collapsed": false
   },
   "outputs": [
    {
     "name": "stdout",
     "output_type": "stream",
     "text": [
      "153272\n"
     ]
    },
    {
     "data": {
      "text/html": [
       "<div>\n",
       "<table border=\"1\" class=\"dataframe\">\n",
       "  <thead>\n",
       "    <tr style=\"text-align: right;\">\n",
       "      <th></th>\n",
       "      <th>season</th>\n",
       "      <th>daynum</th>\n",
       "      <th>team</th>\n",
       "      <th>win</th>\n",
       "      <th>opponent</th>\n",
       "      <th>home_game</th>\n",
       "      <th>neutral_location</th>\n",
       "      <th>num_ot</th>\n",
       "      <th>score</th>\n",
       "      <th>fgm</th>\n",
       "      <th>...</th>\n",
       "      <th>opp_fgm3</th>\n",
       "      <th>opp_fga3</th>\n",
       "      <th>opp_ftm</th>\n",
       "      <th>opp_fta</th>\n",
       "      <th>opp_or</th>\n",
       "      <th>opp_dr</th>\n",
       "      <th>opp_ast</th>\n",
       "      <th>opp_to</th>\n",
       "      <th>opp_stl</th>\n",
       "      <th>opp_blk</th>\n",
       "    </tr>\n",
       "  </thead>\n",
       "  <tbody>\n",
       "    <tr>\n",
       "      <th>0</th>\n",
       "      <td>2003</td>\n",
       "      <td>10</td>\n",
       "      <td>1104</td>\n",
       "      <td>1</td>\n",
       "      <td>1328</td>\n",
       "      <td>0</td>\n",
       "      <td>1</td>\n",
       "      <td>0</td>\n",
       "      <td>68</td>\n",
       "      <td>27</td>\n",
       "      <td>...</td>\n",
       "      <td>2</td>\n",
       "      <td>10</td>\n",
       "      <td>16</td>\n",
       "      <td>22</td>\n",
       "      <td>10</td>\n",
       "      <td>22</td>\n",
       "      <td>8</td>\n",
       "      <td>18</td>\n",
       "      <td>9</td>\n",
       "      <td>2</td>\n",
       "    </tr>\n",
       "    <tr>\n",
       "      <th>1</th>\n",
       "      <td>2003</td>\n",
       "      <td>10</td>\n",
       "      <td>1328</td>\n",
       "      <td>0</td>\n",
       "      <td>1104</td>\n",
       "      <td>0</td>\n",
       "      <td>1</td>\n",
       "      <td>0</td>\n",
       "      <td>62</td>\n",
       "      <td>22</td>\n",
       "      <td>...</td>\n",
       "      <td>3</td>\n",
       "      <td>14</td>\n",
       "      <td>11</td>\n",
       "      <td>18</td>\n",
       "      <td>14</td>\n",
       "      <td>24</td>\n",
       "      <td>13</td>\n",
       "      <td>23</td>\n",
       "      <td>7</td>\n",
       "      <td>1</td>\n",
       "    </tr>\n",
       "    <tr>\n",
       "      <th>2</th>\n",
       "      <td>2003</td>\n",
       "      <td>10</td>\n",
       "      <td>1272</td>\n",
       "      <td>1</td>\n",
       "      <td>1393</td>\n",
       "      <td>0</td>\n",
       "      <td>1</td>\n",
       "      <td>0</td>\n",
       "      <td>70</td>\n",
       "      <td>26</td>\n",
       "      <td>...</td>\n",
       "      <td>6</td>\n",
       "      <td>24</td>\n",
       "      <td>9</td>\n",
       "      <td>20</td>\n",
       "      <td>20</td>\n",
       "      <td>25</td>\n",
       "      <td>7</td>\n",
       "      <td>12</td>\n",
       "      <td>8</td>\n",
       "      <td>6</td>\n",
       "    </tr>\n",
       "    <tr>\n",
       "      <th>3</th>\n",
       "      <td>2003</td>\n",
       "      <td>10</td>\n",
       "      <td>1393</td>\n",
       "      <td>0</td>\n",
       "      <td>1272</td>\n",
       "      <td>0</td>\n",
       "      <td>1</td>\n",
       "      <td>0</td>\n",
       "      <td>63</td>\n",
       "      <td>24</td>\n",
       "      <td>...</td>\n",
       "      <td>8</td>\n",
       "      <td>20</td>\n",
       "      <td>10</td>\n",
       "      <td>19</td>\n",
       "      <td>15</td>\n",
       "      <td>28</td>\n",
       "      <td>16</td>\n",
       "      <td>13</td>\n",
       "      <td>4</td>\n",
       "      <td>4</td>\n",
       "    </tr>\n",
       "    <tr>\n",
       "      <th>4</th>\n",
       "      <td>2003</td>\n",
       "      <td>11</td>\n",
       "      <td>1266</td>\n",
       "      <td>1</td>\n",
       "      <td>1437</td>\n",
       "      <td>0</td>\n",
       "      <td>1</td>\n",
       "      <td>0</td>\n",
       "      <td>73</td>\n",
       "      <td>24</td>\n",
       "      <td>...</td>\n",
       "      <td>3</td>\n",
       "      <td>26</td>\n",
       "      <td>14</td>\n",
       "      <td>23</td>\n",
       "      <td>31</td>\n",
       "      <td>22</td>\n",
       "      <td>9</td>\n",
       "      <td>12</td>\n",
       "      <td>2</td>\n",
       "      <td>5</td>\n",
       "    </tr>\n",
       "  </tbody>\n",
       "</table>\n",
       "<p>5 rows × 36 columns</p>\n",
       "</div>"
      ],
      "text/plain": [
       "   season  daynum  team  win  opponent  home_game  neutral_location  num_ot  \\\n",
       "0    2003      10  1104    1      1328          0                 1       0   \n",
       "1    2003      10  1328    0      1104          0                 1       0   \n",
       "2    2003      10  1272    1      1393          0                 1       0   \n",
       "3    2003      10  1393    0      1272          0                 1       0   \n",
       "4    2003      11  1266    1      1437          0                 1       0   \n",
       "\n",
       "   score  fgm   ...     opp_fgm3  opp_fga3  opp_ftm  opp_fta  opp_or  opp_dr  \\\n",
       "0     68   27   ...            2        10       16       22      10      22   \n",
       "1     62   22   ...            3        14       11       18      14      24   \n",
       "2     70   26   ...            6        24        9       20      20      25   \n",
       "3     63   24   ...            8        20       10       19      15      28   \n",
       "4     73   24   ...            3        26       14       23      31      22   \n",
       "\n",
       "   opp_ast  opp_to  opp_stl  opp_blk  \n",
       "0        8      18        9        2  \n",
       "1       13      23        7        1  \n",
       "2        7      12        8        6  \n",
       "3       16      13        4        4  \n",
       "4        9      12        2        5  \n",
       "\n",
       "[5 rows x 36 columns]"
      ]
     },
     "execution_count": 29,
     "metadata": {},
     "output_type": "execute_result"
    }
   ],
   "source": [
    "#print(len(rs_games_df))\n",
    "#rs_games_df.head()"
   ]
  },
  {
   "cell_type": "code",
   "execution_count": 30,
   "metadata": {
    "collapsed": false
   },
   "outputs": [],
   "source": [
    "#season_games = sqlalchemy.Table('season_games',meta,\n",
    "#                                sqlalchemy.Column('season', sqlalchemy.String),\n",
    "#                                sqlalchemy.Column('daynum', sqlalchemy.String),\n",
    "#                                sqlalchemy.Column('team', sqlalchemy.String),\n",
    "#                                sqlalchemy.Column('win', sqlalchemy.Integer),\n",
    "#                                sqlalchemy.Column('opponent', sqlalchemy.String),\n",
    "#                                sqlalchemy.Column('home_game', sqlalchemy.Integer),\n",
    "#                                sqlalchemy.Column('neutral_location', sqlalchemy.Integer),\n",
    "#                                sqlalchemy.Column('num_ot', sqlalchemy.Integer),\n",
    "#                                sqlalchemy.Column('score', sqlalchemy.Integer),\n",
    "#                                sqlalchemy.Column('fgm', sqlalchemy.Integer),\n",
    "#                                sqlalchemy.Column('fga', sqlalchemy.Integer),\n",
    "#                                sqlalchemy.Column('fgm3', sqlalchemy.Integer),\n",
    "#                                sqlalchemy.Column('fga3', sqlalchemy.Integer),\n",
    "#                                sqlalchemy.Column('ftm', sqlalchemy.Integer),\n",
    "#                                sqlalchemy.Column('fta', sqlalchemy.Integer),\n",
    "#                                sqlalchemy.Column('or', sqlalchemy.Integer),\n",
    "#                                sqlalchemy.Column('dr', sqlalchemy.Integer),\n",
    "#                                sqlalchemy.Column('ast', sqlalchemy.Integer),\n",
    "#                                sqlalchemy.Column('to', sqlalchemy.Integer),\n",
    "#                                sqlalchemy.Column('stl', sqlalchemy.Integer),\n",
    "#                                sqlalchemy.Column('blk', sqlalchemy.Integer),\n",
    "#                                sqlalchemy.Column('fouls_given', sqlalchemy.Integer),\n",
    "#                                sqlalchemy.Column('fouls_received', sqlalchemy.Integer),\n",
    "#                                sqlalchemy.Column('opp_score', sqlalchemy.Integer),\n",
    "#                                sqlalchemy.Column('opp_fgm', sqlalchemy.Integer),\n",
    "#                                sqlalchemy.Column('opp_fga', sqlalchemy.Integer),\n",
    "#                                sqlalchemy.Column('opp_fgm3', sqlalchemy.Integer),\n",
    "#                                sqlalchemy.Column('opp_fga3', sqlalchemy.Integer),\n",
    "#                                sqlalchemy.Column('opp_ftm', sqlalchemy.Integer),\n",
    "#                                sqlalchemy.Column('opp_fta', sqlalchemy.Integer),\n",
    "#                                sqlalchemy.Column('opp_or', sqlalchemy.Integer),\n",
    "#                                sqlalchemy.Column('opp_dr', sqlalchemy.Integer),\n",
    "#                                sqlalchemy.Column('opp_ast', sqlalchemy.Integer),\n",
    "#                                sqlalchemy.Column('opp_to', sqlalchemy.Integer),\n",
    "#                                sqlalchemy.Column('opp_stl', sqlalchemy.Integer),\n",
    "#                                sqlalchemy.Column('opp_blk', sqlalchemy.Integer))\n",
    "#meta.create_all(engine)"
   ]
  },
  {
   "cell_type": "code",
   "execution_count": 31,
   "metadata": {
    "collapsed": false
   },
   "outputs": [],
   "source": [
    "#rs_games_df.to_sql('season_games', engine, if_exists = 'append', index = False)"
   ]
  },
  {
   "cell_type": "code",
   "execution_count": 33,
   "metadata": {
    "collapsed": false
   },
   "outputs": [
    {
     "data": {
      "text/html": [
       "<div>\n",
       "<table border=\"1\" class=\"dataframe\">\n",
       "  <thead>\n",
       "    <tr style=\"text-align: right;\">\n",
       "      <th></th>\n",
       "      <th>season</th>\n",
       "      <th>daynum</th>\n",
       "      <th>team</th>\n",
       "      <th>win</th>\n",
       "      <th>opponent</th>\n",
       "      <th>home_game</th>\n",
       "      <th>neutral_location</th>\n",
       "      <th>num_ot</th>\n",
       "      <th>score</th>\n",
       "      <th>fgm</th>\n",
       "      <th>...</th>\n",
       "      <th>opp_fgm3</th>\n",
       "      <th>opp_fga3</th>\n",
       "      <th>opp_ftm</th>\n",
       "      <th>opp_fta</th>\n",
       "      <th>opp_or</th>\n",
       "      <th>opp_dr</th>\n",
       "      <th>opp_ast</th>\n",
       "      <th>opp_to</th>\n",
       "      <th>opp_stl</th>\n",
       "      <th>opp_blk</th>\n",
       "    </tr>\n",
       "  </thead>\n",
       "  <tbody>\n",
       "    <tr>\n",
       "      <th>0</th>\n",
       "      <td>2003</td>\n",
       "      <td>10</td>\n",
       "      <td>1104</td>\n",
       "      <td>1</td>\n",
       "      <td>1328</td>\n",
       "      <td>0</td>\n",
       "      <td>1</td>\n",
       "      <td>0</td>\n",
       "      <td>68</td>\n",
       "      <td>27</td>\n",
       "      <td>...</td>\n",
       "      <td>2</td>\n",
       "      <td>10</td>\n",
       "      <td>16</td>\n",
       "      <td>22</td>\n",
       "      <td>10</td>\n",
       "      <td>22</td>\n",
       "      <td>8</td>\n",
       "      <td>18</td>\n",
       "      <td>9</td>\n",
       "      <td>2</td>\n",
       "    </tr>\n",
       "    <tr>\n",
       "      <th>1</th>\n",
       "      <td>2003</td>\n",
       "      <td>10</td>\n",
       "      <td>1328</td>\n",
       "      <td>0</td>\n",
       "      <td>1104</td>\n",
       "      <td>0</td>\n",
       "      <td>1</td>\n",
       "      <td>0</td>\n",
       "      <td>62</td>\n",
       "      <td>22</td>\n",
       "      <td>...</td>\n",
       "      <td>3</td>\n",
       "      <td>14</td>\n",
       "      <td>11</td>\n",
       "      <td>18</td>\n",
       "      <td>14</td>\n",
       "      <td>24</td>\n",
       "      <td>13</td>\n",
       "      <td>23</td>\n",
       "      <td>7</td>\n",
       "      <td>1</td>\n",
       "    </tr>\n",
       "    <tr>\n",
       "      <th>2</th>\n",
       "      <td>2003</td>\n",
       "      <td>10</td>\n",
       "      <td>1272</td>\n",
       "      <td>1</td>\n",
       "      <td>1393</td>\n",
       "      <td>0</td>\n",
       "      <td>1</td>\n",
       "      <td>0</td>\n",
       "      <td>70</td>\n",
       "      <td>26</td>\n",
       "      <td>...</td>\n",
       "      <td>6</td>\n",
       "      <td>24</td>\n",
       "      <td>9</td>\n",
       "      <td>20</td>\n",
       "      <td>20</td>\n",
       "      <td>25</td>\n",
       "      <td>7</td>\n",
       "      <td>12</td>\n",
       "      <td>8</td>\n",
       "      <td>6</td>\n",
       "    </tr>\n",
       "    <tr>\n",
       "      <th>3</th>\n",
       "      <td>2003</td>\n",
       "      <td>10</td>\n",
       "      <td>1393</td>\n",
       "      <td>0</td>\n",
       "      <td>1272</td>\n",
       "      <td>0</td>\n",
       "      <td>1</td>\n",
       "      <td>0</td>\n",
       "      <td>63</td>\n",
       "      <td>24</td>\n",
       "      <td>...</td>\n",
       "      <td>8</td>\n",
       "      <td>20</td>\n",
       "      <td>10</td>\n",
       "      <td>19</td>\n",
       "      <td>15</td>\n",
       "      <td>28</td>\n",
       "      <td>16</td>\n",
       "      <td>13</td>\n",
       "      <td>4</td>\n",
       "      <td>4</td>\n",
       "    </tr>\n",
       "    <tr>\n",
       "      <th>4</th>\n",
       "      <td>2003</td>\n",
       "      <td>11</td>\n",
       "      <td>1266</td>\n",
       "      <td>1</td>\n",
       "      <td>1437</td>\n",
       "      <td>0</td>\n",
       "      <td>1</td>\n",
       "      <td>0</td>\n",
       "      <td>73</td>\n",
       "      <td>24</td>\n",
       "      <td>...</td>\n",
       "      <td>3</td>\n",
       "      <td>26</td>\n",
       "      <td>14</td>\n",
       "      <td>23</td>\n",
       "      <td>31</td>\n",
       "      <td>22</td>\n",
       "      <td>9</td>\n",
       "      <td>12</td>\n",
       "      <td>2</td>\n",
       "      <td>5</td>\n",
       "    </tr>\n",
       "  </tbody>\n",
       "</table>\n",
       "<p>5 rows × 36 columns</p>\n",
       "</div>"
      ],
      "text/plain": [
       "  season daynum  team  win opponent  home_game  neutral_location  num_ot  \\\n",
       "0   2003     10  1104    1     1328          0                 1       0   \n",
       "1   2003     10  1328    0     1104          0                 1       0   \n",
       "2   2003     10  1272    1     1393          0                 1       0   \n",
       "3   2003     10  1393    0     1272          0                 1       0   \n",
       "4   2003     11  1266    1     1437          0                 1       0   \n",
       "\n",
       "   score  fgm   ...     opp_fgm3  opp_fga3  opp_ftm  opp_fta  opp_or  opp_dr  \\\n",
       "0     68   27   ...            2        10       16       22      10      22   \n",
       "1     62   22   ...            3        14       11       18      14      24   \n",
       "2     70   26   ...            6        24        9       20      20      25   \n",
       "3     63   24   ...            8        20       10       19      15      28   \n",
       "4     73   24   ...            3        26       14       23      31      22   \n",
       "\n",
       "   opp_ast  opp_to  opp_stl  opp_blk  \n",
       "0        8      18        9        2  \n",
       "1       13      23        7        1  \n",
       "2        7      12        8        6  \n",
       "3       16      13        4        4  \n",
       "4        9      12        2        5  \n",
       "\n",
       "[5 rows x 36 columns]"
      ]
     },
     "execution_count": 33,
     "metadata": {},
     "output_type": "execute_result"
    }
   ],
   "source": [
    "stmt = 'SELECT * FROM season_games LIMIT 5'\n",
    "\n",
    "res_proxy = connection.execute(stmt)\n",
    "\n",
    "query_df = pd.DataFrame(res_proxy.fetchall())\n",
    "query_df.columns = res_proxy.keys()\n",
    "query_df"
   ]
  },
  {
   "cell_type": "markdown",
   "metadata": {},
   "source": [
    "### Restructure Tournament Game Details"
   ]
  },
  {
   "cell_type": "code",
   "execution_count": 42,
   "metadata": {
    "collapsed": false
   },
   "outputs": [],
   "source": [
    "#TourneyDetailedResults.csv\n",
    "#tgdr_df = pd.read_csv(file_path+'TourneyDetailedResults.csv')"
   ]
  },
  {
   "cell_type": "code",
   "execution_count": 35,
   "metadata": {
    "collapsed": false
   },
   "outputs": [
    {
     "name": "stdout",
     "output_type": "stream",
     "text": [
      "1828 914.0\n"
     ]
    }
   ],
   "source": [
    "#rows = []\n",
    "#for x in range(len(tgdr_df)):\n",
    "#    temp_tr = list(tgdr_df.iloc[x])\n",
    "#    rows.append([temp_tr[0],temp_tr[1],temp_tr[2],1,temp_tr[4],temp_tr[7],temp_tr[3],temp_tr[8],\n",
    "#                          temp_tr[9],temp_tr[10],temp_tr[11],temp_tr[12],temp_tr[13],temp_tr[14],temp_tr[15],temp_tr[16],\n",
    "#                          temp_tr[17],temp_tr[18],temp_tr[19],temp_tr[20],temp_tr[33],temp_tr[5],temp_tr[21],temp_tr[22],\n",
    "#                          temp_tr[23],temp_tr[24],temp_tr[25],temp_tr[26],temp_tr[27],temp_tr[28],temp_tr[29],temp_tr[30],\n",
    "#                          temp_tr[31],temp_tr[32]])\n",
    "#    rows.append([temp_tr[0],temp_tr[1],temp_tr[4],0,temp_tr[2],temp_tr[7],temp_tr[5],temp_tr[21],\n",
    "#                          temp_tr[22],temp_tr[23],temp_tr[24],temp_tr[25],temp_tr[26],temp_tr[27],temp_tr[28],temp_tr[29],\n",
    "#                          temp_tr[30],temp_tr[31],temp_tr[32],temp_tr[33],temp_tr[20],temp_tr[3],temp_tr[8],temp_tr[9],\n",
    "#                          temp_tr[10],temp_tr[11],temp_tr[12],temp_tr[13],temp_tr[14],temp_tr[15],temp_tr[16],temp_tr[17],\n",
    "#                          temp_tr[18],temp_tr[19]])\n",
    "#print(len(rows),len(rows)/2.0)"
   ]
  },
  {
   "cell_type": "code",
   "execution_count": 36,
   "metadata": {
    "collapsed": true
   },
   "outputs": [],
   "source": [
    "#tourney_games_df = pd.DataFrame(rows, columns = ['season','daynum','team','win','opponent','num_ot','score',\n",
    "#                                      'fgm','fga','fgm3','fga3','ftm','fta','or','dr','ast','to','stl','blk','fouls_given',\n",
    "#                                      'fouls_received','opp_score','opp_fgm','opp_fga','opp_fgm3','opp_fga3','opp_ftm','opp_fta',\n",
    "#                                      'opp_or','opp_dr','opp_ast','opp_to','opp_stl','opp_blk'])"
   ]
  },
  {
   "cell_type": "code",
   "execution_count": 38,
   "metadata": {
    "collapsed": false
   },
   "outputs": [
    {
     "name": "stdout",
     "output_type": "stream",
     "text": [
      "1828\n"
     ]
    },
    {
     "data": {
      "text/html": [
       "<div>\n",
       "<table border=\"1\" class=\"dataframe\">\n",
       "  <thead>\n",
       "    <tr style=\"text-align: right;\">\n",
       "      <th></th>\n",
       "      <th>season</th>\n",
       "      <th>daynum</th>\n",
       "      <th>team</th>\n",
       "      <th>win</th>\n",
       "      <th>opponent</th>\n",
       "      <th>num_ot</th>\n",
       "      <th>score</th>\n",
       "      <th>fgm</th>\n",
       "      <th>fga</th>\n",
       "      <th>fgm3</th>\n",
       "      <th>...</th>\n",
       "      <th>opp_fgm3</th>\n",
       "      <th>opp_fga3</th>\n",
       "      <th>opp_ftm</th>\n",
       "      <th>opp_fta</th>\n",
       "      <th>opp_or</th>\n",
       "      <th>opp_dr</th>\n",
       "      <th>opp_ast</th>\n",
       "      <th>opp_to</th>\n",
       "      <th>opp_stl</th>\n",
       "      <th>opp_blk</th>\n",
       "    </tr>\n",
       "  </thead>\n",
       "  <tbody>\n",
       "    <tr>\n",
       "      <th>0</th>\n",
       "      <td>2003</td>\n",
       "      <td>134</td>\n",
       "      <td>1421</td>\n",
       "      <td>1</td>\n",
       "      <td>1411</td>\n",
       "      <td>1</td>\n",
       "      <td>92</td>\n",
       "      <td>32</td>\n",
       "      <td>69</td>\n",
       "      <td>11</td>\n",
       "      <td>...</td>\n",
       "      <td>12</td>\n",
       "      <td>31</td>\n",
       "      <td>14</td>\n",
       "      <td>31</td>\n",
       "      <td>17</td>\n",
       "      <td>28</td>\n",
       "      <td>16</td>\n",
       "      <td>15</td>\n",
       "      <td>5</td>\n",
       "      <td>0</td>\n",
       "    </tr>\n",
       "    <tr>\n",
       "      <th>1</th>\n",
       "      <td>2003</td>\n",
       "      <td>134</td>\n",
       "      <td>1411</td>\n",
       "      <td>0</td>\n",
       "      <td>1421</td>\n",
       "      <td>1</td>\n",
       "      <td>84</td>\n",
       "      <td>29</td>\n",
       "      <td>67</td>\n",
       "      <td>12</td>\n",
       "      <td>...</td>\n",
       "      <td>11</td>\n",
       "      <td>29</td>\n",
       "      <td>17</td>\n",
       "      <td>26</td>\n",
       "      <td>14</td>\n",
       "      <td>30</td>\n",
       "      <td>17</td>\n",
       "      <td>12</td>\n",
       "      <td>5</td>\n",
       "      <td>3</td>\n",
       "    </tr>\n",
       "    <tr>\n",
       "      <th>2</th>\n",
       "      <td>2003</td>\n",
       "      <td>136</td>\n",
       "      <td>1112</td>\n",
       "      <td>1</td>\n",
       "      <td>1436</td>\n",
       "      <td>0</td>\n",
       "      <td>80</td>\n",
       "      <td>31</td>\n",
       "      <td>66</td>\n",
       "      <td>7</td>\n",
       "      <td>...</td>\n",
       "      <td>4</td>\n",
       "      <td>16</td>\n",
       "      <td>7</td>\n",
       "      <td>7</td>\n",
       "      <td>8</td>\n",
       "      <td>26</td>\n",
       "      <td>12</td>\n",
       "      <td>17</td>\n",
       "      <td>10</td>\n",
       "      <td>3</td>\n",
       "    </tr>\n",
       "    <tr>\n",
       "      <th>3</th>\n",
       "      <td>2003</td>\n",
       "      <td>136</td>\n",
       "      <td>1436</td>\n",
       "      <td>0</td>\n",
       "      <td>1112</td>\n",
       "      <td>0</td>\n",
       "      <td>51</td>\n",
       "      <td>20</td>\n",
       "      <td>64</td>\n",
       "      <td>4</td>\n",
       "      <td>...</td>\n",
       "      <td>7</td>\n",
       "      <td>23</td>\n",
       "      <td>11</td>\n",
       "      <td>14</td>\n",
       "      <td>11</td>\n",
       "      <td>36</td>\n",
       "      <td>22</td>\n",
       "      <td>16</td>\n",
       "      <td>10</td>\n",
       "      <td>7</td>\n",
       "    </tr>\n",
       "    <tr>\n",
       "      <th>4</th>\n",
       "      <td>2003</td>\n",
       "      <td>136</td>\n",
       "      <td>1113</td>\n",
       "      <td>1</td>\n",
       "      <td>1272</td>\n",
       "      <td>0</td>\n",
       "      <td>84</td>\n",
       "      <td>31</td>\n",
       "      <td>59</td>\n",
       "      <td>6</td>\n",
       "      <td>...</td>\n",
       "      <td>7</td>\n",
       "      <td>28</td>\n",
       "      <td>14</td>\n",
       "      <td>21</td>\n",
       "      <td>20</td>\n",
       "      <td>22</td>\n",
       "      <td>11</td>\n",
       "      <td>12</td>\n",
       "      <td>2</td>\n",
       "      <td>5</td>\n",
       "    </tr>\n",
       "  </tbody>\n",
       "</table>\n",
       "<p>5 rows × 34 columns</p>\n",
       "</div>"
      ],
      "text/plain": [
       "   season  daynum  team  win  opponent  num_ot  score  fgm  fga  fgm3  \\\n",
       "0    2003     134  1421    1      1411       1     92   32   69    11   \n",
       "1    2003     134  1411    0      1421       1     84   29   67    12   \n",
       "2    2003     136  1112    1      1436       0     80   31   66     7   \n",
       "3    2003     136  1436    0      1112       0     51   20   64     4   \n",
       "4    2003     136  1113    1      1272       0     84   31   59     6   \n",
       "\n",
       "    ...     opp_fgm3  opp_fga3  opp_ftm  opp_fta  opp_or  opp_dr  opp_ast  \\\n",
       "0   ...           12        31       14       31      17      28       16   \n",
       "1   ...           11        29       17       26      14      30       17   \n",
       "2   ...            4        16        7        7       8      26       12   \n",
       "3   ...            7        23       11       14      11      36       22   \n",
       "4   ...            7        28       14       21      20      22       11   \n",
       "\n",
       "   opp_to  opp_stl  opp_blk  \n",
       "0      15        5        0  \n",
       "1      12        5        3  \n",
       "2      17       10        3  \n",
       "3      16       10        7  \n",
       "4      12        2        5  \n",
       "\n",
       "[5 rows x 34 columns]"
      ]
     },
     "execution_count": 38,
     "metadata": {},
     "output_type": "execute_result"
    }
   ],
   "source": [
    "#print(len(tourney_games_df))\n",
    "#tourney_games_df.head()"
   ]
  },
  {
   "cell_type": "code",
   "execution_count": 39,
   "metadata": {
    "collapsed": true
   },
   "outputs": [],
   "source": [
    "#tourney_games = sqlalchemy.Table('tourney_games',meta,\n",
    "#                                sqlalchemy.Column('season', sqlalchemy.String),\n",
    "#                                sqlalchemy.Column('daynum', sqlalchemy.String),\n",
    "#                                sqlalchemy.Column('team', sqlalchemy.String),\n",
    "#                                sqlalchemy.Column('win', sqlalchemy.Integer),\n",
    "#                                sqlalchemy.Column('opponent', sqlalchemy.String),\n",
    "#                                sqlalchemy.Column('num_ot', sqlalchemy.Integer),\n",
    "#                                sqlalchemy.Column('score', sqlalchemy.Integer),\n",
    "#                                sqlalchemy.Column('fgm', sqlalchemy.Integer),\n",
    "#                                sqlalchemy.Column('fga', sqlalchemy.Integer),\n",
    "#                                sqlalchemy.Column('fgm3', sqlalchemy.Integer),\n",
    "#                                sqlalchemy.Column('fga3', sqlalchemy.Integer),\n",
    "#                                sqlalchemy.Column('ftm', sqlalchemy.Integer),\n",
    "#                                sqlalchemy.Column('fta', sqlalchemy.Integer),\n",
    "#                                sqlalchemy.Column('or', sqlalchemy.Integer),\n",
    "#                                sqlalchemy.Column('dr', sqlalchemy.Integer),\n",
    "#                                sqlalchemy.Column('ast', sqlalchemy.Integer),\n",
    "#                                sqlalchemy.Column('to', sqlalchemy.Integer),\n",
    "#                                sqlalchemy.Column('stl', sqlalchemy.Integer),\n",
    "#                                sqlalchemy.Column('blk', sqlalchemy.Integer),\n",
    "#                                sqlalchemy.Column('fouls_given', sqlalchemy.Integer),\n",
    "#                                sqlalchemy.Column('fouls_received', sqlalchemy.Integer),\n",
    "#                                sqlalchemy.Column('opp_score', sqlalchemy.Integer),\n",
    "#                                sqlalchemy.Column('opp_fgm', sqlalchemy.Integer),\n",
    "#                                sqlalchemy.Column('opp_fga', sqlalchemy.Integer),\n",
    "#                                sqlalchemy.Column('opp_fgm3', sqlalchemy.Integer),\n",
    "#                                sqlalchemy.Column('opp_fga3', sqlalchemy.Integer),\n",
    "#                                sqlalchemy.Column('opp_ftm', sqlalchemy.Integer),\n",
    "#                                sqlalchemy.Column('opp_fta', sqlalchemy.Integer),\n",
    "#                                sqlalchemy.Column('opp_or', sqlalchemy.Integer),\n",
    "#                                sqlalchemy.Column('opp_dr', sqlalchemy.Integer),\n",
    "#                                sqlalchemy.Column('opp_ast', sqlalchemy.Integer),\n",
    "#                                sqlalchemy.Column('opp_to', sqlalchemy.Integer),\n",
    "#                                sqlalchemy.Column('opp_stl', sqlalchemy.Integer),\n",
    "#                                sqlalchemy.Column('opp_blk', sqlalchemy.Integer))\n",
    "#meta.create_all(engine)"
   ]
  },
  {
   "cell_type": "code",
   "execution_count": 40,
   "metadata": {
    "collapsed": true
   },
   "outputs": [],
   "source": [
    "#tourney_games_df.to_sql('tourney_games', engine, if_exists = 'append', index = False)"
   ]
  },
  {
   "cell_type": "code",
   "execution_count": 41,
   "metadata": {
    "collapsed": false
   },
   "outputs": [
    {
     "data": {
      "text/html": [
       "<div>\n",
       "<table border=\"1\" class=\"dataframe\">\n",
       "  <thead>\n",
       "    <tr style=\"text-align: right;\">\n",
       "      <th></th>\n",
       "      <th>season</th>\n",
       "      <th>daynum</th>\n",
       "      <th>team</th>\n",
       "      <th>win</th>\n",
       "      <th>opponent</th>\n",
       "      <th>num_ot</th>\n",
       "      <th>score</th>\n",
       "      <th>fgm</th>\n",
       "      <th>fga</th>\n",
       "      <th>fgm3</th>\n",
       "      <th>...</th>\n",
       "      <th>opp_fgm3</th>\n",
       "      <th>opp_fga3</th>\n",
       "      <th>opp_ftm</th>\n",
       "      <th>opp_fta</th>\n",
       "      <th>opp_or</th>\n",
       "      <th>opp_dr</th>\n",
       "      <th>opp_ast</th>\n",
       "      <th>opp_to</th>\n",
       "      <th>opp_stl</th>\n",
       "      <th>opp_blk</th>\n",
       "    </tr>\n",
       "  </thead>\n",
       "  <tbody>\n",
       "    <tr>\n",
       "      <th>0</th>\n",
       "      <td>2003</td>\n",
       "      <td>134</td>\n",
       "      <td>1421</td>\n",
       "      <td>1</td>\n",
       "      <td>1411</td>\n",
       "      <td>1</td>\n",
       "      <td>92</td>\n",
       "      <td>32</td>\n",
       "      <td>69</td>\n",
       "      <td>11</td>\n",
       "      <td>...</td>\n",
       "      <td>12</td>\n",
       "      <td>31</td>\n",
       "      <td>14</td>\n",
       "      <td>31</td>\n",
       "      <td>17</td>\n",
       "      <td>28</td>\n",
       "      <td>16</td>\n",
       "      <td>15</td>\n",
       "      <td>5</td>\n",
       "      <td>0</td>\n",
       "    </tr>\n",
       "    <tr>\n",
       "      <th>1</th>\n",
       "      <td>2003</td>\n",
       "      <td>134</td>\n",
       "      <td>1411</td>\n",
       "      <td>0</td>\n",
       "      <td>1421</td>\n",
       "      <td>1</td>\n",
       "      <td>84</td>\n",
       "      <td>29</td>\n",
       "      <td>67</td>\n",
       "      <td>12</td>\n",
       "      <td>...</td>\n",
       "      <td>11</td>\n",
       "      <td>29</td>\n",
       "      <td>17</td>\n",
       "      <td>26</td>\n",
       "      <td>14</td>\n",
       "      <td>30</td>\n",
       "      <td>17</td>\n",
       "      <td>12</td>\n",
       "      <td>5</td>\n",
       "      <td>3</td>\n",
       "    </tr>\n",
       "    <tr>\n",
       "      <th>2</th>\n",
       "      <td>2003</td>\n",
       "      <td>136</td>\n",
       "      <td>1112</td>\n",
       "      <td>1</td>\n",
       "      <td>1436</td>\n",
       "      <td>0</td>\n",
       "      <td>80</td>\n",
       "      <td>31</td>\n",
       "      <td>66</td>\n",
       "      <td>7</td>\n",
       "      <td>...</td>\n",
       "      <td>4</td>\n",
       "      <td>16</td>\n",
       "      <td>7</td>\n",
       "      <td>7</td>\n",
       "      <td>8</td>\n",
       "      <td>26</td>\n",
       "      <td>12</td>\n",
       "      <td>17</td>\n",
       "      <td>10</td>\n",
       "      <td>3</td>\n",
       "    </tr>\n",
       "    <tr>\n",
       "      <th>3</th>\n",
       "      <td>2003</td>\n",
       "      <td>136</td>\n",
       "      <td>1436</td>\n",
       "      <td>0</td>\n",
       "      <td>1112</td>\n",
       "      <td>0</td>\n",
       "      <td>51</td>\n",
       "      <td>20</td>\n",
       "      <td>64</td>\n",
       "      <td>4</td>\n",
       "      <td>...</td>\n",
       "      <td>7</td>\n",
       "      <td>23</td>\n",
       "      <td>11</td>\n",
       "      <td>14</td>\n",
       "      <td>11</td>\n",
       "      <td>36</td>\n",
       "      <td>22</td>\n",
       "      <td>16</td>\n",
       "      <td>10</td>\n",
       "      <td>7</td>\n",
       "    </tr>\n",
       "    <tr>\n",
       "      <th>4</th>\n",
       "      <td>2003</td>\n",
       "      <td>136</td>\n",
       "      <td>1113</td>\n",
       "      <td>1</td>\n",
       "      <td>1272</td>\n",
       "      <td>0</td>\n",
       "      <td>84</td>\n",
       "      <td>31</td>\n",
       "      <td>59</td>\n",
       "      <td>6</td>\n",
       "      <td>...</td>\n",
       "      <td>7</td>\n",
       "      <td>28</td>\n",
       "      <td>14</td>\n",
       "      <td>21</td>\n",
       "      <td>20</td>\n",
       "      <td>22</td>\n",
       "      <td>11</td>\n",
       "      <td>12</td>\n",
       "      <td>2</td>\n",
       "      <td>5</td>\n",
       "    </tr>\n",
       "  </tbody>\n",
       "</table>\n",
       "<p>5 rows × 34 columns</p>\n",
       "</div>"
      ],
      "text/plain": [
       "  season daynum  team  win opponent  num_ot  score  fgm  fga  fgm3   ...     \\\n",
       "0   2003    134  1421    1     1411       1     92   32   69    11   ...      \n",
       "1   2003    134  1411    0     1421       1     84   29   67    12   ...      \n",
       "2   2003    136  1112    1     1436       0     80   31   66     7   ...      \n",
       "3   2003    136  1436    0     1112       0     51   20   64     4   ...      \n",
       "4   2003    136  1113    1     1272       0     84   31   59     6   ...      \n",
       "\n",
       "   opp_fgm3  opp_fga3  opp_ftm  opp_fta  opp_or  opp_dr  opp_ast  opp_to  \\\n",
       "0        12        31       14       31      17      28       16      15   \n",
       "1        11        29       17       26      14      30       17      12   \n",
       "2         4        16        7        7       8      26       12      17   \n",
       "3         7        23       11       14      11      36       22      16   \n",
       "4         7        28       14       21      20      22       11      12   \n",
       "\n",
       "   opp_stl  opp_blk  \n",
       "0        5        0  \n",
       "1        5        3  \n",
       "2       10        3  \n",
       "3       10        7  \n",
       "4        2        5  \n",
       "\n",
       "[5 rows x 34 columns]"
      ]
     },
     "execution_count": 41,
     "metadata": {},
     "output_type": "execute_result"
    }
   ],
   "source": [
    "stmt = 'SELECT * FROM tourney_games LIMIT 5'\n",
    "\n",
    "res_proxy = connection.execute(stmt)\n",
    "\n",
    "query_df = pd.DataFrame(res_proxy.fetchall())\n",
    "query_df.columns = res_proxy.keys()\n",
    "query_df"
   ]
  },
  {
   "cell_type": "markdown",
   "metadata": {},
   "source": [
    "### Validate that the expected tables are in the database"
   ]
  },
  {
   "cell_type": "code",
   "execution_count": 43,
   "metadata": {
    "collapsed": false
   },
   "outputs": [
    {
     "name": "stdout",
     "output_type": "stream",
     "text": [
      "['teams', 'tourney_seeds', 'team_conferences', 'tourney_geography', 'season_games', 'tourney_games']\n"
     ]
    }
   ],
   "source": [
    "#existing tables\n",
    "print(engine.table_names())"
   ]
  },
  {
   "cell_type": "markdown",
   "metadata": {},
   "source": [
    "### Disconnect From Database when done"
   ]
  },
  {
   "cell_type": "code",
   "execution_count": 44,
   "metadata": {
    "collapsed": true
   },
   "outputs": [],
   "source": [
    "connection.close()"
   ]
  }
 ],
 "metadata": {
  "anaconda-cloud": {},
  "kernelspec": {
   "display_name": "Python [conda env:py352]",
   "language": "python",
   "name": "conda-env-py352-py"
  },
  "language_info": {
   "codemirror_mode": {
    "name": "ipython",
    "version": 3
   },
   "file_extension": ".py",
   "mimetype": "text/x-python",
   "name": "python",
   "nbconvert_exporter": "python",
   "pygments_lexer": "ipython3",
   "version": "3.5.2"
  }
 },
 "nbformat": 4,
 "nbformat_minor": 1
}
