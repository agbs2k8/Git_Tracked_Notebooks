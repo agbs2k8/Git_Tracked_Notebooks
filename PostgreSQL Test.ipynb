{
 "cells": [
  {
   "cell_type": "code",
   "execution_count": 1,
   "metadata": {
    "collapsed": true
   },
   "outputs": [],
   "source": [
    "import ujson\n",
    "import pandas as pd"
   ]
  },
  {
   "cell_type": "markdown",
   "metadata": {},
   "source": [
    "# psycopg2"
   ]
  },
  {
   "cell_type": "code",
   "execution_count": 23,
   "metadata": {
    "collapsed": false
   },
   "outputs": [
    {
     "data": {
      "text/plain": [
       "'2.6.2 (dt dec pq3 ext lo64)'"
      ]
     },
     "execution_count": 23,
     "metadata": {},
     "output_type": "execute_result"
    }
   ],
   "source": [
    "#import access package to use PostgreSQL directly\n",
    "import psycopg2\n",
    "psycopg2.__version__"
   ]
  },
  {
   "cell_type": "code",
   "execution_count": 28,
   "metadata": {
    "collapsed": false
   },
   "outputs": [],
   "source": [
    "#Store login credentials in local file to access \n",
    "credentials = ujson.load(open(\"D:\\\\Python\\\\posgresql_credentials.json\",\"r\"))"
   ]
  },
  {
   "cell_type": "code",
   "execution_count": 11,
   "metadata": {
    "collapsed": false
   },
   "outputs": [
    {
     "data": {
      "text/plain": [
       "'dev'"
      ]
     },
     "execution_count": 11,
     "metadata": {},
     "output_type": "execute_result"
    }
   ],
   "source": [
    "#validate user for loaded credentials\n",
    "credentials['user']"
   ]
  },
  {
   "cell_type": "code",
   "execution_count": 12,
   "metadata": {
    "collapsed": false
   },
   "outputs": [],
   "source": [
    "#create connection to PostgreSQL Database\n",
    "conn = psycopg2.connect(host=\"localhost\",\n",
    "                        database=\"temp_db_rental\", \n",
    "                        user=credentials['user'], \n",
    "                        password=credentials['password'])"
   ]
  },
  {
   "cell_type": "code",
   "execution_count": 13,
   "metadata": {
    "collapsed": true
   },
   "outputs": [],
   "source": [
    "#create cursor object\n",
    "cur = conn.cursor()"
   ]
  },
  {
   "cell_type": "code",
   "execution_count": 14,
   "metadata": {
    "collapsed": true
   },
   "outputs": [],
   "source": [
    "#create SQL statement to execute\n",
    "cur.execute(\"SELECT * FROM city LIMIT 10\")"
   ]
  },
  {
   "cell_type": "code",
   "execution_count": null,
   "metadata": {
    "collapsed": true
   },
   "outputs": [],
   "source": [
    "#create iterable that can loop through the selected data\n",
    "rows = cur.fetchall()"
   ]
  },
  {
   "cell_type": "code",
   "execution_count": 15,
   "metadata": {
    "collapsed": false
   },
   "outputs": [
    {
     "name": "stdout",
     "output_type": "stream",
     "text": [
      "(1, 'A Corua (La Corua)', 87, datetime.datetime(2006, 2, 15, 9, 45, 25))\n",
      "(2, 'Abha', 82, datetime.datetime(2006, 2, 15, 9, 45, 25))\n",
      "(3, 'Abu Dhabi', 101, datetime.datetime(2006, 2, 15, 9, 45, 25))\n",
      "(4, 'Acua', 60, datetime.datetime(2006, 2, 15, 9, 45, 25))\n",
      "(5, 'Adana', 97, datetime.datetime(2006, 2, 15, 9, 45, 25))\n",
      "(6, 'Addis Abeba', 31, datetime.datetime(2006, 2, 15, 9, 45, 25))\n",
      "(7, 'Aden', 107, datetime.datetime(2006, 2, 15, 9, 45, 25))\n",
      "(8, 'Adoni', 44, datetime.datetime(2006, 2, 15, 9, 45, 25))\n",
      "(9, 'Ahmadnagar', 44, datetime.datetime(2006, 2, 15, 9, 45, 25))\n",
      "(10, 'Akishima', 50, datetime.datetime(2006, 2, 15, 9, 45, 25))\n"
     ]
    }
   ],
   "source": [
    "#demo use of iterable\n",
    "for row in rows:\n",
    "    print(row)"
   ]
  },
  {
   "cell_type": "code",
   "execution_count": 16,
   "metadata": {
    "collapsed": true
   },
   "outputs": [],
   "source": [
    "#close the cursor\n",
    "cur.close()"
   ]
  },
  {
   "cell_type": "code",
   "execution_count": 18,
   "metadata": {
    "collapsed": true
   },
   "outputs": [],
   "source": [
    "#close the connection\n",
    "conn.close()"
   ]
  },
  {
   "cell_type": "markdown",
   "metadata": {},
   "source": [
    "# SqlAlchemy"
   ]
  },
  {
   "cell_type": "code",
   "execution_count": 22,
   "metadata": {
    "collapsed": false
   },
   "outputs": [
    {
     "data": {
      "text/plain": [
       "'1.1.5'"
      ]
     },
     "execution_count": 22,
     "metadata": {},
     "output_type": "execute_result"
    }
   ],
   "source": [
    "import sqlalchemy\n",
    "sqlalchemy.__version__"
   ]
  },
  {
   "cell_type": "code",
   "execution_count": 37,
   "metadata": {
    "collapsed": false
   },
   "outputs": [],
   "source": [
    "def pg_connect(user, password, db, host='localhost',port=5432):\n",
    "    '''Returns a connection and metada SqlAlchemy Object'''\n",
    "    url = 'postgresql://{}:{}@{}:{}/{}'\n",
    "    url = url.format(user, password, host, port, db)\n",
    "    engine = sqlalchemy.create_engine(url, client_encoding = 'utf8')\n",
    "    meta = sqlalchemy.MetaData()#bind = con, reflect = True)\n",
    "    \n",
    "    return (engine, meta)"
   ]
  },
  {
   "cell_type": "code",
   "execution_count": 39,
   "metadata": {
    "collapsed": false
   },
   "outputs": [],
   "source": [
    "engine, meta = pg_connect(credentials['user'],\n",
    "                       credentials['password'],\n",
    "                       'temp_db_rental')\n",
    "connection = engine.connect()"
   ]
  },
  {
   "cell_type": "code",
   "execution_count": 40,
   "metadata": {
    "collapsed": false
   },
   "outputs": [
    {
     "name": "stdout",
     "output_type": "stream",
     "text": [
      "['staff', 'category', 'film_category', 'country', 'actor', 'language', 'inventory', 'payment', 'rental', 'city', 'store', 'film_actor', 'address', 'film', 'customer']\n"
     ]
    }
   ],
   "source": [
    "print(engine.table_names())"
   ]
  },
  {
   "cell_type": "code",
   "execution_count": 41,
   "metadata": {
    "collapsed": true
   },
   "outputs": [],
   "source": [
    "staff_table = sqlalchemy.Table('staff', meta, autoload = True, autoload_with = engine)"
   ]
  },
  {
   "cell_type": "code",
   "execution_count": 42,
   "metadata": {
    "collapsed": false
   },
   "outputs": [
    {
     "name": "stdout",
     "output_type": "stream",
     "text": [
      "Table('staff', MetaData(bind=None), Column('staff_id', INTEGER(), table=<staff>, primary_key=True, nullable=False, server_default=DefaultClause(<sqlalchemy.sql.elements.TextClause object at 0x0000016BEAA2DB70>, for_update=False)), Column('first_name', VARCHAR(length=45), table=<staff>, nullable=False), Column('last_name', VARCHAR(length=45), table=<staff>, nullable=False), Column('address_id', SMALLINT(), ForeignKey('address.address_id'), table=<staff>, nullable=False), Column('email', VARCHAR(length=50), table=<staff>), Column('store_id', SMALLINT(), table=<staff>, nullable=False), Column('active', BOOLEAN(), table=<staff>, nullable=False, server_default=DefaultClause(<sqlalchemy.sql.elements.TextClause object at 0x0000016BEAA470F0>, for_update=False)), Column('username', VARCHAR(length=16), table=<staff>, nullable=False), Column('password', VARCHAR(length=40), table=<staff>), Column('last_update', TIMESTAMP(), table=<staff>, nullable=False, server_default=DefaultClause(<sqlalchemy.sql.elements.TextClause object at 0x0000016BEAA474E0>, for_update=False)), Column('picture', BYTEA(), table=<staff>), schema=None)\n"
     ]
    }
   ],
   "source": [
    "print(repr(staff_table))"
   ]
  },
  {
   "cell_type": "code",
   "execution_count": 44,
   "metadata": {
    "collapsed": false
   },
   "outputs": [
    {
     "data": {
      "text/plain": [
       "\"Table('staff', MetaData(bind=None), Column('staff_id', INTEGER(), table=<staff>, primary_key=True, nullable=False, server_default=DefaultClause(<sqlalchemy.sql.elements.TextClause object at 0x0000016BEAA2DB70>, for_update=False)), Column('first_name', VARCHAR(length=45), table=<staff>, nullable=False), Column('last_name', VARCHAR(length=45), table=<staff>, nullable=False), Column('address_id', SMALLINT(), ForeignKey('address.address_id'), table=<staff>, nullable=False), Column('email', VARCHAR(length=50), table=<staff>), Column('store_id', SMALLINT(), table=<staff>, nullable=False), Column('active', BOOLEAN(), table=<staff>, nullable=False, server_default=DefaultClause(<sqlalchemy.sql.elements.TextClause object at 0x0000016BEAA470F0>, for_update=False)), Column('username', VARCHAR(length=16), table=<staff>, nullable=False), Column('password', VARCHAR(length=40), table=<staff>), Column('last_update', TIMESTAMP(), table=<staff>, nullable=False, server_default=DefaultClause(<sqlalchemy.sql.elements.TextClause object at 0x0000016BEAA474E0>, for_update=False)), Column('picture', BYTEA(), table=<staff>), schema=None)\""
      ]
     },
     "execution_count": 44,
     "metadata": {},
     "output_type": "execute_result"
    }
   ],
   "source": [
    "repr(meta.tables['staff'])"
   ]
  },
  {
   "cell_type": "code",
   "execution_count": 45,
   "metadata": {
    "collapsed": true
   },
   "outputs": [],
   "source": [
    "stmt = 'SELECT * FROM staff LIMIT 20'"
   ]
  },
  {
   "cell_type": "code",
   "execution_count": 46,
   "metadata": {
    "collapsed": true
   },
   "outputs": [],
   "source": [
    "#Result Proxy\n",
    "res_proxy = connection.execute(stmt)"
   ]
  },
  {
   "cell_type": "code",
   "execution_count": 47,
   "metadata": {
    "collapsed": true
   },
   "outputs": [],
   "source": [
    "#Results Set\n",
    "results = res_proxy.fetchall()"
   ]
  },
  {
   "cell_type": "code",
   "execution_count": 48,
   "metadata": {
    "collapsed": false
   },
   "outputs": [
    {
     "name": "stdout",
     "output_type": "stream",
     "text": [
      "(1, 'Mike', 'Hillyer', 3, 'Mike.Hillyer@sakilastaff.com', 1, True, 'Mike', '8cb2237d0679ca88db6464eac60da96345513964', datetime.datetime(2006, 5, 16, 16, 13, 11, 793280), <memory at 0x0000016BEA9FAB88>)\n",
      "(2, 'Jon', 'Stephens', 4, 'Jon.Stephens@sakilastaff.com', 2, True, 'Jon', '8cb2237d0679ca88db6464eac60da96345513964', datetime.datetime(2006, 5, 16, 16, 13, 11, 793280), None)\n"
     ]
    }
   ],
   "source": [
    "for res in results:\n",
    "    print(res)"
   ]
  },
  {
   "cell_type": "code",
   "execution_count": 50,
   "metadata": {
    "collapsed": false
   },
   "outputs": [
    {
     "data": {
      "text/plain": [
       "['staff_id',\n",
       " 'first_name',\n",
       " 'last_name',\n",
       " 'address_id',\n",
       " 'email',\n",
       " 'store_id',\n",
       " 'active',\n",
       " 'username',\n",
       " 'password',\n",
       " 'last_update',\n",
       " 'picture']"
      ]
     },
     "execution_count": 50,
     "metadata": {},
     "output_type": "execute_result"
    }
   ],
   "source": [
    "first_row = results[0]\n",
    "first_row.keys()"
   ]
  },
  {
   "cell_type": "code",
   "execution_count": 54,
   "metadata": {
    "collapsed": false
   },
   "outputs": [
    {
     "data": {
      "text/plain": [
       "(1, 'Mike', 'Hillyer', 3, 'Mike.Hillyer@sakilastaff.com', 1, True, 'Mike', '8cb2237d0679ca88db6464eac60da96345513964', datetime.datetime(2006, 5, 16, 16, 13, 11, 793280), <memory at 0x0000016BEA9FAB88>)"
      ]
     },
     "execution_count": 54,
     "metadata": {},
     "output_type": "execute_result"
    }
   ],
   "source": [
    "first_row"
   ]
  }
 ],
 "metadata": {
  "anaconda-cloud": {},
  "kernelspec": {
   "display_name": "Python [conda env:py352]",
   "language": "python",
   "name": "conda-env-py352-py"
  },
  "language_info": {
   "codemirror_mode": {
    "name": "ipython",
    "version": 3
   },
   "file_extension": ".py",
   "mimetype": "text/x-python",
   "name": "python",
   "nbconvert_exporter": "python",
   "pygments_lexer": "ipython3",
   "version": "3.5.2"
  }
 },
 "nbformat": 4,
 "nbformat_minor": 1
}
