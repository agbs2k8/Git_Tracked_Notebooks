{
 "cells": [
  {
   "cell_type": "code",
   "execution_count": 1,
   "metadata": {
    "collapsed": true
   },
   "outputs": [],
   "source": [
    "import ujson\n",
    "import pandas as pd"
   ]
  },
  {
   "cell_type": "code",
   "execution_count": 3,
   "metadata": {
    "collapsed": false
   },
   "outputs": [],
   "source": [
    "#import access package to use PostgreSQL directly\n",
    "import psycopg2"
   ]
  },
  {
   "cell_type": "code",
   "execution_count": 10,
   "metadata": {
    "collapsed": false
   },
   "outputs": [],
   "source": [
    "#Store login credentials in local file to access \n",
    "credentials = ujson.load(open(\"D:\\\\Python\\\\posgresql_credentials.json\",\"r\"))"
   ]
  },
  {
   "cell_type": "code",
   "execution_count": 11,
   "metadata": {
    "collapsed": false
   },
   "outputs": [
    {
     "data": {
      "text/plain": [
       "'dev'"
      ]
     },
     "execution_count": 11,
     "metadata": {},
     "output_type": "execute_result"
    }
   ],
   "source": [
    "#validate user for loaded credentials\n",
    "credentials['user']"
   ]
  },
  {
   "cell_type": "code",
   "execution_count": 12,
   "metadata": {
    "collapsed": false
   },
   "outputs": [],
   "source": [
    "#create connection to PostgreSQL Database\n",
    "conn = psycopg2.connect(host=\"localhost\",\n",
    "                        database=\"temp_db_rental\", \n",
    "                        user=credentials['user'], \n",
    "                        password=credentials['password'])"
   ]
  },
  {
   "cell_type": "code",
   "execution_count": 13,
   "metadata": {
    "collapsed": true
   },
   "outputs": [],
   "source": [
    "#create cursor object\n",
    "cur = conn.cursor()"
   ]
  },
  {
   "cell_type": "code",
   "execution_count": 14,
   "metadata": {
    "collapsed": true
   },
   "outputs": [],
   "source": [
    "#create SQL statement to execute\n",
    "cur.execute(\"SELECT * FROM city LIMIT 10\")"
   ]
  },
  {
   "cell_type": "code",
   "execution_count": null,
   "metadata": {
    "collapsed": true
   },
   "outputs": [],
   "source": [
    "#create iterable that can loop through the selected data\n",
    "rows = cur.fetchall()"
   ]
  },
  {
   "cell_type": "code",
   "execution_count": 15,
   "metadata": {
    "collapsed": false
   },
   "outputs": [
    {
     "name": "stdout",
     "output_type": "stream",
     "text": [
      "(1, 'A Corua (La Corua)', 87, datetime.datetime(2006, 2, 15, 9, 45, 25))\n",
      "(2, 'Abha', 82, datetime.datetime(2006, 2, 15, 9, 45, 25))\n",
      "(3, 'Abu Dhabi', 101, datetime.datetime(2006, 2, 15, 9, 45, 25))\n",
      "(4, 'Acua', 60, datetime.datetime(2006, 2, 15, 9, 45, 25))\n",
      "(5, 'Adana', 97, datetime.datetime(2006, 2, 15, 9, 45, 25))\n",
      "(6, 'Addis Abeba', 31, datetime.datetime(2006, 2, 15, 9, 45, 25))\n",
      "(7, 'Aden', 107, datetime.datetime(2006, 2, 15, 9, 45, 25))\n",
      "(8, 'Adoni', 44, datetime.datetime(2006, 2, 15, 9, 45, 25))\n",
      "(9, 'Ahmadnagar', 44, datetime.datetime(2006, 2, 15, 9, 45, 25))\n",
      "(10, 'Akishima', 50, datetime.datetime(2006, 2, 15, 9, 45, 25))\n"
     ]
    }
   ],
   "source": [
    "#demo use of iterable\n",
    "for row in rows:\n",
    "    print(row)"
   ]
  },
  {
   "cell_type": "code",
   "execution_count": 16,
   "metadata": {
    "collapsed": true
   },
   "outputs": [],
   "source": [
    "#close the cursor\n",
    "cur.close()"
   ]
  },
  {
   "cell_type": "code",
   "execution_count": 18,
   "metadata": {
    "collapsed": true
   },
   "outputs": [],
   "source": [
    "#close the connection\n",
    "conn.close()"
   ]
  }
 ],
 "metadata": {
  "anaconda-cloud": {},
  "kernelspec": {
   "display_name": "Python [conda env:py352]",
   "language": "python",
   "name": "conda-env-py352-py"
  },
  "language_info": {
   "codemirror_mode": {
    "name": "ipython",
    "version": 3
   },
   "file_extension": ".py",
   "mimetype": "text/x-python",
   "name": "python",
   "nbconvert_exporter": "python",
   "pygments_lexer": "ipython3",
   "version": "3.5.2"
  }
 },
 "nbformat": 4,
 "nbformat_minor": 1
}
