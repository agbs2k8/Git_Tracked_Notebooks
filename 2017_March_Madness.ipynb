{
 "cells": [
  {
   "cell_type": "markdown",
   "metadata": {},
   "source": [
    "# Kaggle 2017 March Madness Tourny"
   ]
  },
  {
   "cell_type": "code",
   "execution_count": 120,
   "metadata": {
    "collapsed": false
   },
   "outputs": [],
   "source": [
    "import numpy as np\n",
    "import pandas as pd\n",
    "import pickle\n",
    "\n",
    "import matplotlib\n",
    "import matplotlib.pyplot as plt\n",
    "%matplotlib inline\n",
    "matplotlib.style.use('fivethirtyeight')\n",
    "\n",
    "#Required for other guy's logistic regression \n",
    "from sklearn.linear_model import LogisticRegression\n",
    "from sklearn.utils import shuffle\n",
    "from sklearn.model_selection import GridSearchCV\n",
    "\n",
    "#Additional to Implement my Logistic Regression\n",
    "from patsy import dmatrices \n",
    "from sklearn.cross_validation import train_test_split\n",
    "from sklearn import metrics\n",
    "from sklearn.model_selection import cross_val_score\n",
    "\n",
    "import warnings\n",
    "warnings.filterwarnings('ignore')"
   ]
  },
  {
   "cell_type": "code",
   "execution_count": 2,
   "metadata": {
    "collapsed": false
   },
   "outputs": [
    {
     "name": "stdout",
     "output_type": "stream",
     "text": [
      "['seaborn-dark', 'seaborn-deep', 'seaborn-talk', 'grayscale', 'seaborn-notebook', 'seaborn-muted', 'seaborn-white', 'ggplot', 'dark_background', 'seaborn-darkgrid', 'seaborn-colorblind', 'seaborn-pastel', 'fivethirtyeight', 'seaborn-whitegrid', 'seaborn-bright', 'seaborn-dark-palette', 'classic', 'seaborn', 'seaborn-paper', 'bmh', 'seaborn-poster', 'seaborn-ticks']\n"
     ]
    }
   ],
   "source": [
    "print(plt.style.available)"
   ]
  },
  {
   "cell_type": "code",
   "execution_count": 96,
   "metadata": {
    "collapsed": true
   },
   "outputs": [],
   "source": [
    "file_path = 'D:\\_data_science_data\\\\2017_march_madness\\\\'\n",
    "file_path2 = 'D:\\_data_science_data\\\\2017_march_madness\\\\tourney17\\\\'"
   ]
  },
  {
   "cell_type": "markdown",
   "metadata": {},
   "source": [
    "# Other Guy's Logistic Regression Example"
   ]
  },
  {
   "cell_type": "code",
   "execution_count": 4,
   "metadata": {
    "collapsed": false
   },
   "outputs": [
    {
     "data": {
      "text/html": [
       "<div>\n",
       "<table border=\"1\" class=\"dataframe\">\n",
       "  <thead>\n",
       "    <tr style=\"text-align: right;\">\n",
       "      <th></th>\n",
       "      <th>Season</th>\n",
       "      <th>Seed</th>\n",
       "      <th>Team</th>\n",
       "    </tr>\n",
       "  </thead>\n",
       "  <tbody>\n",
       "    <tr>\n",
       "      <th>0</th>\n",
       "      <td>1985</td>\n",
       "      <td>W01</td>\n",
       "      <td>1207</td>\n",
       "    </tr>\n",
       "    <tr>\n",
       "      <th>1</th>\n",
       "      <td>1985</td>\n",
       "      <td>W02</td>\n",
       "      <td>1210</td>\n",
       "    </tr>\n",
       "    <tr>\n",
       "      <th>2</th>\n",
       "      <td>1985</td>\n",
       "      <td>W03</td>\n",
       "      <td>1228</td>\n",
       "    </tr>\n",
       "    <tr>\n",
       "      <th>3</th>\n",
       "      <td>1985</td>\n",
       "      <td>W04</td>\n",
       "      <td>1260</td>\n",
       "    </tr>\n",
       "    <tr>\n",
       "      <th>4</th>\n",
       "      <td>1985</td>\n",
       "      <td>W05</td>\n",
       "      <td>1374</td>\n",
       "    </tr>\n",
       "    <tr>\n",
       "      <th>5</th>\n",
       "      <td>1985</td>\n",
       "      <td>W06</td>\n",
       "      <td>1208</td>\n",
       "    </tr>\n",
       "  </tbody>\n",
       "</table>\n",
       "</div>"
      ],
      "text/plain": [
       "   Season Seed  Team\n",
       "0    1985  W01  1207\n",
       "1    1985  W02  1210\n",
       "2    1985  W03  1228\n",
       "3    1985  W04  1260\n",
       "4    1985  W05  1374\n",
       "5    1985  W06  1208"
      ]
     },
     "execution_count": 4,
     "metadata": {},
     "output_type": "execute_result"
    }
   ],
   "source": [
    "df_seeds = pd.read_csv(file_path+\"TourneySeeds.csv\")\n",
    "df_seeds[:6]"
   ]
  },
  {
   "cell_type": "code",
   "execution_count": 5,
   "metadata": {
    "collapsed": false
   },
   "outputs": [
    {
     "data": {
      "text/html": [
       "<div>\n",
       "<table border=\"1\" class=\"dataframe\">\n",
       "  <thead>\n",
       "    <tr style=\"text-align: right;\">\n",
       "      <th></th>\n",
       "      <th>Season</th>\n",
       "      <th>Daynum</th>\n",
       "      <th>Wteam</th>\n",
       "      <th>Wscore</th>\n",
       "      <th>Lteam</th>\n",
       "      <th>Lscore</th>\n",
       "      <th>Wloc</th>\n",
       "      <th>Numot</th>\n",
       "    </tr>\n",
       "  </thead>\n",
       "  <tbody>\n",
       "    <tr>\n",
       "      <th>0</th>\n",
       "      <td>1985</td>\n",
       "      <td>136</td>\n",
       "      <td>1116</td>\n",
       "      <td>63</td>\n",
       "      <td>1234</td>\n",
       "      <td>54</td>\n",
       "      <td>N</td>\n",
       "      <td>0</td>\n",
       "    </tr>\n",
       "    <tr>\n",
       "      <th>1</th>\n",
       "      <td>1985</td>\n",
       "      <td>136</td>\n",
       "      <td>1120</td>\n",
       "      <td>59</td>\n",
       "      <td>1345</td>\n",
       "      <td>58</td>\n",
       "      <td>N</td>\n",
       "      <td>0</td>\n",
       "    </tr>\n",
       "    <tr>\n",
       "      <th>2</th>\n",
       "      <td>1985</td>\n",
       "      <td>136</td>\n",
       "      <td>1207</td>\n",
       "      <td>68</td>\n",
       "      <td>1250</td>\n",
       "      <td>43</td>\n",
       "      <td>N</td>\n",
       "      <td>0</td>\n",
       "    </tr>\n",
       "    <tr>\n",
       "      <th>3</th>\n",
       "      <td>1985</td>\n",
       "      <td>136</td>\n",
       "      <td>1229</td>\n",
       "      <td>58</td>\n",
       "      <td>1425</td>\n",
       "      <td>55</td>\n",
       "      <td>N</td>\n",
       "      <td>0</td>\n",
       "    </tr>\n",
       "    <tr>\n",
       "      <th>4</th>\n",
       "      <td>1985</td>\n",
       "      <td>136</td>\n",
       "      <td>1242</td>\n",
       "      <td>49</td>\n",
       "      <td>1325</td>\n",
       "      <td>38</td>\n",
       "      <td>N</td>\n",
       "      <td>0</td>\n",
       "    </tr>\n",
       "    <tr>\n",
       "      <th>5</th>\n",
       "      <td>1985</td>\n",
       "      <td>136</td>\n",
       "      <td>1246</td>\n",
       "      <td>66</td>\n",
       "      <td>1449</td>\n",
       "      <td>58</td>\n",
       "      <td>N</td>\n",
       "      <td>0</td>\n",
       "    </tr>\n",
       "  </tbody>\n",
       "</table>\n",
       "</div>"
      ],
      "text/plain": [
       "   Season  Daynum  Wteam  Wscore  Lteam  Lscore Wloc  Numot\n",
       "0    1985     136   1116      63   1234      54    N      0\n",
       "1    1985     136   1120      59   1345      58    N      0\n",
       "2    1985     136   1207      68   1250      43    N      0\n",
       "3    1985     136   1229      58   1425      55    N      0\n",
       "4    1985     136   1242      49   1325      38    N      0\n",
       "5    1985     136   1246      66   1449      58    N      0"
      ]
     },
     "execution_count": 5,
     "metadata": {},
     "output_type": "execute_result"
    }
   ],
   "source": [
    "df_tour = pd.read_csv(file_path+\"TourneyCompactResults.csv\")\n",
    "df_tour[:6]"
   ]
  },
  {
   "cell_type": "code",
   "execution_count": 6,
   "metadata": {
    "collapsed": true
   },
   "outputs": [],
   "source": [
    "df_tour.drop(labels=['Daynum', 'Wscore', 'Lscore', 'Wloc', 'Numot'], inplace=True, axis=1)"
   ]
  },
  {
   "cell_type": "code",
   "execution_count": 7,
   "metadata": {
    "collapsed": true
   },
   "outputs": [],
   "source": [
    "def seed_to_int(seed):\n",
    "    \"\"\"Get just the digits from the seeding. Return as int\"\"\"\n",
    "    s_int = int(seed[1:3])\n",
    "    return s_int\n",
    "df_seeds['n_seed'] = df_seeds.Seed.apply(seed_to_int)\n",
    "df_seeds.drop(labels=['Seed'], inplace=True, axis=1) # This is the string label"
   ]
  },
  {
   "cell_type": "code",
   "execution_count": 8,
   "metadata": {
    "collapsed": false
   },
   "outputs": [],
   "source": [
    "df_winseeds = df_seeds.rename(columns={'Team':'Wteam', 'n_seed':'win_seed'})\n",
    "df_lossseeds = df_seeds.rename(columns={'Team':'Lteam', 'n_seed':'loss_seed'})"
   ]
  },
  {
   "cell_type": "code",
   "execution_count": 9,
   "metadata": {
    "collapsed": true
   },
   "outputs": [],
   "source": [
    "df_dummy = pd.merge(left=df_tour, right=df_winseeds, how='left', on=['Season', 'Wteam'])\n",
    "df_concat = pd.merge(left=df_dummy, right=df_lossseeds, on=['Season', 'Lteam'])\n",
    "df_concat['seed_diff'] = df_concat.win_seed - df_concat.loss_seed"
   ]
  },
  {
   "cell_type": "code",
   "execution_count": 10,
   "metadata": {
    "collapsed": true
   },
   "outputs": [],
   "source": [
    "df_wins = pd.DataFrame()\n",
    "df_wins['seed_diff'] = df_concat['seed_diff']\n",
    "df_wins['result'] = 1\n",
    "\n",
    "df_losses = pd.DataFrame()\n",
    "df_losses['seed_diff'] = -df_concat['seed_diff']\n",
    "df_losses['result'] = 0\n",
    "\n",
    "df_for_predictions = pd.concat((df_wins, df_losses))"
   ]
  },
  {
   "cell_type": "code",
   "execution_count": 11,
   "metadata": {
    "collapsed": true
   },
   "outputs": [],
   "source": [
    "X_train = df_for_predictions.seed_diff.values.reshape(-1,1)\n",
    "y_train = df_for_predictions.result.values\n",
    "X_train, y_train = shuffle(X_train, y_train)"
   ]
  },
  {
   "cell_type": "code",
   "execution_count": 12,
   "metadata": {
    "collapsed": false
   },
   "outputs": [
    {
     "name": "stdout",
     "output_type": "stream",
     "text": [
      "Best log_loss: -0.5536, with best C: 0.01\n"
     ]
    }
   ],
   "source": [
    "logreg = LogisticRegression()\n",
    "params = {'C': np.logspace(start=-5, stop=3, num=9)}\n",
    "clf = GridSearchCV(logreg, params, scoring='neg_log_loss', refit=True)\n",
    "clf.fit(X_train, y_train)\n",
    "print('Best log_loss: {:.4}, with best C: {}'.format(clf.best_score_, clf.best_params_['C']))"
   ]
  },
  {
   "cell_type": "code",
   "execution_count": 13,
   "metadata": {
    "collapsed": true
   },
   "outputs": [],
   "source": [
    "X = np.arange(-16, 16).reshape(-1, 1)\n",
    "preds = clf.predict_proba(X)[:,1]"
   ]
  },
  {
   "cell_type": "code",
   "execution_count": 14,
   "metadata": {
    "collapsed": false
   },
   "outputs": [
    {
     "data": {
      "text/plain": [
       "<matplotlib.text.Text at 0x21e25114e48>"
      ]
     },
     "execution_count": 14,
     "metadata": {},
     "output_type": "execute_result"
    },
    {
     "data": {
      "image/png": "[encoded data removed]",
      "text/plain": [
       "<matplotlib.figure.Figure at 0x21e2507f0f0>"
      ]
     },
     "metadata": {},
     "output_type": "display_data"
    }
   ],
   "source": [
    "plt.plot(X, preds)\n",
    "plt.xlabel('Team1 seed - Team2 seed')\n",
    "plt.ylabel('P(Team1 will win)')"
   ]
  },
  {
   "cell_type": "code",
   "execution_count": 15,
   "metadata": {
    "collapsed": false
   },
   "outputs": [],
   "source": [
    "df_sample_sub = pd.read_csv(file_path + 'sample_submission.csv')\n",
    "n_test_games = len(df_sample_sub)\n",
    "#df_sample_sub[:6]"
   ]
  },
  {
   "cell_type": "code",
   "execution_count": 16,
   "metadata": {
    "collapsed": true
   },
   "outputs": [],
   "source": [
    "def get_year_t1_t2(id):\n",
    "    \"\"\"Return a tuple with ints `year`, `team1` and `team2`.\"\"\"\n",
    "    return (int(x) for x in id.split('_'))\n",
    "#We loop over each row in the sample_submission.csv file. For each row, we extract the year and the teams playing. \n",
    "#We then look up the seeds for each of those teams in that season. Finally we add the seed difference to an array."
   ]
  },
  {
   "cell_type": "code",
   "execution_count": 17,
   "metadata": {
    "collapsed": false
   },
   "outputs": [],
   "source": [
    "X_test = np.zeros(shape=(n_test_games, 1))\n",
    "for ii, row in df_sample_sub.iterrows():\n",
    "    year, t1, t2 = get_year_t1_t2(row.id)\n",
    "    # There absolutely must be a better way of doing this!\n",
    "    t1_seed = df_seeds[(df_seeds.Team == t1) & (df_seeds.Season == year)].n_seed.values[0]\n",
    "    t2_seed = df_seeds[(df_seeds.Team == t2) & (df_seeds.Season == year)].n_seed.values[0]\n",
    "    diff_seed = t1_seed - t2_seed\n",
    "    X_test[ii, 0] = diff_seed"
   ]
  },
  {
   "cell_type": "code",
   "execution_count": 18,
   "metadata": {
    "collapsed": true
   },
   "outputs": [],
   "source": [
    "preds = clf.predict_proba(X_test)[:,1]"
   ]
  },
  {
   "cell_type": "code",
   "execution_count": 19,
   "metadata": {
    "collapsed": false
   },
   "outputs": [
    {
     "data": {
      "text/html": [
       "<div>\n",
       "<table border=\"1\" class=\"dataframe\">\n",
       "  <thead>\n",
       "    <tr style=\"text-align: right;\">\n",
       "      <th></th>\n",
       "      <th>id</th>\n",
       "      <th>pred</th>\n",
       "    </tr>\n",
       "  </thead>\n",
       "  <tbody>\n",
       "    <tr>\n",
       "      <th>0</th>\n",
       "      <td>2013_1103_1107</td>\n",
       "      <td>0.622432</td>\n",
       "    </tr>\n",
       "    <tr>\n",
       "      <th>1</th>\n",
       "      <td>2013_1103_1112</td>\n",
       "      <td>0.268988</td>\n",
       "    </tr>\n",
       "    <tr>\n",
       "      <th>2</th>\n",
       "      <td>2013_1103_1125</td>\n",
       "      <td>0.458439</td>\n",
       "    </tr>\n",
       "    <tr>\n",
       "      <th>3</th>\n",
       "      <td>2013_1103_1129</td>\n",
       "      <td>0.541561</td>\n",
       "    </tr>\n",
       "    <tr>\n",
       "      <th>4</th>\n",
       "      <td>2013_1103_1137</td>\n",
       "      <td>0.458439</td>\n",
       "    </tr>\n",
       "  </tbody>\n",
       "</table>\n",
       "</div>"
      ],
      "text/plain": [
       "               id      pred\n",
       "0  2013_1103_1107  0.622432\n",
       "1  2013_1103_1112  0.268988\n",
       "2  2013_1103_1125  0.458439\n",
       "3  2013_1103_1129  0.541561\n",
       "4  2013_1103_1137  0.458439"
      ]
     },
     "execution_count": 19,
     "metadata": {},
     "output_type": "execute_result"
    }
   ],
   "source": [
    "clipped_preds = np.clip(preds, 0.05, 0.95)\n",
    "df_sample_sub.pred = clipped_preds\n",
    "df_sample_sub.head()"
   ]
  },
  {
   "cell_type": "code",
   "execution_count": 20,
   "metadata": {
    "collapsed": true
   },
   "outputs": [],
   "source": [
    "df_sample_sub.to_csv('other_guys_logreg_on_seed.csv', index=False)"
   ]
  },
  {
   "cell_type": "markdown",
   "metadata": {},
   "source": [
    "# AJ's Work and Predictions!"
   ]
  },
  {
   "cell_type": "markdown",
   "metadata": {},
   "source": [
    "## What is in the data:"
   ]
  },
  {
   "cell_type": "markdown",
   "metadata": {},
   "source": [
    "### Teams"
   ]
  },
  {
   "cell_type": "code",
   "execution_count": 112,
   "metadata": {
    "collapsed": false
   },
   "outputs": [
    {
     "data": {
      "text/html": [
       "<div>\n",
       "<table border=\"1\" class=\"dataframe\">\n",
       "  <thead>\n",
       "    <tr style=\"text-align: right;\">\n",
       "      <th></th>\n",
       "      <th>Team_Id</th>\n",
       "      <th>Team_Name</th>\n",
       "    </tr>\n",
       "  </thead>\n",
       "  <tbody>\n",
       "    <tr>\n",
       "      <th>0</th>\n",
       "      <td>1101</td>\n",
       "      <td>Abilene Chr</td>\n",
       "    </tr>\n",
       "    <tr>\n",
       "      <th>1</th>\n",
       "      <td>1102</td>\n",
       "      <td>Air Force</td>\n",
       "    </tr>\n",
       "    <tr>\n",
       "      <th>2</th>\n",
       "      <td>1103</td>\n",
       "      <td>Akron</td>\n",
       "    </tr>\n",
       "    <tr>\n",
       "      <th>3</th>\n",
       "      <td>1104</td>\n",
       "      <td>Alabama</td>\n",
       "    </tr>\n",
       "    <tr>\n",
       "      <th>4</th>\n",
       "      <td>1105</td>\n",
       "      <td>Alabama A&amp;M</td>\n",
       "    </tr>\n",
       "    <tr>\n",
       "      <th>5</th>\n",
       "      <td>1106</td>\n",
       "      <td>Alabama St</td>\n",
       "    </tr>\n",
       "  </tbody>\n",
       "</table>\n",
       "</div>"
      ],
      "text/plain": [
       "   Team_Id    Team_Name\n",
       "0     1101  Abilene Chr\n",
       "1     1102    Air Force\n",
       "2     1103        Akron\n",
       "3     1104      Alabama\n",
       "4     1105  Alabama A&M\n",
       "5     1106   Alabama St"
      ]
     },
     "execution_count": 112,
     "metadata": {},
     "output_type": "execute_result"
    }
   ],
   "source": [
    "df_teams = pd.read_csv(file_path2+\"Teams.csv\")\n",
    "df_teams[:6]"
   ]
  },
  {
   "cell_type": "markdown",
   "metadata": {},
   "source": [
    "### Regular Season Compact Results\n",
    "* \"season\" - this is the year of the associated entry in seasons.csv (the year in which the final tournament occurs)\n",
    "* \"daynum\" - this integer always ranges from 0 to 132, and tells you what day the game was played on. It represents an offset from the \"dayzero\" date in the \"seasons.csv\" file. For example, the first game in the file was daynum=20. Combined with the fact from the \"season.csv\" file that day zero was 10/29/1984, that means the first game was played 20 days later, or 11/18/1984. There are no teams that ever played more than one game on a given date, so you can use this fact if you need a unique key. In order to accomplish this uniqueness, we had to adjust one game's date. In March 2008, the SEC postseason tournament had to reschedule one game (Georgia-Kentucky) to a subsequent day, so Georgia had to actually play two games on the same day. In order to enforce this uniqueness, we moved the game date for the Georgia-Kentucky game back to its original date.\n",
    "* \"wteam\" - this identifies the id number of the team that won the game, as listed in the \"teams.csv\" file. No matter whether the game was won by the home team or visiting team, \"wteam\" always identifies the winning team.\n",
    "* \"wscore\" - this identifies the number of points scored by the winning team.\n",
    "* \"lteam\" - this identifies the id number of the team that lost the game.\n",
    "* \"lscore\" - this identifies the number of points scored by the losing team.\n",
    "* \"numot\" - this indicates the number of overtime periods in the game, an integer 0 or higher.\n",
    "* \"wloc\" - this identifies the \"location\" of the winning team. If the winning team was the home team, this value will be \"H\". If the winning team was the visiting team, this value will be \"A\". If it was played on a neutral court, then this value will be \"N\". Sometimes it is unclear whether the site should be considered neutral, since it is near one team's home court, or even on their court during a tournament, but for this determination we have simply used the Kenneth Massey data in its current state, where the \"@\" sign is either listed with the winning team, the losing team, or neither team."
   ]
  },
  {
   "cell_type": "code",
   "execution_count": 4,
   "metadata": {
    "collapsed": false
   },
   "outputs": [
    {
     "data": {
      "text/html": [
       "<div>\n",
       "<table border=\"1\" class=\"dataframe\">\n",
       "  <thead>\n",
       "    <tr style=\"text-align: right;\">\n",
       "      <th></th>\n",
       "      <th>Season</th>\n",
       "      <th>Daynum</th>\n",
       "      <th>Wteam</th>\n",
       "      <th>Wscore</th>\n",
       "      <th>Lteam</th>\n",
       "      <th>Lscore</th>\n",
       "      <th>Wloc</th>\n",
       "      <th>Numot</th>\n",
       "    </tr>\n",
       "  </thead>\n",
       "  <tbody>\n",
       "    <tr>\n",
       "      <th>0</th>\n",
       "      <td>1985</td>\n",
       "      <td>20</td>\n",
       "      <td>1228</td>\n",
       "      <td>81</td>\n",
       "      <td>1328</td>\n",
       "      <td>64</td>\n",
       "      <td>N</td>\n",
       "      <td>0</td>\n",
       "    </tr>\n",
       "    <tr>\n",
       "      <th>1</th>\n",
       "      <td>1985</td>\n",
       "      <td>25</td>\n",
       "      <td>1106</td>\n",
       "      <td>77</td>\n",
       "      <td>1354</td>\n",
       "      <td>70</td>\n",
       "      <td>H</td>\n",
       "      <td>0</td>\n",
       "    </tr>\n",
       "    <tr>\n",
       "      <th>2</th>\n",
       "      <td>1985</td>\n",
       "      <td>25</td>\n",
       "      <td>1112</td>\n",
       "      <td>63</td>\n",
       "      <td>1223</td>\n",
       "      <td>56</td>\n",
       "      <td>H</td>\n",
       "      <td>0</td>\n",
       "    </tr>\n",
       "    <tr>\n",
       "      <th>3</th>\n",
       "      <td>1985</td>\n",
       "      <td>25</td>\n",
       "      <td>1165</td>\n",
       "      <td>70</td>\n",
       "      <td>1432</td>\n",
       "      <td>54</td>\n",
       "      <td>H</td>\n",
       "      <td>0</td>\n",
       "    </tr>\n",
       "    <tr>\n",
       "      <th>4</th>\n",
       "      <td>1985</td>\n",
       "      <td>25</td>\n",
       "      <td>1192</td>\n",
       "      <td>86</td>\n",
       "      <td>1447</td>\n",
       "      <td>74</td>\n",
       "      <td>H</td>\n",
       "      <td>0</td>\n",
       "    </tr>\n",
       "    <tr>\n",
       "      <th>5</th>\n",
       "      <td>1985</td>\n",
       "      <td>25</td>\n",
       "      <td>1218</td>\n",
       "      <td>79</td>\n",
       "      <td>1337</td>\n",
       "      <td>78</td>\n",
       "      <td>H</td>\n",
       "      <td>0</td>\n",
       "    </tr>\n",
       "  </tbody>\n",
       "</table>\n",
       "</div>"
      ],
      "text/plain": [
       "   Season  Daynum  Wteam  Wscore  Lteam  Lscore Wloc  Numot\n",
       "0    1985      20   1228      81   1328      64    N      0\n",
       "1    1985      25   1106      77   1354      70    H      0\n",
       "2    1985      25   1112      63   1223      56    H      0\n",
       "3    1985      25   1165      70   1432      54    H      0\n",
       "4    1985      25   1192      86   1447      74    H      0\n",
       "5    1985      25   1218      79   1337      78    H      0"
      ]
     },
     "execution_count": 4,
     "metadata": {},
     "output_type": "execute_result"
    }
   ],
   "source": [
    "df_rscr = pd.read_csv(file_path+\"RegularSeasonCompactResults.csv\")\n",
    "df_rscr[:6]"
   ]
  },
  {
   "cell_type": "markdown",
   "metadata": {},
   "source": [
    "### Regular Season Detailed Results\n",
    "This file is a more detailed set of game results, covering seasons 2003-2016. This includes team-level total statistics for each game (total field goals attempted, offensive rebounds, etc.) The column names should be self-explanatory to basketball fans (as above, \"w\" or \"l\" refers to the winning or losing team):\n",
    "\n",
    "* wfgm - field goals made\n",
    "* wfga - field goals attempted\n",
    "* wfgm3 - three pointers made\n",
    "* wfga3 - three pointers attempted\n",
    "* wftm - free throws made\n",
    "* wfta - free throws attempted\n",
    "* wor - offensive rebounds\n",
    "* wdr - defensive rebounds\n",
    "* wast - assists\n",
    "* wto - turnovers\n",
    "* wstl - steals\n",
    "* wblk - blocks\n",
    "* wpf - personal fouls"
   ]
  },
  {
   "cell_type": "code",
   "execution_count": 105,
   "metadata": {
    "collapsed": false
   },
   "outputs": [
    {
     "name": "stdout",
     "output_type": "stream",
     "text": [
      "['Season' 'Daynum' 'Wteam' 'Wscore' 'Lteam' 'Lscore' 'Wloc' 'Numot' 'Wfgm'\n",
      " 'Wfga' 'Wfgm3' 'Wfga3' 'Wftm' 'Wfta' 'Wor' 'Wdr' 'Wast' 'Wto' 'Wstl'\n",
      " 'Wblk' 'Wpf' 'Lfgm' 'Lfga' 'Lfgm3' 'Lfga3' 'Lftm' 'Lfta' 'Lor' 'Ldr'\n",
      " 'Last' 'Lto' 'Lstl' 'Lblk' 'Lpf']\n"
     ]
    },
    {
     "data": {
      "text/html": [
       "<div>\n",
       "<table border=\"1\" class=\"dataframe\">\n",
       "  <thead>\n",
       "    <tr style=\"text-align: right;\">\n",
       "      <th></th>\n",
       "      <th>Season</th>\n",
       "      <th>Daynum</th>\n",
       "      <th>Wteam</th>\n",
       "      <th>Wscore</th>\n",
       "      <th>Lteam</th>\n",
       "      <th>Lscore</th>\n",
       "      <th>Wloc</th>\n",
       "      <th>Numot</th>\n",
       "      <th>Wfgm</th>\n",
       "      <th>Wfga</th>\n",
       "      <th>...</th>\n",
       "      <th>Lfga3</th>\n",
       "      <th>Lftm</th>\n",
       "      <th>Lfta</th>\n",
       "      <th>Lor</th>\n",
       "      <th>Ldr</th>\n",
       "      <th>Last</th>\n",
       "      <th>Lto</th>\n",
       "      <th>Lstl</th>\n",
       "      <th>Lblk</th>\n",
       "      <th>Lpf</th>\n",
       "    </tr>\n",
       "  </thead>\n",
       "  <tbody>\n",
       "    <tr>\n",
       "      <th>0</th>\n",
       "      <td>2003</td>\n",
       "      <td>10</td>\n",
       "      <td>1104</td>\n",
       "      <td>68</td>\n",
       "      <td>1328</td>\n",
       "      <td>62</td>\n",
       "      <td>N</td>\n",
       "      <td>0</td>\n",
       "      <td>27</td>\n",
       "      <td>58</td>\n",
       "      <td>...</td>\n",
       "      <td>10</td>\n",
       "      <td>16</td>\n",
       "      <td>22</td>\n",
       "      <td>10</td>\n",
       "      <td>22</td>\n",
       "      <td>8</td>\n",
       "      <td>18</td>\n",
       "      <td>9</td>\n",
       "      <td>2</td>\n",
       "      <td>20</td>\n",
       "    </tr>\n",
       "    <tr>\n",
       "      <th>1</th>\n",
       "      <td>2003</td>\n",
       "      <td>10</td>\n",
       "      <td>1272</td>\n",
       "      <td>70</td>\n",
       "      <td>1393</td>\n",
       "      <td>63</td>\n",
       "      <td>N</td>\n",
       "      <td>0</td>\n",
       "      <td>26</td>\n",
       "      <td>62</td>\n",
       "      <td>...</td>\n",
       "      <td>24</td>\n",
       "      <td>9</td>\n",
       "      <td>20</td>\n",
       "      <td>20</td>\n",
       "      <td>25</td>\n",
       "      <td>7</td>\n",
       "      <td>12</td>\n",
       "      <td>8</td>\n",
       "      <td>6</td>\n",
       "      <td>16</td>\n",
       "    </tr>\n",
       "    <tr>\n",
       "      <th>2</th>\n",
       "      <td>2003</td>\n",
       "      <td>11</td>\n",
       "      <td>1266</td>\n",
       "      <td>73</td>\n",
       "      <td>1437</td>\n",
       "      <td>61</td>\n",
       "      <td>N</td>\n",
       "      <td>0</td>\n",
       "      <td>24</td>\n",
       "      <td>58</td>\n",
       "      <td>...</td>\n",
       "      <td>26</td>\n",
       "      <td>14</td>\n",
       "      <td>23</td>\n",
       "      <td>31</td>\n",
       "      <td>22</td>\n",
       "      <td>9</td>\n",
       "      <td>12</td>\n",
       "      <td>2</td>\n",
       "      <td>5</td>\n",
       "      <td>23</td>\n",
       "    </tr>\n",
       "    <tr>\n",
       "      <th>3</th>\n",
       "      <td>2003</td>\n",
       "      <td>11</td>\n",
       "      <td>1296</td>\n",
       "      <td>56</td>\n",
       "      <td>1457</td>\n",
       "      <td>50</td>\n",
       "      <td>N</td>\n",
       "      <td>0</td>\n",
       "      <td>18</td>\n",
       "      <td>38</td>\n",
       "      <td>...</td>\n",
       "      <td>22</td>\n",
       "      <td>8</td>\n",
       "      <td>15</td>\n",
       "      <td>17</td>\n",
       "      <td>20</td>\n",
       "      <td>9</td>\n",
       "      <td>19</td>\n",
       "      <td>4</td>\n",
       "      <td>3</td>\n",
       "      <td>23</td>\n",
       "    </tr>\n",
       "    <tr>\n",
       "      <th>4</th>\n",
       "      <td>2003</td>\n",
       "      <td>11</td>\n",
       "      <td>1400</td>\n",
       "      <td>77</td>\n",
       "      <td>1208</td>\n",
       "      <td>71</td>\n",
       "      <td>N</td>\n",
       "      <td>0</td>\n",
       "      <td>30</td>\n",
       "      <td>61</td>\n",
       "      <td>...</td>\n",
       "      <td>16</td>\n",
       "      <td>17</td>\n",
       "      <td>27</td>\n",
       "      <td>21</td>\n",
       "      <td>15</td>\n",
       "      <td>12</td>\n",
       "      <td>10</td>\n",
       "      <td>7</td>\n",
       "      <td>1</td>\n",
       "      <td>14</td>\n",
       "    </tr>\n",
       "    <tr>\n",
       "      <th>5</th>\n",
       "      <td>2003</td>\n",
       "      <td>11</td>\n",
       "      <td>1458</td>\n",
       "      <td>81</td>\n",
       "      <td>1186</td>\n",
       "      <td>55</td>\n",
       "      <td>H</td>\n",
       "      <td>0</td>\n",
       "      <td>26</td>\n",
       "      <td>57</td>\n",
       "      <td>...</td>\n",
       "      <td>11</td>\n",
       "      <td>12</td>\n",
       "      <td>17</td>\n",
       "      <td>6</td>\n",
       "      <td>22</td>\n",
       "      <td>8</td>\n",
       "      <td>19</td>\n",
       "      <td>4</td>\n",
       "      <td>3</td>\n",
       "      <td>25</td>\n",
       "    </tr>\n",
       "  </tbody>\n",
       "</table>\n",
       "<p>6 rows × 34 columns</p>\n",
       "</div>"
      ],
      "text/plain": [
       "   Season  Daynum  Wteam  Wscore  Lteam  Lscore Wloc  Numot  Wfgm  Wfga ...   \\\n",
       "0    2003      10   1104      68   1328      62    N      0    27    58 ...    \n",
       "1    2003      10   1272      70   1393      63    N      0    26    62 ...    \n",
       "2    2003      11   1266      73   1437      61    N      0    24    58 ...    \n",
       "3    2003      11   1296      56   1457      50    N      0    18    38 ...    \n",
       "4    2003      11   1400      77   1208      71    N      0    30    61 ...    \n",
       "5    2003      11   1458      81   1186      55    H      0    26    57 ...    \n",
       "\n",
       "   Lfga3  Lftm  Lfta  Lor  Ldr  Last  Lto  Lstl  Lblk  Lpf  \n",
       "0     10    16    22   10   22     8   18     9     2   20  \n",
       "1     24     9    20   20   25     7   12     8     6   16  \n",
       "2     26    14    23   31   22     9   12     2     5   23  \n",
       "3     22     8    15   17   20     9   19     4     3   23  \n",
       "4     16    17    27   21   15    12   10     7     1   14  \n",
       "5     11    12    17    6   22     8   19     4     3   25  \n",
       "\n",
       "[6 rows x 34 columns]"
      ]
     },
     "execution_count": 105,
     "metadata": {},
     "output_type": "execute_result"
    }
   ],
   "source": [
    "df_rsdr = pd.read_csv(file_path+\"RegularSeasonDetailedResults.csv\")\n",
    "print(df_rsdr.columns.values)\n",
    "df_rsdr[:6]"
   ]
  },
  {
   "cell_type": "markdown",
   "metadata": {},
   "source": [
    "# With 2017 Teams Data"
   ]
  },
  {
   "cell_type": "code",
   "execution_count": 106,
   "metadata": {
    "collapsed": false
   },
   "outputs": [
    {
     "name": "stdout",
     "output_type": "stream",
     "text": [
      "['Season' 'Daynum' 'Wteam' 'Wscore' 'Lteam' 'Lscore' 'Wloc' 'Numot' 'Wfgm'\n",
      " 'Wfga' 'Wfgm3' 'Wfga3' 'Wftm' 'Wfta' 'Wor' 'Wdr' 'Wast' 'Wto' 'Wstl'\n",
      " 'Wblk' 'Wpf' 'Lfgm' 'Lfga' 'Lfgm3' 'Lfga3' 'Lftm' 'Lfta' 'Lor' 'Ldr'\n",
      " 'Last' 'Lto' 'Lstl' 'Lblk' 'Lpf']\n"
     ]
    },
    {
     "data": {
      "text/html": [
       "<div>\n",
       "<table border=\"1\" class=\"dataframe\">\n",
       "  <thead>\n",
       "    <tr style=\"text-align: right;\">\n",
       "      <th></th>\n",
       "      <th>Season</th>\n",
       "      <th>Daynum</th>\n",
       "      <th>Wteam</th>\n",
       "      <th>Wscore</th>\n",
       "      <th>Lteam</th>\n",
       "      <th>Lscore</th>\n",
       "      <th>Wloc</th>\n",
       "      <th>Numot</th>\n",
       "      <th>Wfgm</th>\n",
       "      <th>Wfga</th>\n",
       "      <th>...</th>\n",
       "      <th>Lfga3</th>\n",
       "      <th>Lftm</th>\n",
       "      <th>Lfta</th>\n",
       "      <th>Lor</th>\n",
       "      <th>Ldr</th>\n",
       "      <th>Last</th>\n",
       "      <th>Lto</th>\n",
       "      <th>Lstl</th>\n",
       "      <th>Lblk</th>\n",
       "      <th>Lpf</th>\n",
       "    </tr>\n",
       "  </thead>\n",
       "  <tbody>\n",
       "    <tr>\n",
       "      <th>0</th>\n",
       "      <td>2003</td>\n",
       "      <td>10</td>\n",
       "      <td>1104</td>\n",
       "      <td>68</td>\n",
       "      <td>1328</td>\n",
       "      <td>62</td>\n",
       "      <td>N</td>\n",
       "      <td>0</td>\n",
       "      <td>27</td>\n",
       "      <td>58</td>\n",
       "      <td>...</td>\n",
       "      <td>10</td>\n",
       "      <td>16</td>\n",
       "      <td>22</td>\n",
       "      <td>10</td>\n",
       "      <td>22</td>\n",
       "      <td>8</td>\n",
       "      <td>18</td>\n",
       "      <td>9</td>\n",
       "      <td>2</td>\n",
       "      <td>20</td>\n",
       "    </tr>\n",
       "    <tr>\n",
       "      <th>1</th>\n",
       "      <td>2003</td>\n",
       "      <td>10</td>\n",
       "      <td>1272</td>\n",
       "      <td>70</td>\n",
       "      <td>1393</td>\n",
       "      <td>63</td>\n",
       "      <td>N</td>\n",
       "      <td>0</td>\n",
       "      <td>26</td>\n",
       "      <td>62</td>\n",
       "      <td>...</td>\n",
       "      <td>24</td>\n",
       "      <td>9</td>\n",
       "      <td>20</td>\n",
       "      <td>20</td>\n",
       "      <td>25</td>\n",
       "      <td>7</td>\n",
       "      <td>12</td>\n",
       "      <td>8</td>\n",
       "      <td>6</td>\n",
       "      <td>16</td>\n",
       "    </tr>\n",
       "    <tr>\n",
       "      <th>2</th>\n",
       "      <td>2003</td>\n",
       "      <td>11</td>\n",
       "      <td>1266</td>\n",
       "      <td>73</td>\n",
       "      <td>1437</td>\n",
       "      <td>61</td>\n",
       "      <td>N</td>\n",
       "      <td>0</td>\n",
       "      <td>24</td>\n",
       "      <td>58</td>\n",
       "      <td>...</td>\n",
       "      <td>26</td>\n",
       "      <td>14</td>\n",
       "      <td>23</td>\n",
       "      <td>31</td>\n",
       "      <td>22</td>\n",
       "      <td>9</td>\n",
       "      <td>12</td>\n",
       "      <td>2</td>\n",
       "      <td>5</td>\n",
       "      <td>23</td>\n",
       "    </tr>\n",
       "    <tr>\n",
       "      <th>3</th>\n",
       "      <td>2003</td>\n",
       "      <td>11</td>\n",
       "      <td>1296</td>\n",
       "      <td>56</td>\n",
       "      <td>1457</td>\n",
       "      <td>50</td>\n",
       "      <td>N</td>\n",
       "      <td>0</td>\n",
       "      <td>18</td>\n",
       "      <td>38</td>\n",
       "      <td>...</td>\n",
       "      <td>22</td>\n",
       "      <td>8</td>\n",
       "      <td>15</td>\n",
       "      <td>17</td>\n",
       "      <td>20</td>\n",
       "      <td>9</td>\n",
       "      <td>19</td>\n",
       "      <td>4</td>\n",
       "      <td>3</td>\n",
       "      <td>23</td>\n",
       "    </tr>\n",
       "    <tr>\n",
       "      <th>4</th>\n",
       "      <td>2003</td>\n",
       "      <td>11</td>\n",
       "      <td>1400</td>\n",
       "      <td>77</td>\n",
       "      <td>1208</td>\n",
       "      <td>71</td>\n",
       "      <td>N</td>\n",
       "      <td>0</td>\n",
       "      <td>30</td>\n",
       "      <td>61</td>\n",
       "      <td>...</td>\n",
       "      <td>16</td>\n",
       "      <td>17</td>\n",
       "      <td>27</td>\n",
       "      <td>21</td>\n",
       "      <td>15</td>\n",
       "      <td>12</td>\n",
       "      <td>10</td>\n",
       "      <td>7</td>\n",
       "      <td>1</td>\n",
       "      <td>14</td>\n",
       "    </tr>\n",
       "    <tr>\n",
       "      <th>5</th>\n",
       "      <td>2003</td>\n",
       "      <td>11</td>\n",
       "      <td>1458</td>\n",
       "      <td>81</td>\n",
       "      <td>1186</td>\n",
       "      <td>55</td>\n",
       "      <td>H</td>\n",
       "      <td>0</td>\n",
       "      <td>26</td>\n",
       "      <td>57</td>\n",
       "      <td>...</td>\n",
       "      <td>11</td>\n",
       "      <td>12</td>\n",
       "      <td>17</td>\n",
       "      <td>6</td>\n",
       "      <td>22</td>\n",
       "      <td>8</td>\n",
       "      <td>19</td>\n",
       "      <td>4</td>\n",
       "      <td>3</td>\n",
       "      <td>25</td>\n",
       "    </tr>\n",
       "  </tbody>\n",
       "</table>\n",
       "<p>6 rows × 34 columns</p>\n",
       "</div>"
      ],
      "text/plain": [
       "   Season  Daynum  Wteam  Wscore  Lteam  Lscore Wloc  Numot  Wfgm  Wfga ...   \\\n",
       "0    2003      10   1104      68   1328      62    N      0    27    58 ...    \n",
       "1    2003      10   1272      70   1393      63    N      0    26    62 ...    \n",
       "2    2003      11   1266      73   1437      61    N      0    24    58 ...    \n",
       "3    2003      11   1296      56   1457      50    N      0    18    38 ...    \n",
       "4    2003      11   1400      77   1208      71    N      0    30    61 ...    \n",
       "5    2003      11   1458      81   1186      55    H      0    26    57 ...    \n",
       "\n",
       "   Lfga3  Lftm  Lfta  Lor  Ldr  Last  Lto  Lstl  Lblk  Lpf  \n",
       "0     10    16    22   10   22     8   18     9     2   20  \n",
       "1     24     9    20   20   25     7   12     8     6   16  \n",
       "2     26    14    23   31   22     9   12     2     5   23  \n",
       "3     22     8    15   17   20     9   19     4     3   23  \n",
       "4     16    17    27   21   15    12   10     7     1   14  \n",
       "5     11    12    17    6   22     8   19     4     3   25  \n",
       "\n",
       "[6 rows x 34 columns]"
      ]
     },
     "execution_count": 106,
     "metadata": {},
     "output_type": "execute_result"
    }
   ],
   "source": [
    "df_rsdr = pd.read_csv(file_path2+\"RegularSeasonDetailedResults.csv\")\n",
    "print(df_rsdr.columns.values)\n",
    "df_rsdr[:6]"
   ]
  },
  {
   "cell_type": "markdown",
   "metadata": {},
   "source": [
    "### TourneyCompactResults\n",
    "\n",
    "This file identifies the game-by-game NCAA tournament results for all seasons of historical data. The data is formatted exactly like the regular_season_compact_results.csv data. Note that these games also include the play-in games (which always occurred on day 134/135) for those years that had play-in games."
   ]
  },
  {
   "cell_type": "code",
   "execution_count": 6,
   "metadata": {
    "collapsed": false
   },
   "outputs": [
    {
     "data": {
      "text/html": [
       "<div>\n",
       "<table border=\"1\" class=\"dataframe\">\n",
       "  <thead>\n",
       "    <tr style=\"text-align: right;\">\n",
       "      <th></th>\n",
       "      <th>Season</th>\n",
       "      <th>Daynum</th>\n",
       "      <th>Wteam</th>\n",
       "      <th>Wscore</th>\n",
       "      <th>Lteam</th>\n",
       "      <th>Lscore</th>\n",
       "      <th>Wloc</th>\n",
       "      <th>Numot</th>\n",
       "    </tr>\n",
       "  </thead>\n",
       "  <tbody>\n",
       "    <tr>\n",
       "      <th>0</th>\n",
       "      <td>1985</td>\n",
       "      <td>136</td>\n",
       "      <td>1116</td>\n",
       "      <td>63</td>\n",
       "      <td>1234</td>\n",
       "      <td>54</td>\n",
       "      <td>N</td>\n",
       "      <td>0</td>\n",
       "    </tr>\n",
       "    <tr>\n",
       "      <th>1</th>\n",
       "      <td>1985</td>\n",
       "      <td>136</td>\n",
       "      <td>1120</td>\n",
       "      <td>59</td>\n",
       "      <td>1345</td>\n",
       "      <td>58</td>\n",
       "      <td>N</td>\n",
       "      <td>0</td>\n",
       "    </tr>\n",
       "    <tr>\n",
       "      <th>2</th>\n",
       "      <td>1985</td>\n",
       "      <td>136</td>\n",
       "      <td>1207</td>\n",
       "      <td>68</td>\n",
       "      <td>1250</td>\n",
       "      <td>43</td>\n",
       "      <td>N</td>\n",
       "      <td>0</td>\n",
       "    </tr>\n",
       "    <tr>\n",
       "      <th>3</th>\n",
       "      <td>1985</td>\n",
       "      <td>136</td>\n",
       "      <td>1229</td>\n",
       "      <td>58</td>\n",
       "      <td>1425</td>\n",
       "      <td>55</td>\n",
       "      <td>N</td>\n",
       "      <td>0</td>\n",
       "    </tr>\n",
       "    <tr>\n",
       "      <th>4</th>\n",
       "      <td>1985</td>\n",
       "      <td>136</td>\n",
       "      <td>1242</td>\n",
       "      <td>49</td>\n",
       "      <td>1325</td>\n",
       "      <td>38</td>\n",
       "      <td>N</td>\n",
       "      <td>0</td>\n",
       "    </tr>\n",
       "    <tr>\n",
       "      <th>5</th>\n",
       "      <td>1985</td>\n",
       "      <td>136</td>\n",
       "      <td>1246</td>\n",
       "      <td>66</td>\n",
       "      <td>1449</td>\n",
       "      <td>58</td>\n",
       "      <td>N</td>\n",
       "      <td>0</td>\n",
       "    </tr>\n",
       "  </tbody>\n",
       "</table>\n",
       "</div>"
      ],
      "text/plain": [
       "   Season  Daynum  Wteam  Wscore  Lteam  Lscore Wloc  Numot\n",
       "0    1985     136   1116      63   1234      54    N      0\n",
       "1    1985     136   1120      59   1345      58    N      0\n",
       "2    1985     136   1207      68   1250      43    N      0\n",
       "3    1985     136   1229      58   1425      55    N      0\n",
       "4    1985     136   1242      49   1325      38    N      0\n",
       "5    1985     136   1246      66   1449      58    N      0"
      ]
     },
     "execution_count": 6,
     "metadata": {},
     "output_type": "execute_result"
    }
   ],
   "source": [
    "df_tcr = pd.read_csv(file_path+\"TourneyCompactResults.csv\")\n",
    "df_tcr[:6]"
   ]
  },
  {
   "cell_type": "markdown",
   "metadata": {},
   "source": [
    "### TourneyDetailedResults\n",
    "\n",
    "This file contains the more detailed results for tournament games from 2003 onward."
   ]
  },
  {
   "cell_type": "code",
   "execution_count": 7,
   "metadata": {
    "collapsed": false
   },
   "outputs": [
    {
     "data": {
      "text/html": [
       "<div>\n",
       "<table border=\"1\" class=\"dataframe\">\n",
       "  <thead>\n",
       "    <tr style=\"text-align: right;\">\n",
       "      <th></th>\n",
       "      <th>Season</th>\n",
       "      <th>Daynum</th>\n",
       "      <th>Wteam</th>\n",
       "      <th>Wscore</th>\n",
       "      <th>Lteam</th>\n",
       "      <th>Lscore</th>\n",
       "      <th>Wloc</th>\n",
       "      <th>Numot</th>\n",
       "      <th>Wfgm</th>\n",
       "      <th>Wfga</th>\n",
       "      <th>...</th>\n",
       "      <th>Lfga3</th>\n",
       "      <th>Lftm</th>\n",
       "      <th>Lfta</th>\n",
       "      <th>Lor</th>\n",
       "      <th>Ldr</th>\n",
       "      <th>Last</th>\n",
       "      <th>Lto</th>\n",
       "      <th>Lstl</th>\n",
       "      <th>Lblk</th>\n",
       "      <th>Lpf</th>\n",
       "    </tr>\n",
       "  </thead>\n",
       "  <tbody>\n",
       "    <tr>\n",
       "      <th>0</th>\n",
       "      <td>2003</td>\n",
       "      <td>134</td>\n",
       "      <td>1421</td>\n",
       "      <td>92</td>\n",
       "      <td>1411</td>\n",
       "      <td>84</td>\n",
       "      <td>N</td>\n",
       "      <td>1</td>\n",
       "      <td>32</td>\n",
       "      <td>69</td>\n",
       "      <td>...</td>\n",
       "      <td>31</td>\n",
       "      <td>14</td>\n",
       "      <td>31</td>\n",
       "      <td>17</td>\n",
       "      <td>28</td>\n",
       "      <td>16</td>\n",
       "      <td>15</td>\n",
       "      <td>5</td>\n",
       "      <td>0</td>\n",
       "      <td>22</td>\n",
       "    </tr>\n",
       "    <tr>\n",
       "      <th>1</th>\n",
       "      <td>2003</td>\n",
       "      <td>136</td>\n",
       "      <td>1112</td>\n",
       "      <td>80</td>\n",
       "      <td>1436</td>\n",
       "      <td>51</td>\n",
       "      <td>N</td>\n",
       "      <td>0</td>\n",
       "      <td>31</td>\n",
       "      <td>66</td>\n",
       "      <td>...</td>\n",
       "      <td>16</td>\n",
       "      <td>7</td>\n",
       "      <td>7</td>\n",
       "      <td>8</td>\n",
       "      <td>26</td>\n",
       "      <td>12</td>\n",
       "      <td>17</td>\n",
       "      <td>10</td>\n",
       "      <td>3</td>\n",
       "      <td>15</td>\n",
       "    </tr>\n",
       "    <tr>\n",
       "      <th>2</th>\n",
       "      <td>2003</td>\n",
       "      <td>136</td>\n",
       "      <td>1113</td>\n",
       "      <td>84</td>\n",
       "      <td>1272</td>\n",
       "      <td>71</td>\n",
       "      <td>N</td>\n",
       "      <td>0</td>\n",
       "      <td>31</td>\n",
       "      <td>59</td>\n",
       "      <td>...</td>\n",
       "      <td>28</td>\n",
       "      <td>14</td>\n",
       "      <td>21</td>\n",
       "      <td>20</td>\n",
       "      <td>22</td>\n",
       "      <td>11</td>\n",
       "      <td>12</td>\n",
       "      <td>2</td>\n",
       "      <td>5</td>\n",
       "      <td>18</td>\n",
       "    </tr>\n",
       "    <tr>\n",
       "      <th>3</th>\n",
       "      <td>2003</td>\n",
       "      <td>136</td>\n",
       "      <td>1141</td>\n",
       "      <td>79</td>\n",
       "      <td>1166</td>\n",
       "      <td>73</td>\n",
       "      <td>N</td>\n",
       "      <td>0</td>\n",
       "      <td>29</td>\n",
       "      <td>53</td>\n",
       "      <td>...</td>\n",
       "      <td>17</td>\n",
       "      <td>12</td>\n",
       "      <td>17</td>\n",
       "      <td>14</td>\n",
       "      <td>17</td>\n",
       "      <td>20</td>\n",
       "      <td>21</td>\n",
       "      <td>6</td>\n",
       "      <td>6</td>\n",
       "      <td>21</td>\n",
       "    </tr>\n",
       "    <tr>\n",
       "      <th>4</th>\n",
       "      <td>2003</td>\n",
       "      <td>136</td>\n",
       "      <td>1143</td>\n",
       "      <td>76</td>\n",
       "      <td>1301</td>\n",
       "      <td>74</td>\n",
       "      <td>N</td>\n",
       "      <td>1</td>\n",
       "      <td>27</td>\n",
       "      <td>64</td>\n",
       "      <td>...</td>\n",
       "      <td>21</td>\n",
       "      <td>15</td>\n",
       "      <td>20</td>\n",
       "      <td>10</td>\n",
       "      <td>26</td>\n",
       "      <td>16</td>\n",
       "      <td>14</td>\n",
       "      <td>5</td>\n",
       "      <td>8</td>\n",
       "      <td>19</td>\n",
       "    </tr>\n",
       "    <tr>\n",
       "      <th>5</th>\n",
       "      <td>2003</td>\n",
       "      <td>136</td>\n",
       "      <td>1163</td>\n",
       "      <td>58</td>\n",
       "      <td>1140</td>\n",
       "      <td>53</td>\n",
       "      <td>N</td>\n",
       "      <td>0</td>\n",
       "      <td>17</td>\n",
       "      <td>52</td>\n",
       "      <td>...</td>\n",
       "      <td>17</td>\n",
       "      <td>11</td>\n",
       "      <td>13</td>\n",
       "      <td>15</td>\n",
       "      <td>26</td>\n",
       "      <td>11</td>\n",
       "      <td>11</td>\n",
       "      <td>8</td>\n",
       "      <td>4</td>\n",
       "      <td>22</td>\n",
       "    </tr>\n",
       "  </tbody>\n",
       "</table>\n",
       "<p>6 rows × 34 columns</p>\n",
       "</div>"
      ],
      "text/plain": [
       "   Season  Daynum  Wteam  Wscore  Lteam  Lscore Wloc  Numot  Wfgm  Wfga ...   \\\n",
       "0    2003     134   1421      92   1411      84    N      1    32    69 ...    \n",
       "1    2003     136   1112      80   1436      51    N      0    31    66 ...    \n",
       "2    2003     136   1113      84   1272      71    N      0    31    59 ...    \n",
       "3    2003     136   1141      79   1166      73    N      0    29    53 ...    \n",
       "4    2003     136   1143      76   1301      74    N      1    27    64 ...    \n",
       "5    2003     136   1163      58   1140      53    N      0    17    52 ...    \n",
       "\n",
       "   Lfga3  Lftm  Lfta  Lor  Ldr  Last  Lto  Lstl  Lblk  Lpf  \n",
       "0     31    14    31   17   28    16   15     5     0   22  \n",
       "1     16     7     7    8   26    12   17    10     3   15  \n",
       "2     28    14    21   20   22    11   12     2     5   18  \n",
       "3     17    12    17   14   17    20   21     6     6   21  \n",
       "4     21    15    20   10   26    16   14     5     8   19  \n",
       "5     17    11    13   15   26    11   11     8     4   22  \n",
       "\n",
       "[6 rows x 34 columns]"
      ]
     },
     "execution_count": 7,
     "metadata": {},
     "output_type": "execute_result"
    }
   ],
   "source": [
    "df_tdr = pd.read_csv(file_path+\"TourneyDetailedResults.csv\")\n",
    "df_tdr[:6]"
   ]
  },
  {
   "cell_type": "markdown",
   "metadata": {},
   "source": [
    "### TourneySeeds\n",
    "\n",
    "This file identifies the seeds for all teams in each NCAA tournament, for all seasons of historical data. Thus, there are between 64-68 rows for each year, depending on the bracket structure.\n",
    "\n",
    "* \"season\" - the year\n",
    "* \"seed\" - this is a 3/4-character identifier of the seed, where the first character is either W, X, Y, or Z (identifying the region the team was in) and the next two digits (either 01, 02, ..., 15, or 16) tells you the seed within the region. For play-in teams, there is a fourth character (a or b) to further distinguish the seeds, since teams that face each other in the play-in games will have the same first three characters. For example, the first record in the file is seed W01, which means we are looking at the #1 seed in the W region (which we can see from the \"seasons.csv\" file was the East region). This seed is also referenced in the \"tourney_slots.csv\" file that tells us which bracket slots face which other bracket slots in which rounds.\n",
    "* \"team\" - this identifies the id number of the team, as specified in the teams.csv file"
   ]
  },
  {
   "cell_type": "code",
   "execution_count": 124,
   "metadata": {
    "collapsed": false
   },
   "outputs": [
    {
     "data": {
      "text/html": [
       "<div>\n",
       "<table border=\"1\" class=\"dataframe\">\n",
       "  <thead>\n",
       "    <tr style=\"text-align: right;\">\n",
       "      <th></th>\n",
       "      <th>Season</th>\n",
       "      <th>Seed</th>\n",
       "      <th>Team</th>\n",
       "    </tr>\n",
       "  </thead>\n",
       "  <tbody>\n",
       "    <tr>\n",
       "      <th>0</th>\n",
       "      <td>1985</td>\n",
       "      <td>W01</td>\n",
       "      <td>1207</td>\n",
       "    </tr>\n",
       "    <tr>\n",
       "      <th>1</th>\n",
       "      <td>1985</td>\n",
       "      <td>W02</td>\n",
       "      <td>1210</td>\n",
       "    </tr>\n",
       "    <tr>\n",
       "      <th>2</th>\n",
       "      <td>1985</td>\n",
       "      <td>W03</td>\n",
       "      <td>1228</td>\n",
       "    </tr>\n",
       "    <tr>\n",
       "      <th>3</th>\n",
       "      <td>1985</td>\n",
       "      <td>W04</td>\n",
       "      <td>1260</td>\n",
       "    </tr>\n",
       "    <tr>\n",
       "      <th>4</th>\n",
       "      <td>1985</td>\n",
       "      <td>W05</td>\n",
       "      <td>1374</td>\n",
       "    </tr>\n",
       "    <tr>\n",
       "      <th>5</th>\n",
       "      <td>1985</td>\n",
       "      <td>W06</td>\n",
       "      <td>1208</td>\n",
       "    </tr>\n",
       "  </tbody>\n",
       "</table>\n",
       "</div>"
      ],
      "text/plain": [
       "   Season Seed  Team\n",
       "0    1985  W01  1207\n",
       "1    1985  W02  1210\n",
       "2    1985  W03  1228\n",
       "3    1985  W04  1260\n",
       "4    1985  W05  1374\n",
       "5    1985  W06  1208"
      ]
     },
     "execution_count": 124,
     "metadata": {},
     "output_type": "execute_result"
    }
   ],
   "source": [
    "df_seeds = pd.read_csv(file_path2+\"TourneySeeds.csv\")\n",
    "df_seeds[:6]"
   ]
  },
  {
   "cell_type": "markdown",
   "metadata": {},
   "source": [
    "### TourneySlots\n",
    "\n",
    "This file identifies the mechanism by which teams are paired against each other, depending upon their seeds. Because of the existence of play-in games for particular seed numbers, the pairings have small differences from year to year. If there were N teams in the tournament during a particular year, there were N-1 teams eliminated (leaving one champion) and therefore N-1 games played, as well as N-1 slots in the tournament bracket, and thus there will be N-1 records in this file for that season.\n",
    "\n",
    "* \"season\" - the year\n",
    "* \"slot\" - this uniquely identifies one of the tournament games. For play-in games, it is a three-character string identifying the seed fulfilled by the winning team, such as W16 or Z13. For regular tournament games, it is a four-character string, where the first two characters tell you which round the game is (R1, R2, R3, R4, R5, or R6) and the second two characters tell you the expected seed of the favored team. Thus the first row is R1W1, identifying the Round 1 game played in the W bracket, where the favored team is the 1 seed. As a further example, the R2W1 slot indicates the Round 2 game that would have the 1 seed from the W bracket, assuming that all favored teams have won up to that point. The slot names are different for the final two rounds, where R5WX identifies the national semifinal game between the winners of regions W and X, and R5YZ identifies the national semifinal game between the winners of regions Y and Z, and R6CH identifies the championship game. The \"slot\" value is used in other columns in order to represent the advancement and pairings of winners of previous games.\n",
    "* \"strongseed\" - this indicates the expected stronger-seeded team that plays in this game. For Round 1 games, a team seed is identified in this column (as listed in the \"seed\" column in the tourney_seeds.csv file), whereas for subsequent games, a slot is identified in this column. In the first record of this file (slot R1W1), we see that seed W01 is the \"strongseed\", which during the 1985 tournament would have been Georgetown. Whereas for games from Round 2 or later, rather than a team seed, we will see a \"slot\" referenced in this column. So in the 33rd record of this file (slot R2W1), it tells us that the winners of slots R1W1 and R1W8 will face each other in Round 2. Of course, in the last few games of the tournament - the national semifinals and finals - it's not really meaningful to talk about a \"strong seed\" or \"weak seed\", but those games are represented in the same format for the sake of uniformity.\n",
    "* \"weakseed\" - this indicates the expected weaker-seeded team that plays in this game, assuming all favored teams have won so far. For Round 1 games, a team seed is identified in this column (as listed in the \"seed\" column in the tourney_seeds.csv file), whereas for subsequent games, a slot is identified in this column."
   ]
  },
  {
   "cell_type": "code",
   "execution_count": 9,
   "metadata": {
    "collapsed": false
   },
   "outputs": [
    {
     "data": {
      "text/html": [
       "<div>\n",
       "<table border=\"1\" class=\"dataframe\">\n",
       "  <thead>\n",
       "    <tr style=\"text-align: right;\">\n",
       "      <th></th>\n",
       "      <th>Season</th>\n",
       "      <th>Slot</th>\n",
       "      <th>Strongseed</th>\n",
       "      <th>Weakseed</th>\n",
       "    </tr>\n",
       "  </thead>\n",
       "  <tbody>\n",
       "    <tr>\n",
       "      <th>0</th>\n",
       "      <td>1985</td>\n",
       "      <td>R1W1</td>\n",
       "      <td>W01</td>\n",
       "      <td>W16</td>\n",
       "    </tr>\n",
       "    <tr>\n",
       "      <th>1</th>\n",
       "      <td>1985</td>\n",
       "      <td>R1W2</td>\n",
       "      <td>W02</td>\n",
       "      <td>W15</td>\n",
       "    </tr>\n",
       "    <tr>\n",
       "      <th>2</th>\n",
       "      <td>1985</td>\n",
       "      <td>R1W3</td>\n",
       "      <td>W03</td>\n",
       "      <td>W14</td>\n",
       "    </tr>\n",
       "    <tr>\n",
       "      <th>3</th>\n",
       "      <td>1985</td>\n",
       "      <td>R1W4</td>\n",
       "      <td>W04</td>\n",
       "      <td>W13</td>\n",
       "    </tr>\n",
       "    <tr>\n",
       "      <th>4</th>\n",
       "      <td>1985</td>\n",
       "      <td>R1W5</td>\n",
       "      <td>W05</td>\n",
       "      <td>W12</td>\n",
       "    </tr>\n",
       "    <tr>\n",
       "      <th>5</th>\n",
       "      <td>1985</td>\n",
       "      <td>R1W6</td>\n",
       "      <td>W06</td>\n",
       "      <td>W11</td>\n",
       "    </tr>\n",
       "  </tbody>\n",
       "</table>\n",
       "</div>"
      ],
      "text/plain": [
       "   Season  Slot Strongseed Weakseed\n",
       "0    1985  R1W1        W01      W16\n",
       "1    1985  R1W2        W02      W15\n",
       "2    1985  R1W3        W03      W14\n",
       "3    1985  R1W4        W04      W13\n",
       "4    1985  R1W5        W05      W12\n",
       "5    1985  R1W6        W06      W11"
      ]
     },
     "execution_count": 9,
     "metadata": {},
     "output_type": "execute_result"
    }
   ],
   "source": [
    "df_slots = pd.read_csv(file_path+\"TourneySlots.csv\")\n",
    "df_slots[:6]"
   ]
  },
  {
   "cell_type": "markdown",
   "metadata": {},
   "source": [
    "## Sample Submission\n",
    "What to predict\n",
    "\n",
    "Stage 1 - You should submit predicted probabilities for every possible matchup in the past 4 NCAA tournaments (2013-2016).\n",
    "\n",
    "Stage 2 - You should submit predicted probabilities for every possible matchup before the 2017 tournament begins.\n",
    "\n",
    "Refer to the Timeline page for specific dates. In both stages, the sample submission will tell you which games to predict.\n",
    "\n",
    "The file you submit will depend on whether the competition is in stage 1 (historical model building) or stage 2 (the 2017 tournament). Sample submission files will be provided for both stages. The format is a list of every possible matchup between the tournament teams. Since team1 vs. team2 is the same as team2 vs. team1, we only include the game pairs where team1 has the lower team id. For example, in a tournament of 68 teams (64 + 4 play-in teams), you will predict (68*67)/2  = 2278 matchups. \n",
    "\n",
    "Each game has a unique id created by concatenating the season in which the game was played, the team1 id, and the team2 id. For example, \"2013_1104_1129\" indicates team 1104 played team 1129 in the year 2013. You must predict the probability that the team with the lower id beats the team with the higher id.\n",
    "\n",
    "The resulting submission format looks like the following, where \"pred\" represents the predicted probability that the first team will win:\n",
    "\n",
    "    id, pred\n",
    "    2013_1103_1107, 0.5\n",
    "\n",
    "that is that there is a 50% probability of team 1103 beating team 1107"
   ]
  },
  {
   "cell_type": "code",
   "execution_count": 10,
   "metadata": {
    "collapsed": false
   },
   "outputs": [
    {
     "data": {
      "text/html": [
       "<div>\n",
       "<table border=\"1\" class=\"dataframe\">\n",
       "  <thead>\n",
       "    <tr style=\"text-align: right;\">\n",
       "      <th></th>\n",
       "      <th>id</th>\n",
       "      <th>pred</th>\n",
       "    </tr>\n",
       "  </thead>\n",
       "  <tbody>\n",
       "    <tr>\n",
       "      <th>0</th>\n",
       "      <td>2013_1103_1107</td>\n",
       "      <td>0.5</td>\n",
       "    </tr>\n",
       "    <tr>\n",
       "      <th>1</th>\n",
       "      <td>2013_1103_1112</td>\n",
       "      <td>0.5</td>\n",
       "    </tr>\n",
       "    <tr>\n",
       "      <th>2</th>\n",
       "      <td>2013_1103_1125</td>\n",
       "      <td>0.5</td>\n",
       "    </tr>\n",
       "    <tr>\n",
       "      <th>3</th>\n",
       "      <td>2013_1103_1129</td>\n",
       "      <td>0.5</td>\n",
       "    </tr>\n",
       "    <tr>\n",
       "      <th>4</th>\n",
       "      <td>2013_1103_1137</td>\n",
       "      <td>0.5</td>\n",
       "    </tr>\n",
       "  </tbody>\n",
       "</table>\n",
       "</div>"
      ],
      "text/plain": [
       "               id  pred\n",
       "0  2013_1103_1107   0.5\n",
       "1  2013_1103_1112   0.5\n",
       "2  2013_1103_1125   0.5\n",
       "3  2013_1103_1129   0.5\n",
       "4  2013_1103_1137   0.5"
      ]
     },
     "execution_count": 10,
     "metadata": {},
     "output_type": "execute_result"
    }
   ],
   "source": [
    "df_sample_sub = pd.read_csv(file_path + 'sample_submission.csv')\n",
    "df_sample_sub.head()"
   ]
  },
  {
   "cell_type": "code",
   "execution_count": 11,
   "metadata": {
    "collapsed": false
   },
   "outputs": [
    {
     "data": {
      "text/plain": [
       "9112"
      ]
     },
     "execution_count": 11,
     "metadata": {},
     "output_type": "execute_result"
    }
   ],
   "source": [
    "len(df_sample_sub)"
   ]
  },
  {
   "cell_type": "markdown",
   "metadata": {},
   "source": [
    "### Some Basketball Metrics to Consider (calculate)\n",
    "\n",
    "* AST: Assist Ratio - the percentage of a team's possessions that ends in an assist. Assist Ratio = (Assists x 100) divided by [(FGA + (FTA x 0.44) + Assists + Turnovers]\n",
    "     \n",
    "* TO: Turnover Ratio - the percentage of a team's possessions that end in a turnover. Turnover Ratio = (Turnover x 100) divided by [(FGA + (FTA x 0.44) + Assists + Turnovers]\n",
    "     \n",
    "* ORR: Offensive rebound rate = (100 x Offensive Rebounds x Team Minutes Played / 5) / [Minutes Played x (Team Offensive Rebounds + Opposing Team Defensive Rebounds)]\n",
    "     \n",
    "* DRR: Defensive rebound rate = (100 x Defensive Rebounds x Team Minutes Played / 5) / [Minutes Played x (Team Defensive Rebounds + Opposing Team Offensive Rebounds)]\n",
    "     \n",
    "* REBR: Rebound Rate - the percentage of missed shots that a team rebounds. Rebound Rate = (Rebounds x Team Minutes) divided by [Player Minutes x (Team Rebounds + Opponent Rebounds)]\n",
    "     \n",
    "* EFF FG%: Effective Field Goal Percentage\n",
    "     \n",
    "* TS%: True Shooting Percentage - what a team's shooting percentage would be if we accounted for free throws and 3-pointers. True Shooting Percentage = (Total points x 50) divided by [(FGA + (FTA x 0.44)]\n",
    "     \n",
    "* OFF EFF: Offensive Efficiency - the number of points a team scores per 100 possessions.\n",
    "     \n",
    "* DEF EFF: Defensive Efficiency - the number of points a team allows per 100 possessions.\n",
    "     \n",
    "* Eff = (PTS + REB + AST + STL + BLK - ((FGA-FAM) + (FTA-FTM) + TO))\n",
    "     \n",
    "* Performance Index Rating = (PTS + REB + AST + STL + BLK + Fouls Draw) - (MFG + MFT + TO + Shots Blocked + Fouls Comitted)\n",
    "\n",
    "### Also of Note:\n",
    "* Games = 2x 20 minute halfs\n",
    "* OT = 5 minutes each\n",
    "* Game Length = 40 + 5x OTs"
   ]
  },
  {
   "cell_type": "markdown",
   "metadata": {},
   "source": [
    "# Hypothesis #1\n",
    "### I can accuratly predict game outcomes based on logistic regression with the following coeficients:\n",
    "    - Difference in Seed\n",
    "    - Difference in Season Avg Assist Ratio\n",
    "    - Difference in Season Avg Turnover Ratio\n",
    "    - Difference in Season Avg Rebound Rate\n",
    "    - Difference in Season Avg EFF FG%\n",
    "    - Difference in Season Avg TS%\n",
    "    - Difference in Season Avg Performance Index Rating\n",
    "    - Difference in Season Avg Winning Point Spread\n",
    "    - Difference in Season Avg Losing Point Spread\n",
    "    "
   ]
  },
  {
   "cell_type": "code",
   "execution_count": 42,
   "metadata": {
    "collapsed": false
   },
   "outputs": [],
   "source": [
    "### Also of Note:\n",
    "#Games = 2x 20 minute halfs\n",
    "#OT = 5 minutes each\n",
    "#Game Length = 40 + 5x OTs\n",
    "\n",
    "#(W / L +)\n",
    "#fgm - field goals made\n",
    "#fga - field goals attempted\n",
    "#fgm3 - three pointers made\n",
    "#fga3 - three pointers attempted\n",
    "#ftm - free throws made\n",
    "#fta - free throws attempted\n",
    "#or - offensive rebounds\n",
    "#dr - defensive rebounds\n",
    "#ast - assists\n",
    "#to - turnovers\n",
    "#stl - steals\n",
    "#blk - blocks\n",
    "#pf - personal fouls"
   ]
  },
  {
   "cell_type": "code",
   "execution_count": 30,
   "metadata": {
    "collapsed": true
   },
   "outputs": [],
   "source": [
    "# Step 1: Using RSDR: Calculate By Team, By Year Statistics to include in regression analysis"
   ]
  },
  {
   "cell_type": "code",
   "execution_count": 113,
   "metadata": {
    "collapsed": false
   },
   "outputs": [],
   "source": [
    "teams = list(set(df_teams['Team_Id']))\n",
    "#seasons = [2003,2004,2005,2006,2007,2008,2009,2010,2011,2012,2013,2014,2015,2016,]\n",
    "#print(seasons)\n",
    "#print('Numer of Teams: {}'.format(len(teams)))"
   ]
  },
  {
   "cell_type": "code",
   "execution_count": 114,
   "metadata": {
    "collapsed": false
   },
   "outputs": [
    {
     "data": {
      "text/plain": [
       "1101"
      ]
     },
     "execution_count": 114,
     "metadata": {},
     "output_type": "execute_result"
    }
   ],
   "source": [
    "teams[0]"
   ]
  },
  {
   "cell_type": "code",
   "execution_count": 83,
   "metadata": {
    "collapsed": false
   },
   "outputs": [],
   "source": [
    "#ACU doesnt have data prior to 2013... some teams dont have data for every season!\n",
    "#acu_2016 = df_rsdr[np.logical_and(df_rsdr['Season']==seasons[-1],np.logical_or(df_rsdr['Wteam']==teams[0],df_rsdr['Lteam']==teams[0]))]\n",
    "\n",
    "#acu_2016"
   ]
  },
  {
   "cell_type": "code",
   "execution_count": 84,
   "metadata": {
    "collapsed": false
   },
   "outputs": [],
   "source": [
    "#Average Winning and Losing Point Spread\n",
    "#avg_winning_point_spread = acu_2016.groupby('Wteam').mean().loc[1101]['Wscore']-acu_2016.groupby('Wteam').mean().loc[1101]['Lscore']\n",
    "#avg_losing_point_spread = acu_2016.groupby('Lteam').mean().loc[1101]['Wscore']-acu_2016.groupby('Wteam').mean().loc[1101]['Lscore']\n",
    "\n",
    "#avg_winning_point_spread, avg_losing_point_spread"
   ]
  },
  {
   "cell_type": "code",
   "execution_count": 125,
   "metadata": {
    "collapsed": false
   },
   "outputs": [
    {
     "name": "stdout",
     "output_type": "stream",
     "text": [
      "[1314, 2017, 1, 33, 26, 7, 40.007396449704139, 40.0, 19.615384615384627, 12.082417582417591, 17.218486416678779, 11.264994167594029, 8.4207733614451712, 14.966429296998788, 0.52242561152167011, 73.489289101269293, 89.545454545454518, 111.06060606060605]\n"
     ]
    }
   ],
   "source": [
    "#for team in teams2016:\n",
    "#team = teams2016[0]\n",
    "\n",
    "def team_ratings(team, season=2017):\n",
    "\n",
    "    temp_df = df_rsdr[np.logical_and(df_rsdr['Season']==season,np.logical_or(df_rsdr['Wteam']==team,df_rsdr['Lteam']==team))]\n",
    "\n",
    "    num_games = len(temp_df)\n",
    "    #print(\"Num Games: {}\".format(num_games))\n",
    "\n",
    "    wins = len(temp_df[temp_df['Wteam']==team])\n",
    "    #print(\"Wins: {}\".format(wins))\n",
    "\n",
    "    losses = len(temp_df[temp_df['Lteam']==team])\n",
    "    #print(\"Losses: {}\".format(losses))\n",
    "\n",
    "    winning_avg_min = ((wins * 40) + (temp_df.groupby('Wteam').mean().loc[team]['Numot']*5))/wins\n",
    "    #print(\"Winning Min Played: {}\".format(winning_avg_min))\n",
    "\n",
    "    losing_avg_min = ((losses * 40) + (temp_df.groupby('Lteam').mean().loc[team]['Numot']*5))/losses\n",
    "    #print(\"Losing Min Played: {}\".format(losing_avg_min))\n",
    "\n",
    "    avg_winning_point_spread = temp_df.groupby('Wteam').mean().loc[team]['Wscore']-temp_df.groupby('Wteam').mean().loc[team]['Lscore']\n",
    "    #print(\"Avg Winning Point Spread: {}\".format(avg_winning_point_spread))\n",
    "\n",
    "    avg_losing_point_spread = temp_df.groupby('Lteam').mean().loc[team]['Wscore']-temp_df.groupby('Wteam').mean().loc[team]['Lscore']\n",
    "    #print(\"Avg Losing Point Spread: {}\".format(avg_losing_point_spread))\n",
    "\n",
    "    #AST: Assist Ratio = (Assists x 100) divided by [(FGA + (FTA x 0.44) + Assists + Turnovers]\n",
    "    AST = (temp_df.groupby('Wteam').mean().loc[team]['Wast']*100) / (temp_df.groupby('Wteam').mean().loc[team]['Wfga']+(temp_df.groupby('Wteam').mean().loc[team]['Wfta']*0.44)+temp_df.groupby('Wteam').mean().loc[team]['Wast']+temp_df.groupby('Wteam').mean().loc[team]['Wto'])*(wins/num_games)+(temp_df.groupby('Lteam').mean().loc[team]['Last']*100) / (temp_df.groupby('Lteam').mean().loc[team]['Lfga']+(temp_df.groupby('Lteam').mean().loc[team]['Lfta']*0.44)+temp_df.groupby('Lteam').mean().loc[team]['Last']+temp_df.groupby('Lteam').mean().loc[team]['Lto'])*(losses/num_games)\n",
    "    #print(\"AST: {}\".format(AST))\n",
    "\n",
    "    #TO: Turnover Ratio = (Turnover x 100) divided by [(FGA + (FTA x 0.44) + Assists + Turnovers]     \n",
    "    TO = (temp_df.groupby('Wteam').mean().loc[team]['Wto']*100) / (temp_df.groupby('Wteam').mean().loc[team]['Wfga']+(temp_df.groupby('Wteam').mean().loc[team]['Wfta']*0.44)+temp_df.groupby('Wteam').mean().loc[team]['Wast']+temp_df.groupby('Wteam').mean().loc[team]['Wto'])*(wins/num_games)+(temp_df.groupby('Lteam').mean().loc[team]['Lto']*100) / (temp_df.groupby('Lteam').mean().loc[team]['Lfga']+(temp_df.groupby('Lteam').mean().loc[team]['Lfta']*0.44)+temp_df.groupby('Lteam').mean().loc[team]['Last']+temp_df.groupby('Lteam').mean().loc[team]['Lto'])*(losses/num_games)\n",
    "    #print(\"TO: {}\".format(TO))\n",
    "\n",
    "    #ORR: Offensive rebound rate = (100 x Offensive Rebounds x Team Minutes Played / 5) / [Minutes Played x (Team Offensive Rebounds + Opposing Team Defensive Rebounds)]\n",
    "    ORR = (((100*temp_df.groupby('Wteam').mean().loc[team]['Wor']*winning_avg_min)/((5*winning_avg_min)*(temp_df.groupby('Wteam').mean().loc[team]['Wor']+temp_df.groupby('Wteam').mean().loc[team]['Ldr'])))*(wins/num_games))+(((100*temp_df.groupby('Lteam').mean().loc[team]['Lor']*losing_avg_min)/((5*losing_avg_min)*(temp_df.groupby('Lteam').mean().loc[team]['Lor']+temp_df.groupby('Lteam').mean().loc[team]['Wdr'])))*(losses/num_games))\n",
    "    #print(\"ORR: {}\".format(ORR))\n",
    "\n",
    "    #DRR: Defensive rebound rate = (100 x Defensive Rebounds x Team Minutes Played / 5) / [Minutes Played x (Team Defensive Rebounds + Opposing Team Offensive Rebounds)]     \n",
    "    DRR = (((100*temp_df.groupby('Wteam').mean().loc[team]['Wdr']*winning_avg_min)/((5*winning_avg_min)*(temp_df.groupby('Wteam').mean().loc[team]['Wdr']+temp_df.groupby('Wteam').mean().loc[team]['Lor'])))*(wins/num_games))+(((100*temp_df.groupby('Lteam').mean().loc[team]['Ldr']*losing_avg_min)/((5*losing_avg_min)*(temp_df.groupby('Lteam').mean().loc[team]['Ldr']+temp_df.groupby('Lteam').mean().loc[team]['Wor'])))*(losses/num_games))\n",
    "    #print(\"DRR: {}\".format(DRR))\n",
    "\n",
    "    #EFF= (FG + 0.5 * 3P) / FGA\n",
    "    EFF = (((temp_df.groupby('Wteam').mean().loc[team]['Wfgm']+(0.5*temp_df.groupby('Wteam').mean().loc[team]['Wfgm3']))/temp_df.groupby('Wteam').mean().loc[team]['Wfga'])*(wins/num_games))+(((temp_df.groupby('Lteam').mean().loc[team]['Lfgm']+(0.5*temp_df.groupby('Lteam').mean().loc[team]['Lfgm3']))/temp_df.groupby('Lteam').mean().loc[team]['Lfga'])*(losses/num_games))\n",
    "    #print(\"EFF: {}\".format(EFF))\n",
    "\n",
    "    #TS%: True Shooting Percentage = (Total points x 50) divided by [(FGA + (FTA x 0.44)]\n",
    "    TSP = (((temp_df.groupby('Wteam').mean().loc[team]['Wscore'] * 50)/(temp_df.groupby('Wteam').mean().loc[team]['Wfga'])+(temp_df.groupby('Wteam').mean().loc[team]['Wfta']*0.44))*(wins/num_games))+(((temp_df.groupby('Lteam').mean().loc[team]['Lscore'] * 50)/(temp_df.groupby('Lteam').mean().loc[team]['Lfga'])+(temp_df.groupby('Lteam').mean().loc[team]['Lfta']*0.44))*(losses/num_games))\n",
    "    #print(\"TSP: {}\".format(TSP))\n",
    "\n",
    "    #TEFF = (PTS + REB + AST + STL + BLK - ((FGA-FAM) + (FTA-FTM) + TO))\n",
    "    TEFF = (((temp_df.groupby('Wteam').mean().loc[team]['Wscore']+\n",
    "            temp_df.groupby('Wteam').mean().loc[team]['Wor']+\n",
    "            temp_df.groupby('Wteam').mean().loc[team]['Wdr']+\n",
    "            temp_df.groupby('Wteam').mean().loc[team]['Wast']+\n",
    "            temp_df.groupby('Wteam').mean().loc[team]['Wblk']-\n",
    "            ((temp_df.groupby('Wteam').mean().loc[team]['Wfga']-temp_df.groupby('Wteam').mean().loc[team]['Wfgm'])+(temp_df.groupby('Wteam').mean().loc[team]['Wfga3']-temp_df.groupby('Wteam').mean().loc[team]['Wfgm3'])+\n",
    "            temp_df.groupby('Wteam').mean().loc[team]['Wto']))*(wins/num_games))+\n",
    "            ((temp_df.groupby('Lteam').mean().loc[team]['Lscore']+\n",
    "            temp_df.groupby('Lteam').mean().loc[team]['Lor']+\n",
    "            temp_df.groupby('Lteam').mean().loc[team]['Ldr']+\n",
    "            temp_df.groupby('Lteam').mean().loc[team]['Last']+\n",
    "            temp_df.groupby('Lteam').mean().loc[team]['Lblk']-\n",
    "            ((temp_df.groupby('Lteam').mean().loc[team]['Lfga']-temp_df.groupby('Lteam').mean().loc[team]['Lfgm'])+(temp_df.groupby('Lteam').mean().loc[team]['Lfga3']-temp_df.groupby('Lteam').mean().loc[team]['Lfgm3'])+\n",
    "            temp_df.groupby('Lteam').mean().loc[team]['Lto']))*(losses/num_games)))\n",
    "\n",
    "    #print(\"Efficiency Score: {}\".format(TEFF))\n",
    "\n",
    "    #Performance Index Rating = (PTS + REB + AST + STL + BLK + Fouls Draw) - (MFG + MFT + TO + Shots Blocked + Fouls Comitted)\n",
    "    PIR = ((((temp_df.groupby('Wteam').mean().loc[team]['Wscore']+\n",
    "           temp_df.groupby('Wteam').mean().loc[team]['Wor']+\n",
    "           temp_df.groupby('Wteam').mean().loc[team]['Wdr']+\n",
    "           temp_df.groupby('Wteam').mean().loc[team]['Wast']+\n",
    "           temp_df.groupby('Wteam').mean().loc[team]['Wstl']+\n",
    "           temp_df.groupby('Wteam').mean().loc[team]['Wblk']+\n",
    "           temp_df.groupby('Wteam').mean().loc[team]['Lpf'])-\n",
    "           ((temp_df.groupby('Wteam').mean().loc[team]['Wfga']-temp_df.groupby('Wteam').mean().loc[team]['Wfgm'])+\n",
    "            (temp_df.groupby('Wteam').mean().loc[team]['Wfta']-temp_df.groupby('Wteam').mean().loc[team]['Wftm'])+\n",
    "           temp_df.groupby('Wteam').mean().loc[team]['Lblk']+\n",
    "           temp_df.groupby('Wteam').mean().loc[team]['Wpf']\n",
    "          ))*(wins/num_games))+\n",
    "          (((temp_df.groupby('Lteam').mean().loc[team]['Lscore']+\n",
    "           temp_df.groupby('Lteam').mean().loc[team]['Lor']+\n",
    "           temp_df.groupby('Lteam').mean().loc[team]['Ldr']+\n",
    "           temp_df.groupby('Lteam').mean().loc[team]['Last']+\n",
    "           temp_df.groupby('Lteam').mean().loc[team]['Lstl']+\n",
    "           temp_df.groupby('Lteam').mean().loc[team]['Lblk']+\n",
    "           temp_df.groupby('Lteam').mean().loc[team]['Wpf'])-\n",
    "           ((temp_df.groupby('Lteam').mean().loc[team]['Lfga']-temp_df.groupby('Lteam').mean().loc[team]['Lfgm'])+\n",
    "            (temp_df.groupby('Lteam').mean().loc[team]['Lfta']-temp_df.groupby('Lteam').mean().loc[team]['Lftm'])+\n",
    "           temp_df.groupby('Lteam').mean().loc[team]['Wblk']+\n",
    "           temp_df.groupby('Lteam').mean().loc[team]['Lpf']\n",
    "          ))*(losses/num_games)))\n",
    "    #print(\"Performance Index Rating: {}\".format(PIR))\n",
    "    \n",
    "    try:\n",
    "        temp = ((df_seeds[np.logical_and(df_seeds['Season']==season,df_seeds['Team']==team)]['Seed'].values)[0])\n",
    "        seed = int(temp[1:3])\n",
    "    except:\n",
    "        seed = None\n",
    "    \n",
    "    return([team, season, seed, num_games, wins, losses, winning_avg_min, losing_avg_min, avg_winning_point_spread, avg_losing_point_spread,\n",
    "           AST, TO, ORR, DRR, EFF, TSP, TEFF, PIR])\n",
    "\n",
    "print(team_ratings(1314, 2017))"
   ]
  },
  {
   "cell_type": "code",
   "execution_count": 126,
   "metadata": {
    "collapsed": false
   },
   "outputs": [
    {
     "name": "stdout",
     "output_type": "stream",
     "text": [
      "Team Results Complete\n"
     ]
    }
   ],
   "source": [
    "season_df = pd.DataFrame(columns = ['Team','Season','Seed','Games','Wins','Losses','Wavg_mins','Lavg_mins','Wpoint_spread','Lpoint_spread',\n",
    "                                   'AST','TO','ORR','DRR','EFF','TSP','TEFF','PIR'])\n",
    "seasons = [2013,2014,2015,2016,2017]\n",
    "x = 0\n",
    "for team in teams:\n",
    "    for season in seasons:\n",
    "        try:\n",
    "            season_df.loc[x] = team_ratings(team, season)\n",
    "            x+=1\n",
    "        except:\n",
    "            continue\n",
    "print('Team Results Complete')"
   ]
  },
  {
   "cell_type": "code",
   "execution_count": 127,
   "metadata": {
    "collapsed": false
   },
   "outputs": [
    {
     "data": {
      "text/html": [
       "<div>\n",
       "<table border=\"1\" class=\"dataframe\">\n",
       "  <thead>\n",
       "    <tr style=\"text-align: right;\">\n",
       "      <th></th>\n",
       "      <th>Team</th>\n",
       "      <th>Season</th>\n",
       "      <th>Seed</th>\n",
       "      <th>Games</th>\n",
       "      <th>Wins</th>\n",
       "      <th>Losses</th>\n",
       "      <th>Wavg_mins</th>\n",
       "      <th>Lavg_mins</th>\n",
       "      <th>Wpoint_spread</th>\n",
       "      <th>Lpoint_spread</th>\n",
       "      <th>AST</th>\n",
       "      <th>TO</th>\n",
       "      <th>ORR</th>\n",
       "      <th>DRR</th>\n",
       "      <th>EFF</th>\n",
       "      <th>TSP</th>\n",
       "      <th>TEFF</th>\n",
       "      <th>PIR</th>\n",
       "    </tr>\n",
       "  </thead>\n",
       "  <tbody>\n",
       "    <tr>\n",
       "      <th>0</th>\n",
       "      <td>1101.0</td>\n",
       "      <td>2014.0</td>\n",
       "      <td>NaN</td>\n",
       "      <td>21.0</td>\n",
       "      <td>2.0</td>\n",
       "      <td>19.0</td>\n",
       "      <td>40.000000</td>\n",
       "      <td>40.041551</td>\n",
       "      <td>3.500000</td>\n",
       "      <td>2.342105</td>\n",
       "      <td>11.833432</td>\n",
       "      <td>17.764497</td>\n",
       "      <td>4.997331</td>\n",
       "      <td>13.239437</td>\n",
       "      <td>0.472382</td>\n",
       "      <td>72.353832</td>\n",
       "      <td>46.952381</td>\n",
       "      <td>65.619048</td>\n",
       "    </tr>\n",
       "    <tr>\n",
       "      <th>1</th>\n",
       "      <td>1101.0</td>\n",
       "      <td>2015.0</td>\n",
       "      <td>NaN</td>\n",
       "      <td>28.0</td>\n",
       "      <td>7.0</td>\n",
       "      <td>21.0</td>\n",
       "      <td>40.000000</td>\n",
       "      <td>40.000000</td>\n",
       "      <td>12.142857</td>\n",
       "      <td>8.761905</td>\n",
       "      <td>14.007271</td>\n",
       "      <td>15.238042</td>\n",
       "      <td>4.874864</td>\n",
       "      <td>13.234207</td>\n",
       "      <td>0.473289</td>\n",
       "      <td>64.202177</td>\n",
       "      <td>45.678571</td>\n",
       "      <td>63.964286</td>\n",
       "    </tr>\n",
       "    <tr>\n",
       "      <th>2</th>\n",
       "      <td>1101.0</td>\n",
       "      <td>2016.0</td>\n",
       "      <td>NaN</td>\n",
       "      <td>27.0</td>\n",
       "      <td>9.0</td>\n",
       "      <td>18.0</td>\n",
       "      <td>40.000000</td>\n",
       "      <td>40.030864</td>\n",
       "      <td>7.555556</td>\n",
       "      <td>8.388889</td>\n",
       "      <td>14.344494</td>\n",
       "      <td>14.944817</td>\n",
       "      <td>4.912409</td>\n",
       "      <td>14.469333</td>\n",
       "      <td>0.505128</td>\n",
       "      <td>74.327144</td>\n",
       "      <td>60.370370</td>\n",
       "      <td>80.148148</td>\n",
       "    </tr>\n",
       "    <tr>\n",
       "      <th>3</th>\n",
       "      <td>1101.0</td>\n",
       "      <td>2017.0</td>\n",
       "      <td>NaN</td>\n",
       "      <td>25.0</td>\n",
       "      <td>9.0</td>\n",
       "      <td>16.0</td>\n",
       "      <td>40.123457</td>\n",
       "      <td>40.039062</td>\n",
       "      <td>4.666667</td>\n",
       "      <td>4.645833</td>\n",
       "      <td>15.184918</td>\n",
       "      <td>16.161853</td>\n",
       "      <td>4.670811</td>\n",
       "      <td>13.658896</td>\n",
       "      <td>0.526209</td>\n",
       "      <td>72.253209</td>\n",
       "      <td>59.320000</td>\n",
       "      <td>78.080000</td>\n",
       "    </tr>\n",
       "    <tr>\n",
       "      <th>4</th>\n",
       "      <td>1102.0</td>\n",
       "      <td>2013.0</td>\n",
       "      <td>NaN</td>\n",
       "      <td>28.0</td>\n",
       "      <td>15.0</td>\n",
       "      <td>13.0</td>\n",
       "      <td>40.000000</td>\n",
       "      <td>40.029586</td>\n",
       "      <td>13.133333</td>\n",
       "      <td>14.707692</td>\n",
       "      <td>17.916802</td>\n",
       "      <td>13.825439</td>\n",
       "      <td>4.750414</td>\n",
       "      <td>13.530741</td>\n",
       "      <td>0.551653</td>\n",
       "      <td>73.735041</td>\n",
       "      <td>62.321429</td>\n",
       "      <td>85.464286</td>\n",
       "    </tr>\n",
       "  </tbody>\n",
       "</table>\n",
       "</div>"
      ],
      "text/plain": [
       "     Team  Season  Seed  Games  Wins  Losses  Wavg_mins  Lavg_mins  \\\n",
       "0  1101.0  2014.0   NaN   21.0   2.0    19.0  40.000000  40.041551   \n",
       "1  1101.0  2015.0   NaN   28.0   7.0    21.0  40.000000  40.000000   \n",
       "2  1101.0  2016.0   NaN   27.0   9.0    18.0  40.000000  40.030864   \n",
       "3  1101.0  2017.0   NaN   25.0   9.0    16.0  40.123457  40.039062   \n",
       "4  1102.0  2013.0   NaN   28.0  15.0    13.0  40.000000  40.029586   \n",
       "\n",
       "   Wpoint_spread  Lpoint_spread        AST         TO       ORR        DRR  \\\n",
       "0       3.500000       2.342105  11.833432  17.764497  4.997331  13.239437   \n",
       "1      12.142857       8.761905  14.007271  15.238042  4.874864  13.234207   \n",
       "2       7.555556       8.388889  14.344494  14.944817  4.912409  14.469333   \n",
       "3       4.666667       4.645833  15.184918  16.161853  4.670811  13.658896   \n",
       "4      13.133333      14.707692  17.916802  13.825439  4.750414  13.530741   \n",
       "\n",
       "        EFF        TSP       TEFF        PIR  \n",
       "0  0.472382  72.353832  46.952381  65.619048  \n",
       "1  0.473289  64.202177  45.678571  63.964286  \n",
       "2  0.505128  74.327144  60.370370  80.148148  \n",
       "3  0.526209  72.253209  59.320000  78.080000  \n",
       "4  0.551653  73.735041  62.321429  85.464286  "
      ]
     },
     "execution_count": 127,
     "metadata": {},
     "output_type": "execute_result"
    }
   ],
   "source": [
    "season_df.head()"
   ]
  },
  {
   "cell_type": "code",
   "execution_count": 128,
   "metadata": {
    "collapsed": false
   },
   "outputs": [],
   "source": [
    "with open(\"D:\\\\ncaa_detailed_stats2017.pickle\",'wb') as p:\n",
    "    pickle.dump(season_df, p)"
   ]
  },
  {
   "cell_type": "code",
   "execution_count": 129,
   "metadata": {
    "collapsed": false
   },
   "outputs": [],
   "source": [
    "season_df = pickle.load(open(\"D:\\\\ncaa_detailed_stats2017.pickle\",'rb'))"
   ]
  },
  {
   "cell_type": "code",
   "execution_count": 130,
   "metadata": {
    "collapsed": false
   },
   "outputs": [
    {
     "data": {
      "text/html": [
       "<div>\n",
       "<table border=\"1\" class=\"dataframe\">\n",
       "  <thead>\n",
       "    <tr style=\"text-align: right;\">\n",
       "      <th></th>\n",
       "      <th>Team</th>\n",
       "      <th>Season</th>\n",
       "      <th>Seed</th>\n",
       "      <th>Games</th>\n",
       "      <th>Wins</th>\n",
       "      <th>Losses</th>\n",
       "      <th>Wavg_mins</th>\n",
       "      <th>Lavg_mins</th>\n",
       "      <th>Wpoint_spread</th>\n",
       "      <th>Lpoint_spread</th>\n",
       "      <th>AST</th>\n",
       "      <th>TO</th>\n",
       "      <th>ORR</th>\n",
       "      <th>DRR</th>\n",
       "      <th>EFF</th>\n",
       "      <th>TSP</th>\n",
       "      <th>TEFF</th>\n",
       "      <th>PIR</th>\n",
       "    </tr>\n",
       "  </thead>\n",
       "  <tbody>\n",
       "  </tbody>\n",
       "</table>\n",
       "</div>"
      ],
      "text/plain": [
       "Empty DataFrame\n",
       "Columns: [Team, Season, Seed, Games, Wins, Losses, Wavg_mins, Lavg_mins, Wpoint_spread, Lpoint_spread, AST, TO, ORR, DRR, EFF, TSP, TEFF, PIR]\n",
       "Index: []"
      ]
     },
     "execution_count": 130,
     "metadata": {},
     "output_type": "execute_result"
    }
   ],
   "source": [
    "season_df[season_df['AST'].isnull()]"
   ]
  },
  {
   "cell_type": "code",
   "execution_count": 40,
   "metadata": {
    "collapsed": false
   },
   "outputs": [
    {
     "data": {
      "text/plain": [
       "Index(['Team', 'Season', 'Seed', 'Games', 'Wins', 'Losses', 'Wavg_mins',\n",
       "       'Lavg_mins', 'Wpoint_spread', 'Lpoint_spread', 'AST', 'TO', 'ORR',\n",
       "       'DRR', 'EFF', 'TSP', 'TEFF', 'PIR'],\n",
       "      dtype='object')"
      ]
     },
     "execution_count": 40,
     "metadata": {},
     "output_type": "execute_result"
    }
   ],
   "source": [
    "tourney_teams = season_df[season_df['Seed'].notnull()]\n",
    "tourney_teams.columns"
   ]
  },
  {
   "cell_type": "code",
   "execution_count": 103,
   "metadata": {
    "collapsed": false
   },
   "outputs": [
    {
     "data": {
      "text/plain": [
       "Index(['Season', 'Daynum', 'Wteam', 'Wscore', 'Lteam', 'Lscore', 'Wloc',\n",
       "       'Numot'],\n",
       "      dtype='object')"
      ]
     },
     "execution_count": 103,
     "metadata": {},
     "output_type": "execute_result"
    }
   ],
   "source": [
    "df_tcr.columns"
   ]
  },
  {
   "cell_type": "code",
   "execution_count": 25,
   "metadata": {
    "collapsed": false
   },
   "outputs": [
    {
     "data": {
      "text/html": [
       "<div>\n",
       "<table border=\"1\" class=\"dataframe\">\n",
       "  <thead>\n",
       "    <tr style=\"text-align: right;\">\n",
       "      <th></th>\n",
       "      <th>Season</th>\n",
       "      <th>Wteam</th>\n",
       "      <th>Lteam</th>\n",
       "      <th>order</th>\n",
       "    </tr>\n",
       "  </thead>\n",
       "  <tbody>\n",
       "    <tr>\n",
       "      <th>0</th>\n",
       "      <td>1985</td>\n",
       "      <td>1116</td>\n",
       "      <td>1234</td>\n",
       "      <td>1</td>\n",
       "    </tr>\n",
       "    <tr>\n",
       "      <th>1</th>\n",
       "      <td>1985</td>\n",
       "      <td>1120</td>\n",
       "      <td>1345</td>\n",
       "      <td>1</td>\n",
       "    </tr>\n",
       "    <tr>\n",
       "      <th>2</th>\n",
       "      <td>1985</td>\n",
       "      <td>1207</td>\n",
       "      <td>1250</td>\n",
       "      <td>1</td>\n",
       "    </tr>\n",
       "    <tr>\n",
       "      <th>3</th>\n",
       "      <td>1985</td>\n",
       "      <td>1229</td>\n",
       "      <td>1425</td>\n",
       "      <td>1</td>\n",
       "    </tr>\n",
       "    <tr>\n",
       "      <th>4</th>\n",
       "      <td>1985</td>\n",
       "      <td>1242</td>\n",
       "      <td>1325</td>\n",
       "      <td>1</td>\n",
       "    </tr>\n",
       "  </tbody>\n",
       "</table>\n",
       "</div>"
      ],
      "text/plain": [
       "   Season  Wteam  Lteam  order\n",
       "0    1985   1116   1234      1\n",
       "1    1985   1120   1345      1\n",
       "2    1985   1207   1250      1\n",
       "3    1985   1229   1425      1\n",
       "4    1985   1242   1325      1"
      ]
     },
     "execution_count": 25,
     "metadata": {},
     "output_type": "execute_result"
    }
   ],
   "source": [
    "df_tcr.head()"
   ]
  },
  {
   "cell_type": "code",
   "execution_count": 26,
   "metadata": {
    "collapsed": false
   },
   "outputs": [
    {
     "name": "stdout",
     "output_type": "stream",
     "text": [
      "2050\n",
      "2050\n",
      "   Season   team1   team2  result\n",
      "0  1985.0  1116.0  1234.0     1.0\n",
      "1  1985.0  1120.0  1345.0     1.0\n",
      "2  1985.0  1207.0  1250.0     1.0\n",
      "3  1985.0  1229.0  1425.0     1.0\n",
      "4  1985.0  1242.0  1325.0     1.0\n"
     ]
    }
   ],
   "source": [
    "df_tcr.head()\n",
    "print(len(df_tcr))\n",
    "tcr = pd.DataFrame(columns = ['Season','team1','team2','result'])\n",
    "\n",
    "for x in range(len(df_tcr)):\n",
    "    tcr.loc[x] = [df_tcr.iloc[x]['Season'],min(df_tcr.iloc[x]['Wteam'],df_tcr.iloc[x]['Lteam']),\n",
    "                 max(df_tcr.iloc[x]['Wteam'],df_tcr.iloc[x]['Lteam']),df_tcr.iloc[x]['order']]\n",
    "    \n",
    "print(len(tcr))\n",
    "print(tcr.head())"
   ]
  },
  {
   "cell_type": "code",
   "execution_count": 28,
   "metadata": {
    "collapsed": false
   },
   "outputs": [
    {
     "data": {
      "text/plain": [
       "0.50926829268292684"
      ]
     },
     "execution_count": 28,
     "metadata": {},
     "output_type": "execute_result"
    }
   ],
   "source": [
    "tcr.result.mean()"
   ]
  },
  {
   "cell_type": "code",
   "execution_count": 29,
   "metadata": {
    "collapsed": false
   },
   "outputs": [
    {
     "data": {
      "text/html": [
       "<div>\n",
       "<table border=\"1\" class=\"dataframe\">\n",
       "  <thead>\n",
       "    <tr style=\"text-align: right;\">\n",
       "      <th></th>\n",
       "      <th>Season</th>\n",
       "      <th>team1</th>\n",
       "      <th>team2</th>\n",
       "      <th>result</th>\n",
       "      <th>Wseed</th>\n",
       "      <th>Lseed</th>\n",
       "      <th>seed_diff</th>\n",
       "      <th>games</th>\n",
       "      <th>wins</th>\n",
       "      <th>losses</th>\n",
       "      <th>...</th>\n",
       "      <th>wps</th>\n",
       "      <th>lps</th>\n",
       "      <th>ast</th>\n",
       "      <th>to</th>\n",
       "      <th>orr</th>\n",
       "      <th>drr</th>\n",
       "      <th>eff</th>\n",
       "      <th>tsp</th>\n",
       "      <th>teff</th>\n",
       "      <th>pir</th>\n",
       "    </tr>\n",
       "  </thead>\n",
       "  <tbody>\n",
       "    <tr>\n",
       "      <th>0</th>\n",
       "      <td>2013.0</td>\n",
       "      <td>1251.0</td>\n",
       "      <td>1299.0</td>\n",
       "      <td>0.0</td>\n",
       "      <td>16.0</td>\n",
       "      <td>16.0</td>\n",
       "      <td>0.0</td>\n",
       "      <td>-2.0</td>\n",
       "      <td>-6.0</td>\n",
       "      <td>4.0</td>\n",
       "      <td>...</td>\n",
       "      <td>-1.138889</td>\n",
       "      <td>1.368056</td>\n",
       "      <td>0.799782</td>\n",
       "      <td>-2.012495</td>\n",
       "      <td>-0.227259</td>\n",
       "      <td>0.061104</td>\n",
       "      <td>0.032805</td>\n",
       "      <td>2.593942</td>\n",
       "      <td>8.301471</td>\n",
       "      <td>5.163603</td>\n",
       "    </tr>\n",
       "    <tr>\n",
       "      <th>1</th>\n",
       "      <td>2013.0</td>\n",
       "      <td>1257.0</td>\n",
       "      <td>1299.0</td>\n",
       "      <td>1.0</td>\n",
       "      <td>1.0</td>\n",
       "      <td>16.0</td>\n",
       "      <td>-15.0</td>\n",
       "      <td>0.0</td>\n",
       "      <td>11.0</td>\n",
       "      <td>-11.0</td>\n",
       "      <td>...</td>\n",
       "      <td>8.277778</td>\n",
       "      <td>11.651389</td>\n",
       "      <td>3.277593</td>\n",
       "      <td>-3.906184</td>\n",
       "      <td>1.615686</td>\n",
       "      <td>-0.071951</td>\n",
       "      <td>0.042745</td>\n",
       "      <td>3.895160</td>\n",
       "      <td>21.294118</td>\n",
       "      <td>24.558824</td>\n",
       "    </tr>\n",
       "    <tr>\n",
       "      <th>2</th>\n",
       "      <td>2013.0</td>\n",
       "      <td>1292.0</td>\n",
       "      <td>1388.0</td>\n",
       "      <td>0.0</td>\n",
       "      <td>11.0</td>\n",
       "      <td>11.0</td>\n",
       "      <td>0.0</td>\n",
       "      <td>1.0</td>\n",
       "      <td>2.0</td>\n",
       "      <td>-1.0</td>\n",
       "      <td>...</td>\n",
       "      <td>1.063187</td>\n",
       "      <td>-2.174359</td>\n",
       "      <td>-0.577258</td>\n",
       "      <td>1.793537</td>\n",
       "      <td>-0.087081</td>\n",
       "      <td>-0.819156</td>\n",
       "      <td>-0.028577</td>\n",
       "      <td>-0.633426</td>\n",
       "      <td>-0.449811</td>\n",
       "      <td>-4.857955</td>\n",
       "    </tr>\n",
       "    <tr>\n",
       "      <th>3</th>\n",
       "      <td>2013.0</td>\n",
       "      <td>1272.0</td>\n",
       "      <td>1388.0</td>\n",
       "      <td>1.0</td>\n",
       "      <td>6.0</td>\n",
       "      <td>11.0</td>\n",
       "      <td>-5.0</td>\n",
       "      <td>2.0</td>\n",
       "      <td>4.0</td>\n",
       "      <td>-2.0</td>\n",
       "      <td>...</td>\n",
       "      <td>-3.382051</td>\n",
       "      <td>0.875641</td>\n",
       "      <td>1.406794</td>\n",
       "      <td>1.583940</td>\n",
       "      <td>-0.221814</td>\n",
       "      <td>-1.145163</td>\n",
       "      <td>-0.010560</td>\n",
       "      <td>-1.275029</td>\n",
       "      <td>7.538603</td>\n",
       "      <td>7.952206</td>\n",
       "    </tr>\n",
       "    <tr>\n",
       "      <th>4</th>\n",
       "      <td>2013.0</td>\n",
       "      <td>1241.0</td>\n",
       "      <td>1254.0</td>\n",
       "      <td>1.0</td>\n",
       "      <td>16.0</td>\n",
       "      <td>16.0</td>\n",
       "      <td>0.0</td>\n",
       "      <td>1.0</td>\n",
       "      <td>0.0</td>\n",
       "      <td>1.0</td>\n",
       "      <td>...</td>\n",
       "      <td>-2.550000</td>\n",
       "      <td>-0.212088</td>\n",
       "      <td>-2.001117</td>\n",
       "      <td>-1.737556</td>\n",
       "      <td>-1.209949</td>\n",
       "      <td>0.618337</td>\n",
       "      <td>-0.077344</td>\n",
       "      <td>-12.707435</td>\n",
       "      <td>-18.163102</td>\n",
       "      <td>-22.252228</td>\n",
       "    </tr>\n",
       "  </tbody>\n",
       "</table>\n",
       "<p>5 rows × 22 columns</p>\n",
       "</div>"
      ],
      "text/plain": [
       "   Season   team1   team2  result  Wseed  Lseed  seed_diff  games  wins  \\\n",
       "0  2013.0  1251.0  1299.0     0.0   16.0   16.0        0.0   -2.0  -6.0   \n",
       "1  2013.0  1257.0  1299.0     1.0    1.0   16.0      -15.0    0.0  11.0   \n",
       "2  2013.0  1292.0  1388.0     0.0   11.0   11.0        0.0    1.0   2.0   \n",
       "3  2013.0  1272.0  1388.0     1.0    6.0   11.0       -5.0    2.0   4.0   \n",
       "4  2013.0  1241.0  1254.0     1.0   16.0   16.0        0.0    1.0   0.0   \n",
       "\n",
       "   losses    ...           wps        lps       ast        to       orr  \\\n",
       "0     4.0    ...     -1.138889   1.368056  0.799782 -2.012495 -0.227259   \n",
       "1   -11.0    ...      8.277778  11.651389  3.277593 -3.906184  1.615686   \n",
       "2    -1.0    ...      1.063187  -2.174359 -0.577258  1.793537 -0.087081   \n",
       "3    -2.0    ...     -3.382051   0.875641  1.406794  1.583940 -0.221814   \n",
       "4     1.0    ...     -2.550000  -0.212088 -2.001117 -1.737556 -1.209949   \n",
       "\n",
       "        drr       eff        tsp       teff        pir  \n",
       "0  0.061104  0.032805   2.593942   8.301471   5.163603  \n",
       "1 -0.071951  0.042745   3.895160  21.294118  24.558824  \n",
       "2 -0.819156 -0.028577  -0.633426  -0.449811  -4.857955  \n",
       "3 -1.145163 -0.010560  -1.275029   7.538603   7.952206  \n",
       "4  0.618337 -0.077344 -12.707435 -18.163102 -22.252228  \n",
       "\n",
       "[5 rows x 22 columns]"
      ]
     },
     "execution_count": 29,
     "metadata": {},
     "output_type": "execute_result"
    }
   ],
   "source": [
    "#tcr.drop(labels=['Daynum', 'Wscore', 'Lscore', 'Wloc', 'Numot'], inplace=True, axis=1)\n",
    "df_winseeds1 = season_df.rename(columns={'Team':'team1','Season':'Season', 'Seed':'Wseed','Games':'Wgames',\n",
    "                                              'Wins':'Wwins','Losses':'Wlosses','Wavg_mins':'Wwam','Lavg_mins':'Wlam',\n",
    "                                              'Wpoint_spread':'Wwps','Lpoint_spread':'Wlps','AST':'Wast','TO':'Wto','ORR':'Worr',\n",
    "                                              'DRR':'Wdrr','EFF':'Weff','TSP':'Wtsp','TEFF':'Wteff','PIR':'Wpir'})\n",
    "df_lossseeds1 = season_df.rename(columns={'Team':'team2','Season':'Season' ,'Seed':'Lseed','Games':'Lgames',\n",
    "                                               'Wins':'Lwins','Losses':'Llosses','Wavg_mins':'Lwam','Lavg_mins':\"Llam\",\n",
    "                                               'Wpoint_spread':'Lwps','Lpoint_spread':'Llps','AST':'Last','TO':'Lto','ORR':'Lorr',\n",
    "                                               'DRR':'Ldrr','EFF':'Leff','TSP':'Ltsp','TEFF':'Lteff','PIR':'Lpir'})\n",
    "df_dummy = pd.merge(left=tcr, right=df_winseeds1, how='left', on=['Season','team1'])\n",
    "df_concat1 = pd.merge(left=df_dummy, right=df_lossseeds1, on=['Season','team2'])\n",
    "df_concat1['seed_diff'] = df_concat1.Wseed - df_concat1.Lseed\n",
    "df_concat1['games'] = df_concat1.Wgames - df_concat1.Lgames\n",
    "df_concat1['wins'] = df_concat1.Wwins - df_concat1.Lwins\n",
    "df_concat1['losses'] = df_concat1.Wlosses - df_concat1.Llosses\n",
    "df_concat1['w_avmin'] = df_concat1.Wwam - df_concat1.Lwam\n",
    "df_concat1['l_avmin'] = df_concat1.Wlam - df_concat1.Llam\n",
    "df_concat1['wps'] = df_concat1.Wwps - df_concat1.Lwps\n",
    "df_concat1['lps'] = df_concat1.Wlps - df_concat1.Llps\n",
    "df_concat1['ast'] = df_concat1.Wast - df_concat1.Last\n",
    "df_concat1['to'] = df_concat1.Wto - df_concat1.Lto\n",
    "df_concat1['orr'] = df_concat1.Worr - df_concat1.Lorr\n",
    "df_concat1['drr'] = df_concat1.Wdrr - df_concat1.Ldrr\n",
    "df_concat1['eff'] = df_concat1.Weff - df_concat1.Leff\n",
    "df_concat1['tsp'] = df_concat1.Wtsp - df_concat1.Ltsp\n",
    "df_concat1['teff'] = df_concat1.Wteff - df_concat1.Lteff\n",
    "df_concat1['pir'] = df_concat1.Wpir - df_concat1.Lpir\n",
    "df_concat1.drop(labels = ['Wgames','Lgames','Wwins','Lwins','Wlosses','Llosses','Wwam','Lwam','Wlam','Llam',\n",
    "                        'Wwps','Lwps','Wlps','Llps','Wast','Last','Wto','Lto','Worr','Lorr','Wdrr','Ldrr',\n",
    "                        'Weff','Leff','Wtsp','Ltsp','Wteff','Lteff','Wpir','Lpir'], inplace = True, axis=1)\n",
    "df_concat1.head()\n"
   ]
  },
  {
   "cell_type": "code",
   "execution_count": 30,
   "metadata": {
    "collapsed": false
   },
   "outputs": [
    {
     "data": {
      "text/plain": [
       "Index(['Season', 'team1', 'team2', 'result', 'Wseed', 'Lseed', 'seed_diff',\n",
       "       'games', 'wins', 'losses', 'w_avmin', 'l_avmin', 'wps', 'lps', 'ast',\n",
       "       'to', 'orr', 'drr', 'eff', 'tsp', 'teff', 'pir'],\n",
       "      dtype='object')"
      ]
     },
     "execution_count": 30,
     "metadata": {},
     "output_type": "execute_result"
    }
   ],
   "source": [
    "df_concat1.columns"
   ]
  },
  {
   "cell_type": "code",
   "execution_count": 31,
   "metadata": {
    "collapsed": false
   },
   "outputs": [
    {
     "name": "stdout",
     "output_type": "stream",
     "text": [
      "<class 'pandas.core.frame.DataFrame'>\n",
      "<class 'pandas.core.frame.DataFrame'>\n",
      "Index(['Intercept', 'seed_diff', 'games', 'wins', 'losses', 'w_avmin',\n",
      "       'l_avmin', 'wps', 'lps', 'ast', 'to', 'orr', 'drr', 'eff', 'tsp',\n",
      "       'teff', 'pir'],\n",
      "      dtype='object')\n"
     ]
    }
   ],
   "source": [
    "y, X = dmatrices('result ~ seed_diff + games + wins + losses + w_avmin + l_avmin + wps + lps + ast + \\\n",
    "                    to + orr + drr + eff + tsp + teff + pir', df_concat1, return_type = 'dataframe')\n",
    "print(type(y))\n",
    "print(type(X))\n",
    "print(X.columns)\n",
    "y = np.ravel(y)"
   ]
  },
  {
   "cell_type": "code",
   "execution_count": 32,
   "metadata": {
    "collapsed": false
   },
   "outputs": [
    {
     "name": "stdout",
     "output_type": "stream",
     "text": [
      "0.704980842912\n",
      "0.490421455939\n"
     ]
    }
   ],
   "source": [
    "model = LogisticRegression()\n",
    "model = model.fit(X,y)\n",
    "print(model.score(X,y))\n",
    "print(y.mean())"
   ]
  },
  {
   "cell_type": "code",
   "execution_count": 33,
   "metadata": {
    "collapsed": false
   },
   "outputs": [
    {
     "data": {
      "text/plain": [
       "LogisticRegression(C=1.0, class_weight=None, dual=False, fit_intercept=True,\n",
       "          intercept_scaling=1, max_iter=100, multi_class='ovr', n_jobs=1,\n",
       "          penalty='l2', random_state=None, solver='liblinear', tol=0.0001,\n",
       "          verbose=0, warm_start=False)"
      ]
     },
     "execution_count": 33,
     "metadata": {},
     "output_type": "execute_result"
    }
   ],
   "source": [
    "X_train, X_test, y_train, y_test = train_test_split(X, y, \n",
    "                                                    test_size = 0.3, \n",
    "                                                    random_state = 0)\n",
    "model2 = LogisticRegression()\n",
    "model2.fit(X_train, y_train)"
   ]
  },
  {
   "cell_type": "code",
   "execution_count": 34,
   "metadata": {
    "collapsed": false
   },
   "outputs": [
    {
     "name": "stdout",
     "output_type": "stream",
     "text": [
      "[ 1.  0.  0.  0.  0.  1.  0.  0.  1.  1.  0.  0.  0.  0.  0.  1.  0.  1.\n",
      "  1.  1.  0.  1.  0.  1.  0.  1.  0.  1.  1.  1.  0.  0.  0.  1.  1.  1.\n",
      "  0.  0.  0.  1.  0.  0.  0.  0.  0.  0.  0.  0.  0.  0.  0.  0.  0.  0.\n",
      "  1.  1.  1.  0.  0.  1.  0.  1.  0.  1.  1.  1.  0.  0.  0.  1.  1.  0.\n",
      "  0.  0.  0.  1.  1.  1.  0.]\n"
     ]
    }
   ],
   "source": [
    "#predict class labels for the test set\n",
    "prediction = model2.predict(X_test)\n",
    "print(prediction)"
   ]
  },
  {
   "cell_type": "code",
   "execution_count": 36,
   "metadata": {
    "collapsed": false
   },
   "outputs": [],
   "source": [
    "pred_proba = model2.predict_proba(X_test)\n",
    "#print(pred_proba)"
   ]
  },
  {
   "cell_type": "code",
   "execution_count": 37,
   "metadata": {
    "collapsed": false
   },
   "outputs": [
    {
     "name": "stdout",
     "output_type": "stream",
     "text": [
      "0.759493670886\n",
      "0.787179487179\n"
     ]
    }
   ],
   "source": [
    "print(metrics.accuracy_score(y_test, prediction))\n",
    "print(metrics.roc_auc_score(y_test, pred_proba[:,1]))"
   ]
  },
  {
   "cell_type": "code",
   "execution_count": 38,
   "metadata": {
    "collapsed": false
   },
   "outputs": [
    {
     "name": "stdout",
     "output_type": "stream",
     "text": [
      "[[34  5]\n",
      " [14 26]]\n"
     ]
    }
   ],
   "source": [
    "print(metrics.confusion_matrix(y_test, prediction))"
   ]
  },
  {
   "cell_type": "code",
   "execution_count": 39,
   "metadata": {
    "collapsed": false
   },
   "outputs": [
    {
     "name": "stdout",
     "output_type": "stream",
     "text": [
      "             precision    recall  f1-score   support\n",
      "\n",
      "        0.0       0.71      0.87      0.78        39\n",
      "        1.0       0.84      0.65      0.73        40\n",
      "\n",
      "avg / total       0.77      0.76      0.76        79\n",
      "\n"
     ]
    }
   ],
   "source": [
    "print(metrics.classification_report(y_test, prediction))"
   ]
  },
  {
   "cell_type": "code",
   "execution_count": 40,
   "metadata": {
    "collapsed": false
   },
   "outputs": [
    {
     "name": "stdout",
     "output_type": "stream",
     "text": [
      "[ 0.66666667  0.62962963  0.62962963  0.80769231  0.5         0.65384615\n",
      "  0.84615385  0.73076923  0.56        0.72      ]\n",
      "***************************************************************************\n",
      "0.674438746439\n"
     ]
    }
   ],
   "source": [
    "scores = cross_val_score(LogisticRegression(), X, y, scoring='accuracy', cv = 10)\n",
    "\n",
    "print(scores)\n",
    "print('*'*75)\n",
    "print(scores.mean())"
   ]
  },
  {
   "cell_type": "code",
   "execution_count": 83,
   "metadata": {
    "collapsed": false
   },
   "outputs": [
    {
     "name": "stdout",
     "output_type": "stream",
     "text": [
      "Straight Model Score 0.7049808429118773 vs mean 0.4904214559386973.\n",
      "Intercept: [ 0.05445633]\n",
      "Test model accuracy: 0.759493670886076\n",
      "Roc Auc Score: 0.7871794871794873\n",
      "Confusion Matrix:\n",
      "[[34  5]\n",
      " [14 26]]\n",
      "Mean Cross Validation Score: 0.6766666666666665\n"
     ]
    }
   ],
   "source": [
    "#With all variables\n",
    "y, X = dmatrices('result ~ seed_diff + games + wins + losses + w_avmin + l_avmin + wps + lps + ast + \\\n",
    "                    to + orr + drr + eff + tsp + teff + pir', df_concat1, return_type = 'dataframe')\n",
    "y = np.ravel(y)\n",
    "model = LogisticRegression()\n",
    "model = model.fit(X,y)\n",
    "print(\"Straight Model Score {} vs mean {}.\".format(model.score(X,y),y.mean()))\n",
    "print('Intercept: {}'.format(model.intercept_))\n",
    "X_train, X_test, y_train, y_test = train_test_split(X, y, \n",
    "                                                    test_size = 0.3, \n",
    "                                                    random_state = 0)\n",
    "model2 = LogisticRegression()\n",
    "model2.fit(X_train, y_train)\n",
    "prediction = model2.predict(X_test)\n",
    "pred_proba = model2.predict_proba(X_test)\n",
    "print('Test model accuracy: {}'.format(metrics.accuracy_score(y_test, prediction)))\n",
    "print('Roc Auc Score: {}'.format(metrics.roc_auc_score(y_test, pred_proba[:,1])))\n",
    "print('Confusion Matrix:')\n",
    "print(metrics.confusion_matrix(y_test, prediction))\n",
    "scores = cross_val_score(LogisticRegression(), X, y, scoring='accuracy', cv = 100)\n",
    "print('Mean Cross Validation Score: {}'.format(scores.mean()))"
   ]
  },
  {
   "cell_type": "code",
   "execution_count": 84,
   "metadata": {
    "collapsed": false
   },
   "outputs": [
    {
     "name": "stdout",
     "output_type": "stream",
     "text": [
      "Straight Model Score 0.7279693486590039 vs mean 0.4904214559386973.\n",
      "Intercept: [ 0.05914522]\n",
      "Test model accuracy: 0.7468354430379747\n",
      "Roc Auc Score: 0.775\n",
      "Confusion Matrix:\n",
      "[[33  6]\n",
      " [14 26]]\n",
      "Mean Cross Validation Score: 0.7091666666666666\n"
     ]
    }
   ],
   "source": [
    "#Remove games, wins, losses, time per win/loss \n",
    "y, X = dmatrices('result ~ seed_diff + wps + lps + ast + to + orr + drr + eff + tsp + teff + pir', df_concat1, return_type = 'dataframe')\n",
    "y = np.ravel(y)\n",
    "model = LogisticRegression()\n",
    "model = model.fit(X,y)\n",
    "print(\"Straight Model Score {} vs mean {}.\".format(model.score(X,y),y.mean()))\n",
    "print('Intercept: {}'.format(model.intercept_))\n",
    "X_train, X_test, y_train, y_test = train_test_split(X, y, \n",
    "                                                    test_size = 0.3, \n",
    "                                                    random_state = 0)\n",
    "model2 = LogisticRegression()\n",
    "model2.fit(X_train, y_train)\n",
    "prediction = model2.predict(X_test)\n",
    "pred_proba = model2.predict_proba(X_test)\n",
    "print('Test model accuracy: {}'.format(metrics.accuracy_score(y_test, prediction)))\n",
    "print('Roc Auc Score: {}'.format(metrics.roc_auc_score(y_test, pred_proba[:,1])))\n",
    "print('Confusion Matrix:')\n",
    "print(metrics.confusion_matrix(y_test, prediction))\n",
    "scores = cross_val_score(LogisticRegression(), X, y, scoring='accuracy', cv = 100)\n",
    "print('Mean Cross Validation Score: {}'.format(scores.mean()))"
   ]
  },
  {
   "cell_type": "code",
   "execution_count": 85,
   "metadata": {
    "collapsed": false
   },
   "outputs": [
    {
     "name": "stdout",
     "output_type": "stream",
     "text": [
      "Straight Model Score 0.7241379310344828 vs mean 0.4904214559386973.\n",
      "Intercept: [ 0.05140899]\n",
      "Test model accuracy: 0.759493670886076\n",
      "Roc Auc Score: 0.7711538461538461\n",
      "Confusion Matrix:\n",
      "[[33  6]\n",
      " [13 27]]\n",
      "Mean Cross Validation Score: 0.7133333333333333\n"
     ]
    }
   ],
   "source": [
    "#Remove games, wins, losses, time per win/loss, winning/losing point spreads \n",
    "y, X = dmatrices('result ~ seed_diff + ast + to + orr + drr + eff + tsp + teff + pir', df_concat1, return_type = 'dataframe')\n",
    "y = np.ravel(y)\n",
    "model = LogisticRegression()\n",
    "model = model.fit(X,y)\n",
    "print(\"Straight Model Score {} vs mean {}.\".format(model.score(X,y),y.mean()))\n",
    "print('Intercept: {}'.format(model.intercept_))\n",
    "X_train, X_test, y_train, y_test = train_test_split(X, y, \n",
    "                                                    test_size = 0.3, \n",
    "                                                    random_state = 0)\n",
    "model2 = LogisticRegression()\n",
    "model2.fit(X_train, y_train)\n",
    "prediction = model2.predict(X_test)\n",
    "pred_proba = model2.predict_proba(X_test)\n",
    "print('Test model accuracy: {}'.format(metrics.accuracy_score(y_test, prediction)))\n",
    "print('Roc Auc Score: {}'.format(metrics.roc_auc_score(y_test, pred_proba[:,1])))\n",
    "print('Confusion Matrix:')\n",
    "print(metrics.confusion_matrix(y_test, prediction))\n",
    "scores = cross_val_score(LogisticRegression(), X, y, scoring='accuracy', cv = 100)\n",
    "print('Mean Cross Validation Score: {}'.format(scores.mean()))"
   ]
  },
  {
   "cell_type": "code",
   "execution_count": 86,
   "metadata": {
    "collapsed": false
   },
   "outputs": [
    {
     "name": "stdout",
     "output_type": "stream",
     "text": [
      "Straight Model Score 0.7011494252873564 vs mean 0.4904214559386973.\n",
      "Intercept: [ 0.02350208]\n",
      "Test model accuracy: 0.7721518987341772\n",
      "Roc Auc Score: 0.791025641025641\n",
      "Confusion Matrix:\n",
      "[[33  6]\n",
      " [12 28]]\n",
      "Mean Cross Validation Score: 0.7025\n"
     ]
    }
   ],
   "source": [
    "#Only seed, teff & pir\n",
    "y, X = dmatrices('result ~ seed_diff + teff + pir', df_concat1, return_type = 'dataframe')\n",
    "y = np.ravel(y)\n",
    "model = LogisticRegression()\n",
    "model = model.fit(X,y)\n",
    "print(\"Straight Model Score {} vs mean {}.\".format(model.score(X,y),y.mean()))\n",
    "print('Intercept: {}'.format(model.intercept_))\n",
    "X_train, X_test, y_train, y_test = train_test_split(X, y, \n",
    "                                                    test_size = 0.3, \n",
    "                                                    random_state = 0)\n",
    "model2 = LogisticRegression()\n",
    "model2.fit(X_train, y_train)\n",
    "prediction = model2.predict(X_test)\n",
    "pred_proba = model2.predict_proba(X_test)\n",
    "print('Test model accuracy: {}'.format(metrics.accuracy_score(y_test, prediction)))\n",
    "print('Roc Auc Score: {}'.format(metrics.roc_auc_score(y_test, pred_proba[:,1])))\n",
    "print('Confusion Matrix:')\n",
    "print(metrics.confusion_matrix(y_test, prediction))\n",
    "scores = cross_val_score(LogisticRegression(), X, y, scoring='accuracy', cv = 100)\n",
    "print('Mean Cross Validation Score: {}'.format(scores.mean()))"
   ]
  },
  {
   "cell_type": "code",
   "execution_count": 87,
   "metadata": {
    "collapsed": false
   },
   "outputs": [
    {
     "name": "stdout",
     "output_type": "stream",
     "text": [
      "Straight Model Score 0.7164750957854407 vs mean 0.4904214559386973.\n",
      "Intercept: [ 0.04004978]\n",
      "Test model accuracy: 0.7721518987341772\n",
      "Roc Auc Score: 0.783974358974359\n",
      "Confusion Matrix:\n",
      "[[34  5]\n",
      " [13 27]]\n",
      "Mean Cross Validation Score: 0.6783333333333332\n"
     ]
    }
   ],
   "source": [
    "#Start Back with best, introduce interactions\n",
    "#(wins*w_avmin) + (losses*l_avmin) + w_avmin + l_avmin + wps + lps +\n",
    "y, X = dmatrices('result ~ seed_diff + (wins*w_avmin) + (losses*l_avmin) + wps + lps + ast + to + orr + drr + eff + tsp + teff + pir', df_concat1, return_type = 'dataframe')\n",
    "y = np.ravel(y)\n",
    "model = LogisticRegression()\n",
    "model = model.fit(X,y)\n",
    "print(\"Straight Model Score {} vs mean {}.\".format(model.score(X,y),y.mean()))\n",
    "print('Intercept: {}'.format(model.intercept_))\n",
    "X_train, X_test, y_train, y_test = train_test_split(X, y, \n",
    "                                                    test_size = 0.3, \n",
    "                                                    random_state = 0)\n",
    "model2 = LogisticRegression()\n",
    "model2.fit(X_train, y_train)\n",
    "prediction = model2.predict(X_test)\n",
    "pred_proba = model2.predict_proba(X_test)\n",
    "print('Test model accuracy: {}'.format(metrics.accuracy_score(y_test, prediction)))\n",
    "print('Roc Auc Score: {}'.format(metrics.roc_auc_score(y_test, pred_proba[:,1])))\n",
    "print('Confusion Matrix:')\n",
    "print(metrics.confusion_matrix(y_test, prediction))\n",
    "scores = cross_val_score(LogisticRegression(), X, y, scoring='accuracy', cv = 100)\n",
    "print('Mean Cross Validation Score: {}'.format(scores.mean()))"
   ]
  },
  {
   "cell_type": "code",
   "execution_count": 88,
   "metadata": {
    "collapsed": false
   },
   "outputs": [
    {
     "name": "stdout",
     "output_type": "stream",
     "text": [
      "Straight Model Score 0.7126436781609196 vs mean 0.4904214559386973.\n",
      "Intercept: [ 0.05697967]\n",
      "Test model accuracy: 0.759493670886076\n",
      "Roc Auc Score: 0.7673076923076924\n",
      "Confusion Matrix:\n",
      "[[32  7]\n",
      " [12 28]]\n",
      "Mean Cross Validation Score: 0.6691666666666666\n"
     ]
    }
   ],
   "source": [
    "#Change interaciton terms used\n",
    "y, X = dmatrices('result ~ seed_diff + (wins*wps) + (losses*lps) + wps + lps + ast + to + orr + drr + eff + tsp + teff + pir', df_concat1, return_type = 'dataframe')\n",
    "y = np.ravel(y)\n",
    "model = LogisticRegression()\n",
    "model = model.fit(X,y)\n",
    "print(\"Straight Model Score {} vs mean {}.\".format(model.score(X,y),y.mean()))\n",
    "print('Intercept: {}'.format(model.intercept_))\n",
    "X_train, X_test, y_train, y_test = train_test_split(X, y, \n",
    "                                                    test_size = 0.3, \n",
    "                                                    random_state = 0)\n",
    "model2 = LogisticRegression()\n",
    "model2.fit(X_train, y_train)\n",
    "prediction = model2.predict(X_test)\n",
    "pred_proba = model2.predict_proba(X_test)\n",
    "print('Test model accuracy: {}'.format(metrics.accuracy_score(y_test, prediction)))\n",
    "print('Roc Auc Score: {}'.format(metrics.roc_auc_score(y_test, pred_proba[:,1])))\n",
    "print('Confusion Matrix:')\n",
    "print(metrics.confusion_matrix(y_test, prediction))\n",
    "scores = cross_val_score(LogisticRegression(), X, y, scoring='accuracy', cv = 100)\n",
    "print('Mean Cross Validation Score: {}'.format(scores.mean()))"
   ]
  },
  {
   "cell_type": "code",
   "execution_count": 89,
   "metadata": {
    "collapsed": false
   },
   "outputs": [
    {
     "name": "stdout",
     "output_type": "stream",
     "text": [
      "Straight Model Score 0.7049808429118773 vs mean 0.4904214559386973.\n",
      "Intercept: [ 0.05435316]\n",
      "Test model accuracy: 0.759493670886076\n",
      "Roc Auc Score: 0.7858974358974359\n",
      "Confusion Matrix:\n",
      "[[33  6]\n",
      " [13 27]]\n",
      "Mean Cross Validation Score: 0.6741666666666666\n"
     ]
    }
   ],
   "source": [
    "#Add back in wins, losses; still remove: time per win/loss \n",
    "y, X = dmatrices('result ~ seed_diff + wins + losses + wps + lps + ast + to + orr + drr + eff + tsp + teff + pir', df_concat1, return_type = 'dataframe')\n",
    "y = np.ravel(y)\n",
    "model = LogisticRegression()\n",
    "model = model.fit(X,y)\n",
    "print(\"Straight Model Score {} vs mean {}.\".format(model.score(X,y),y.mean()))\n",
    "print('Intercept: {}'.format(model.intercept_))\n",
    "X_train, X_test, y_train, y_test = train_test_split(X, y, \n",
    "                                                    test_size = 0.3, \n",
    "                                                    random_state = 0)\n",
    "model2 = LogisticRegression()\n",
    "model2.fit(X_train, y_train)\n",
    "prediction = model2.predict(X_test)\n",
    "pred_proba = model2.predict_proba(X_test)\n",
    "print('Test model accuracy: {}'.format(metrics.accuracy_score(y_test, prediction)))\n",
    "print('Roc Auc Score: {}'.format(metrics.roc_auc_score(y_test, pred_proba[:,1])))\n",
    "print('Confusion Matrix:')\n",
    "print(metrics.confusion_matrix(y_test, prediction))\n",
    "scores = cross_val_score(LogisticRegression(), X, y, scoring='accuracy', cv =100)\n",
    "print('Mean Cross Validation Score: {}'.format(scores.mean()))"
   ]
  },
  {
   "cell_type": "code",
   "execution_count": 90,
   "metadata": {
    "collapsed": false
   },
   "outputs": [
    {
     "name": "stdout",
     "output_type": "stream",
     "text": [
      "Straight Model Score 0.7241379310344828 vs mean 0.4904214559386973.\n",
      "Intercept: [ 0.05860483]\n",
      "Test model accuracy: 0.7341772151898734\n",
      "Roc Auc Score: 0.7724358974358975\n",
      "Confusion Matrix:\n",
      "[[33  6]\n",
      " [15 25]]\n",
      "Mean Cross Validation Score: 0.7041666666666666\n"
     ]
    }
   ],
   "source": [
    "#Add back in time per win/loss; still remove:  wins, losses\n",
    "y, X = dmatrices('result ~ seed_diff + w_avmin + l_avmin + wps + lps + ast + to + orr + drr + eff + tsp + teff + pir', df_concat1, return_type = 'dataframe')\n",
    "y = np.ravel(y)\n",
    "model = LogisticRegression()\n",
    "model = model.fit(X,y)\n",
    "print(\"Straight Model Score {} vs mean {}.\".format(model.score(X,y),y.mean()))\n",
    "print('Intercept: {}'.format(model.intercept_))\n",
    "X_train, X_test, y_train, y_test = train_test_split(X, y, \n",
    "                                                    test_size = 0.3, \n",
    "                                                    random_state = 0)\n",
    "model2 = LogisticRegression()\n",
    "model2.fit(X_train, y_train)\n",
    "prediction = model2.predict(X_test)\n",
    "pred_proba = model2.predict_proba(X_test)\n",
    "print('Test model accuracy: {}'.format(metrics.accuracy_score(y_test, prediction)))\n",
    "print('Roc Auc Score: {}'.format(metrics.roc_auc_score(y_test, pred_proba[:,1])))\n",
    "print('Confusion Matrix:')\n",
    "print(metrics.confusion_matrix(y_test, prediction))\n",
    "scores = cross_val_score(LogisticRegression(), X, y, scoring='accuracy', cv = 100)\n",
    "print('Mean Cross Validation Score: {}'.format(scores.mean()))"
   ]
  },
  {
   "cell_type": "markdown",
   "metadata": {},
   "source": [
    "# Best model by cross validation"
   ]
  },
  {
   "cell_type": "code",
   "execution_count": 122,
   "metadata": {
    "collapsed": false
   },
   "outputs": [
    {
     "name": "stdout",
     "output_type": "stream",
     "text": [
      "Straight Model Score 0.7241379310344828 vs mean 0.4904214559386973.\n",
      "Intercept: [ 0.05140899]\n",
      "Test model accuracy: 0.759493670886076\n",
      "Roc Auc Score: 0.7711538461538461\n",
      "Confusion Matrix:\n",
      "[[33  6]\n",
      " [13 27]]\n",
      "Mean Cross Validation Score: 0.7133333333333333\n"
     ]
    }
   ],
   "source": [
    "#Remove games, wins, losses, time per win/loss, winning/losing point spreads \n",
    "y, X = dmatrices('result ~ seed_diff + ast + to + orr + drr + eff + tsp + teff + pir', df_concat1, return_type = 'dataframe')\n",
    "y = np.ravel(y)\n",
    "model = LogisticRegression()\n",
    "model = model.fit(X,y)\n",
    "intercept = model.intercept_\n",
    "print(\"Straight Model Score {} vs mean {}.\".format(model.score(X,y),y.mean()))\n",
    "print('Intercept: {}'.format(intercept))\n",
    "X_train, X_test, y_train, y_test = train_test_split(X, y, \n",
    "                                                    test_size = 0.3, \n",
    "                                                    random_state = 0)\n",
    "model2 = LogisticRegression()\n",
    "model2.fit(X_train, y_train)\n",
    "prediction = model2.predict(X_test)\n",
    "pred_proba = model2.predict_proba(X_test)\n",
    "print('Test model accuracy: {}'.format(metrics.accuracy_score(y_test, prediction)))\n",
    "print('Roc Auc Score: {}'.format(metrics.roc_auc_score(y_test, pred_proba[:,1])))\n",
    "print('Confusion Matrix:')\n",
    "print(metrics.confusion_matrix(y_test, prediction))\n",
    "scores = cross_val_score(LogisticRegression(), X, y, scoring='accuracy', cv = 100)\n",
    "print('Mean Cross Validation Score: {}'.format(scores.mean()))"
   ]
  },
  {
   "cell_type": "code",
   "execution_count": 99,
   "metadata": {
    "collapsed": false
   },
   "outputs": [
    {
     "data": {
      "text/html": [
       "<div>\n",
       "<table border=\"1\" class=\"dataframe\">\n",
       "  <thead>\n",
       "    <tr style=\"text-align: right;\">\n",
       "      <th></th>\n",
       "      <th>Id</th>\n",
       "      <th>Pred</th>\n",
       "    </tr>\n",
       "  </thead>\n",
       "  <tbody>\n",
       "    <tr>\n",
       "      <th>0</th>\n",
       "      <td>2017_1112_1116</td>\n",
       "      <td>0.5</td>\n",
       "    </tr>\n",
       "    <tr>\n",
       "      <th>1</th>\n",
       "      <td>2017_1112_1124</td>\n",
       "      <td>0.5</td>\n",
       "    </tr>\n",
       "    <tr>\n",
       "      <th>2</th>\n",
       "      <td>2017_1112_1137</td>\n",
       "      <td>0.5</td>\n",
       "    </tr>\n",
       "    <tr>\n",
       "      <th>3</th>\n",
       "      <td>2017_1112_1139</td>\n",
       "      <td>0.5</td>\n",
       "    </tr>\n",
       "    <tr>\n",
       "      <th>4</th>\n",
       "      <td>2017_1112_1153</td>\n",
       "      <td>0.5</td>\n",
       "    </tr>\n",
       "  </tbody>\n",
       "</table>\n",
       "</div>"
      ],
      "text/plain": [
       "               Id  Pred\n",
       "0  2017_1112_1116   0.5\n",
       "1  2017_1112_1124   0.5\n",
       "2  2017_1112_1137   0.5\n",
       "3  2017_1112_1139   0.5\n",
       "4  2017_1112_1153   0.5"
      ]
     },
     "execution_count": 99,
     "metadata": {},
     "output_type": "execute_result"
    }
   ],
   "source": [
    "games17 = pd.read_csv(file_path2+\"SampleSubmission.csv\")\n",
    "games17.head()"
   ]
  },
  {
   "cell_type": "code",
   "execution_count": 103,
   "metadata": {
    "collapsed": false
   },
   "outputs": [
    {
     "data": {
      "text/html": [
       "<div>\n",
       "<table border=\"1\" class=\"dataframe\">\n",
       "  <thead>\n",
       "    <tr style=\"text-align: right;\">\n",
       "      <th></th>\n",
       "      <th>Season</th>\n",
       "      <th>Wteam</th>\n",
       "      <th>Lteam</th>\n",
       "      <th>id</th>\n",
       "      <th>pred</th>\n",
       "    </tr>\n",
       "  </thead>\n",
       "  <tbody>\n",
       "    <tr>\n",
       "      <th>0</th>\n",
       "      <td>2017</td>\n",
       "      <td>1112</td>\n",
       "      <td>1116</td>\n",
       "      <td>2017_1112_1116</td>\n",
       "      <td>0.5</td>\n",
       "    </tr>\n",
       "    <tr>\n",
       "      <th>1</th>\n",
       "      <td>2017</td>\n",
       "      <td>1112</td>\n",
       "      <td>1124</td>\n",
       "      <td>2017_1112_1124</td>\n",
       "      <td>0.5</td>\n",
       "    </tr>\n",
       "    <tr>\n",
       "      <th>2</th>\n",
       "      <td>2017</td>\n",
       "      <td>1112</td>\n",
       "      <td>1137</td>\n",
       "      <td>2017_1112_1137</td>\n",
       "      <td>0.5</td>\n",
       "    </tr>\n",
       "    <tr>\n",
       "      <th>3</th>\n",
       "      <td>2017</td>\n",
       "      <td>1112</td>\n",
       "      <td>1139</td>\n",
       "      <td>2017_1112_1139</td>\n",
       "      <td>0.5</td>\n",
       "    </tr>\n",
       "    <tr>\n",
       "      <th>4</th>\n",
       "      <td>2017</td>\n",
       "      <td>1112</td>\n",
       "      <td>1153</td>\n",
       "      <td>2017_1112_1153</td>\n",
       "      <td>0.5</td>\n",
       "    </tr>\n",
       "  </tbody>\n",
       "</table>\n",
       "</div>"
      ],
      "text/plain": [
       "   Season  Wteam  Lteam              id  pred\n",
       "0    2017   1112   1116  2017_1112_1116   0.5\n",
       "1    2017   1112   1124  2017_1112_1124   0.5\n",
       "2    2017   1112   1137  2017_1112_1137   0.5\n",
       "3    2017   1112   1139  2017_1112_1139   0.5\n",
       "4    2017   1112   1153  2017_1112_1153   0.5"
      ]
     },
     "execution_count": 103,
     "metadata": {},
     "output_type": "execute_result"
    }
   ],
   "source": [
    "games = games17['Id']\n",
    "sub_df = pd.DataFrame(games17.Id.str.split('_').tolist(), columns = ['Season','Wteam','Lteam'])\n",
    "sub_df['id'] = sub_df['Season']+\"_\"+sub_df['Wteam']+\"_\"+sub_df['Lteam']\n",
    "sub_df['Season'] = sub_df['Season'].astype(int)\n",
    "sub_df['Wteam'] = sub_df['Wteam'].astype(int)\n",
    "sub_df['Lteam'] = sub_df['Lteam'].astype(int)\n",
    "sub_df['pred'] = 0.5\n",
    "sub_df.head()"
   ]
  },
  {
   "cell_type": "code",
   "execution_count": 104,
   "metadata": {
    "collapsed": false
   },
   "outputs": [
    {
     "data": {
      "text/plain": [
       "2278"
      ]
     },
     "execution_count": 104,
     "metadata": {},
     "output_type": "execute_result"
    }
   ],
   "source": [
    "len(sub_df)"
   ]
  },
  {
   "cell_type": "code",
   "execution_count": 131,
   "metadata": {
    "collapsed": false
   },
   "outputs": [
    {
     "data": {
      "text/html": [
       "<div>\n",
       "<table border=\"1\" class=\"dataframe\">\n",
       "  <thead>\n",
       "    <tr style=\"text-align: right;\">\n",
       "      <th></th>\n",
       "      <th>Team</th>\n",
       "      <th>Season</th>\n",
       "      <th>Seed</th>\n",
       "      <th>Games</th>\n",
       "      <th>Wins</th>\n",
       "      <th>Losses</th>\n",
       "      <th>Wavg_mins</th>\n",
       "      <th>Lavg_mins</th>\n",
       "      <th>Wpoint_spread</th>\n",
       "      <th>Lpoint_spread</th>\n",
       "      <th>AST</th>\n",
       "      <th>TO</th>\n",
       "      <th>ORR</th>\n",
       "      <th>DRR</th>\n",
       "      <th>EFF</th>\n",
       "      <th>TSP</th>\n",
       "      <th>TEFF</th>\n",
       "      <th>PIR</th>\n",
       "    </tr>\n",
       "  </thead>\n",
       "  <tbody>\n",
       "    <tr>\n",
       "      <th>53</th>\n",
       "      <td>1112.0</td>\n",
       "      <td>2017.0</td>\n",
       "      <td>2.0</td>\n",
       "      <td>34.0</td>\n",
       "      <td>30.0</td>\n",
       "      <td>4.0</td>\n",
       "      <td>40.0</td>\n",
       "      <td>40.0</td>\n",
       "      <td>13.7</td>\n",
       "      <td>10.833333</td>\n",
       "      <td>15.256606</td>\n",
       "      <td>12.694455</td>\n",
       "      <td>6.67393</td>\n",
       "      <td>14.763443</td>\n",
       "      <td>0.536638</td>\n",
       "      <td>79.128806</td>\n",
       "      <td>79.529412</td>\n",
       "      <td>101.029412</td>\n",
       "    </tr>\n",
       "  </tbody>\n",
       "</table>\n",
       "</div>"
      ],
      "text/plain": [
       "      Team  Season  Seed  Games  Wins  Losses  Wavg_mins  Lavg_mins  \\\n",
       "53  1112.0  2017.0   2.0   34.0  30.0     4.0       40.0       40.0   \n",
       "\n",
       "    Wpoint_spread  Lpoint_spread        AST         TO      ORR        DRR  \\\n",
       "53           13.7      10.833333  15.256606  12.694455  6.67393  14.763443   \n",
       "\n",
       "         EFF        TSP       TEFF         PIR  \n",
       "53  0.536638  79.128806  79.529412  101.029412  "
      ]
     },
     "execution_count": 131,
     "metadata": {},
     "output_type": "execute_result"
    }
   ],
   "source": [
    "season_df[np.logical_and(season_df['Season']==2017,season_df['Team']==1112)]"
   ]
  },
  {
   "cell_type": "code",
   "execution_count": 132,
   "metadata": {
    "collapsed": false
   },
   "outputs": [
    {
     "data": {
      "text/html": [
       "<div>\n",
       "<table border=\"1\" class=\"dataframe\">\n",
       "  <thead>\n",
       "    <tr style=\"text-align: right;\">\n",
       "      <th></th>\n",
       "      <th>Season</th>\n",
       "      <th>Wteam</th>\n",
       "      <th>Lteam</th>\n",
       "      <th>id</th>\n",
       "      <th>pred</th>\n",
       "      <th>Wseed</th>\n",
       "      <th>Lseed</th>\n",
       "      <th>seed_diff</th>\n",
       "      <th>games</th>\n",
       "      <th>wins</th>\n",
       "      <th>...</th>\n",
       "      <th>wps</th>\n",
       "      <th>lps</th>\n",
       "      <th>ast</th>\n",
       "      <th>to</th>\n",
       "      <th>orr</th>\n",
       "      <th>drr</th>\n",
       "      <th>eff</th>\n",
       "      <th>tsp</th>\n",
       "      <th>teff</th>\n",
       "      <th>pir</th>\n",
       "    </tr>\n",
       "  </thead>\n",
       "  <tbody>\n",
       "    <tr>\n",
       "      <th>0</th>\n",
       "      <td>2017</td>\n",
       "      <td>1112</td>\n",
       "      <td>1116</td>\n",
       "      <td>2017_1112_1116</td>\n",
       "      <td>0.5</td>\n",
       "      <td>2.0</td>\n",
       "      <td>8.0</td>\n",
       "      <td>-6.0</td>\n",
       "      <td>0.0</td>\n",
       "      <td>5.0</td>\n",
       "      <td>...</td>\n",
       "      <td>0.580000</td>\n",
       "      <td>-3.522222</td>\n",
       "      <td>0.711622</td>\n",
       "      <td>0.474654</td>\n",
       "      <td>0.179955</td>\n",
       "      <td>1.505469</td>\n",
       "      <td>0.021891</td>\n",
       "      <td>2.605898</td>\n",
       "      <td>0.235294</td>\n",
       "      <td>1.529412</td>\n",
       "    </tr>\n",
       "    <tr>\n",
       "      <th>1</th>\n",
       "      <td>2017</td>\n",
       "      <td>1112</td>\n",
       "      <td>1124</td>\n",
       "      <td>2017_1112_1124</td>\n",
       "      <td>0.5</td>\n",
       "      <td>2.0</td>\n",
       "      <td>3.0</td>\n",
       "      <td>-1.0</td>\n",
       "      <td>3.0</td>\n",
       "      <td>6.0</td>\n",
       "      <td>...</td>\n",
       "      <td>0.741667</td>\n",
       "      <td>-2.041667</td>\n",
       "      <td>-1.499240</td>\n",
       "      <td>-1.810406</td>\n",
       "      <td>-1.307975</td>\n",
       "      <td>0.700392</td>\n",
       "      <td>0.009606</td>\n",
       "      <td>5.856204</td>\n",
       "      <td>4.916509</td>\n",
       "      <td>4.093928</td>\n",
       "    </tr>\n",
       "    <tr>\n",
       "      <th>2</th>\n",
       "      <td>2017</td>\n",
       "      <td>1116</td>\n",
       "      <td>1124</td>\n",
       "      <td>2017_1116_1124</td>\n",
       "      <td>0.5</td>\n",
       "      <td>8.0</td>\n",
       "      <td>3.0</td>\n",
       "      <td>5.0</td>\n",
       "      <td>3.0</td>\n",
       "      <td>1.0</td>\n",
       "      <td>...</td>\n",
       "      <td>0.161667</td>\n",
       "      <td>1.480556</td>\n",
       "      <td>-2.210862</td>\n",
       "      <td>-2.285061</td>\n",
       "      <td>-1.487930</td>\n",
       "      <td>-0.805077</td>\n",
       "      <td>-0.012284</td>\n",
       "      <td>3.250305</td>\n",
       "      <td>4.681214</td>\n",
       "      <td>2.564516</td>\n",
       "    </tr>\n",
       "    <tr>\n",
       "      <th>3</th>\n",
       "      <td>2017</td>\n",
       "      <td>1112</td>\n",
       "      <td>1137</td>\n",
       "      <td>2017_1112_1137</td>\n",
       "      <td>0.5</td>\n",
       "      <td>2.0</td>\n",
       "      <td>13.0</td>\n",
       "      <td>-11.0</td>\n",
       "      <td>0.0</td>\n",
       "      <td>4.0</td>\n",
       "      <td>...</td>\n",
       "      <td>-0.915385</td>\n",
       "      <td>-6.522436</td>\n",
       "      <td>-0.422007</td>\n",
       "      <td>-1.569117</td>\n",
       "      <td>1.306902</td>\n",
       "      <td>0.276948</td>\n",
       "      <td>-0.017429</td>\n",
       "      <td>1.964045</td>\n",
       "      <td>6.235294</td>\n",
       "      <td>2.764706</td>\n",
       "    </tr>\n",
       "    <tr>\n",
       "      <th>4</th>\n",
       "      <td>2017</td>\n",
       "      <td>1116</td>\n",
       "      <td>1137</td>\n",
       "      <td>2017_1116_1137</td>\n",
       "      <td>0.5</td>\n",
       "      <td>8.0</td>\n",
       "      <td>13.0</td>\n",
       "      <td>-5.0</td>\n",
       "      <td>0.0</td>\n",
       "      <td>-1.0</td>\n",
       "      <td>...</td>\n",
       "      <td>-1.495385</td>\n",
       "      <td>-3.000214</td>\n",
       "      <td>-1.133629</td>\n",
       "      <td>-2.043771</td>\n",
       "      <td>1.126947</td>\n",
       "      <td>-1.228521</td>\n",
       "      <td>-0.039320</td>\n",
       "      <td>-0.641853</td>\n",
       "      <td>6.000000</td>\n",
       "      <td>1.235294</td>\n",
       "    </tr>\n",
       "  </tbody>\n",
       "</table>\n",
       "<p>5 rows × 23 columns</p>\n",
       "</div>"
      ],
      "text/plain": [
       "   Season  Wteam  Lteam              id  pred  Wseed  Lseed  seed_diff  games  \\\n",
       "0    2017   1112   1116  2017_1112_1116   0.5    2.0    8.0       -6.0    0.0   \n",
       "1    2017   1112   1124  2017_1112_1124   0.5    2.0    3.0       -1.0    3.0   \n",
       "2    2017   1116   1124  2017_1116_1124   0.5    8.0    3.0        5.0    3.0   \n",
       "3    2017   1112   1137  2017_1112_1137   0.5    2.0   13.0      -11.0    0.0   \n",
       "4    2017   1116   1137  2017_1116_1137   0.5    8.0   13.0       -5.0    0.0   \n",
       "\n",
       "   wins    ...          wps       lps       ast        to       orr       drr  \\\n",
       "0   5.0    ...     0.580000 -3.522222  0.711622  0.474654  0.179955  1.505469   \n",
       "1   6.0    ...     0.741667 -2.041667 -1.499240 -1.810406 -1.307975  0.700392   \n",
       "2   1.0    ...     0.161667  1.480556 -2.210862 -2.285061 -1.487930 -0.805077   \n",
       "3   4.0    ...    -0.915385 -6.522436 -0.422007 -1.569117  1.306902  0.276948   \n",
       "4  -1.0    ...    -1.495385 -3.000214 -1.133629 -2.043771  1.126947 -1.228521   \n",
       "\n",
       "        eff       tsp      teff       pir  \n",
       "0  0.021891  2.605898  0.235294  1.529412  \n",
       "1  0.009606  5.856204  4.916509  4.093928  \n",
       "2 -0.012284  3.250305  4.681214  2.564516  \n",
       "3 -0.017429  1.964045  6.235294  2.764706  \n",
       "4 -0.039320 -0.641853  6.000000  1.235294  \n",
       "\n",
       "[5 rows x 23 columns]"
      ]
     },
     "execution_count": 132,
     "metadata": {},
     "output_type": "execute_result"
    }
   ],
   "source": [
    "df_winseeds = season_df.rename(columns={'Team':'Wteam','Season':'Season', 'Seed':'Wseed','Games':'Wgames',\n",
    "                                              'Wins':'Wwins','Losses':'Wlosses','Wavg_mins':'Wwam','Lavg_mins':'Wlam',\n",
    "                                              'Wpoint_spread':'Wwps','Lpoint_spread':'Wlps','AST':'Wast','TO':'Wto','ORR':'Worr',\n",
    "                                              'DRR':'Wdrr','EFF':'Weff','TSP':'Wtsp','TEFF':'Wteff','PIR':'Wpir'})\n",
    "df_lossseeds = season_df.rename(columns={'Team':'Lteam','Season':'Season' ,'Seed':'Lseed','Games':'Lgames',\n",
    "                                               'Wins':'Lwins','Losses':'Llosses','Wavg_mins':'Lwam','Lavg_mins':\"Llam\",\n",
    "                                               'Wpoint_spread':'Lwps','Lpoint_spread':'Llps','AST':'Last','TO':'Lto','ORR':'Lorr',\n",
    "                                               'DRR':'Ldrr','EFF':'Leff','TSP':'Ltsp','TEFF':'Lteff','PIR':'Lpir'})\n",
    "\n",
    "df_dummy = pd.merge(sub_df, df_winseeds, how='left', on=['Wteam','Season'])\n",
    "df_concat = pd.merge(left=df_dummy, right=df_lossseeds, on=['Season','Lteam'])\n",
    "#df_concat.drop(labels=['Season','Wseason','Lseason'], inplace=True, axis=1)\n",
    "df_concat['seed_diff'] = df_concat.Wseed - df_concat.Lseed\n",
    "df_concat['games'] = df_concat.Wgames - df_concat.Lgames\n",
    "df_concat['wins'] = df_concat.Wwins - df_concat.Lwins\n",
    "df_concat['losses'] = df_concat.Wlosses - df_concat.Llosses\n",
    "df_concat['w_avmin'] = df_concat.Wwam - df_concat.Lwam\n",
    "df_concat['l_avmin'] = df_concat.Wlam - df_concat.Llam\n",
    "df_concat['wps'] = df_concat.Wwps - df_concat.Lwps\n",
    "df_concat['lps'] = df_concat.Wlps - df_concat.Llps\n",
    "df_concat['ast'] = df_concat.Wast - df_concat.Last\n",
    "df_concat['to'] = df_concat.Wto - df_concat.Lto\n",
    "df_concat['orr'] = df_concat.Worr - df_concat.Lorr\n",
    "df_concat['drr'] = df_concat.Wdrr - df_concat.Ldrr\n",
    "df_concat['eff'] = df_concat.Weff - df_concat.Leff\n",
    "df_concat['tsp'] = df_concat.Wtsp - df_concat.Ltsp\n",
    "df_concat['teff'] = df_concat.Wteff - df_concat.Lteff\n",
    "df_concat['pir'] = df_concat.Wpir - df_concat.Lpir\n",
    "df_concat.drop(labels = ['Wgames','Lgames','Wwins','Lwins','Wlosses','Llosses','Wwam','Lwam','Wlam','Llam',\n",
    "                        'Wwps','Lwps','Wlps','Llps','Wast','Last','Wto','Lto','Worr','Lorr','Wdrr','Ldrr',\n",
    "                        'Weff','Leff','Wtsp','Ltsp','Wteff','Lteff','Wpir','Lpir'], inplace = True, axis=1)\n",
    "#df_concat['result'] = df_concat['Wseed'] < df_concat['Lseed']\n",
    "#df_concat['result'] = df_concat['result'].astype(int)\n",
    "df_concat.head()"
   ]
  },
  {
   "cell_type": "code",
   "execution_count": 133,
   "metadata": {
    "collapsed": false
   },
   "outputs": [
    {
     "data": {
      "text/plain": [
       "2278"
      ]
     },
     "execution_count": 133,
     "metadata": {},
     "output_type": "execute_result"
    }
   ],
   "source": [
    "len(df_concat)"
   ]
  },
  {
   "cell_type": "code",
   "execution_count": 135,
   "metadata": {
    "collapsed": false
   },
   "outputs": [
    {
     "data": {
      "text/plain": [
       "0.56887533844169968"
      ]
     },
     "execution_count": 135,
     "metadata": {},
     "output_type": "execute_result"
    }
   ],
   "source": [
    "#first, best overall model test\n",
    "#seed_diff + ast + to + orr + drr + eff + tsp + teff + pir\n",
    "x=6\n",
    "np.clip(model.predict_proba(np.array([intercept,df_concat.iloc[x]['seed_diff'],df_concat.iloc[x]['ast'],df_concat.iloc[x]['to'],\n",
    "                                      df_concat.iloc[x]['orr'],df_concat.iloc[x]['drr'],df_concat.iloc[x]['eff'],\n",
    "                                      df_concat.iloc[x]['tsp'],df_concat.iloc[x]['teff'],df_concat.iloc[x]['pir']]))[:,1],0.05,0.95)[0]\n",
    "#[intercept,df_concat.iloc[x]['seed_diff'],df_concat.iloc[x]['ast'],df_concat.iloc[x]['to'],df_concat.iloc[x]['orr'],df_concat.iloc[x]['drr'],df_concat.iloc[x]['eff'],df_concat.iloc[x]['tsp'],df_concat.iloc[x]['teff'],df_concat.iloc[x]['pir']]"
   ]
  },
  {
   "cell_type": "code",
   "execution_count": 136,
   "metadata": {
    "collapsed": false
   },
   "outputs": [],
   "source": [
    "my_preds = pd.DataFrame(columns = ['id','pred'])\n",
    "for x in range(len(df_concat)):\n",
    "    try:\n",
    "        my_preds.loc[x] = [df_concat.iloc[x]['id'],np.clip(model.predict_proba(np.array([intercept,df_concat.iloc[x]['seed_diff'],df_concat.iloc[x]['ast'],df_concat.iloc[x]['to'],df_concat.iloc[x]['orr'],df_concat.iloc[x]['drr'],df_concat.iloc[x]['eff'],df_concat.iloc[x]['tsp'],df_concat.iloc[x]['teff'],df_concat.iloc[x]['pir']]))[:,1],0.05,0.95)[0]]\n",
    "    except:\n",
    "        my_preds.loc[x] = [df_concat.iloc[x],'err']"
   ]
  },
  {
   "cell_type": "code",
   "execution_count": 137,
   "metadata": {
    "collapsed": false
   },
   "outputs": [
    {
     "name": "stdout",
     "output_type": "stream",
     "text": [
      "2278\n"
     ]
    },
    {
     "data": {
      "text/html": [
       "<div>\n",
       "<table border=\"1\" class=\"dataframe\">\n",
       "  <thead>\n",
       "    <tr style=\"text-align: right;\">\n",
       "      <th></th>\n",
       "      <th>id</th>\n",
       "      <th>pred</th>\n",
       "    </tr>\n",
       "  </thead>\n",
       "  <tbody>\n",
       "    <tr>\n",
       "      <th>0</th>\n",
       "      <td>2017_1112_1116</td>\n",
       "      <td>0.707849</td>\n",
       "    </tr>\n",
       "    <tr>\n",
       "      <th>1</th>\n",
       "      <td>2017_1112_1124</td>\n",
       "      <td>0.505170</td>\n",
       "    </tr>\n",
       "    <tr>\n",
       "      <th>2</th>\n",
       "      <td>2017_1116_1124</td>\n",
       "      <td>0.307842</td>\n",
       "    </tr>\n",
       "    <tr>\n",
       "      <th>3</th>\n",
       "      <td>2017_1112_1137</td>\n",
       "      <td>0.831180</td>\n",
       "    </tr>\n",
       "    <tr>\n",
       "      <th>4</th>\n",
       "      <td>2017_1116_1137</td>\n",
       "      <td>0.682028</td>\n",
       "    </tr>\n",
       "  </tbody>\n",
       "</table>\n",
       "</div>"
      ],
      "text/plain": [
       "               id      pred\n",
       "0  2017_1112_1116  0.707849\n",
       "1  2017_1112_1124  0.505170\n",
       "2  2017_1116_1124  0.307842\n",
       "3  2017_1112_1137  0.831180\n",
       "4  2017_1116_1137  0.682028"
      ]
     },
     "execution_count": 137,
     "metadata": {},
     "output_type": "execute_result"
    }
   ],
   "source": [
    "#my_preds = my_preds[my_preds['pred']!='err']\n",
    "print(len(my_preds))\n",
    "my_preds.head()"
   ]
  },
  {
   "cell_type": "code",
   "execution_count": 139,
   "metadata": {
    "collapsed": true
   },
   "outputs": [],
   "source": [
    "my_preds.to_csv(file_path+'my_predictions_large_model.csv', index=False)"
   ]
  },
  {
   "cell_type": "markdown",
   "metadata": {},
   "source": [
    "# Second, simpler model to also submit"
   ]
  },
  {
   "cell_type": "code",
   "execution_count": 140,
   "metadata": {
    "collapsed": false
   },
   "outputs": [
    {
     "name": "stdout",
     "output_type": "stream",
     "text": [
      "Straight Model Score 0.7011494252873564 vs mean 0.4904214559386973.\n",
      "Intercept: [ 0.02350208]\n",
      "Test model accuracy: 0.7721518987341772\n",
      "Roc Auc Score: 0.791025641025641\n",
      "Confusion Matrix:\n",
      "[[33  6]\n",
      " [12 28]]\n",
      "Mean Cross Validation Score: 0.7025\n"
     ]
    }
   ],
   "source": [
    "#Only seed, teff & pir\n",
    "y, X = dmatrices('result ~ seed_diff + teff + pir', df_concat1, return_type = 'dataframe')\n",
    "y = np.ravel(y)\n",
    "model = LogisticRegression()\n",
    "model = model.fit(X,y)\n",
    "intercept = model.intercept_\n",
    "print(\"Straight Model Score {} vs mean {}.\".format(model.score(X,y),y.mean()))\n",
    "print('Intercept: {}'.format(intercept))\n",
    "X_train, X_test, y_train, y_test = train_test_split(X, y, \n",
    "                                                    test_size = 0.3, \n",
    "                                                    random_state = 0)\n",
    "model2 = LogisticRegression()\n",
    "model2.fit(X_train, y_train)\n",
    "prediction = model2.predict(X_test)\n",
    "pred_proba = model2.predict_proba(X_test)\n",
    "print('Test model accuracy: {}'.format(metrics.accuracy_score(y_test, prediction)))\n",
    "print('Roc Auc Score: {}'.format(metrics.roc_auc_score(y_test, pred_proba[:,1])))\n",
    "print('Confusion Matrix:')\n",
    "print(metrics.confusion_matrix(y_test, prediction))\n",
    "scores = cross_val_score(LogisticRegression(), X, y, scoring='accuracy', cv = 100)\n",
    "print('Mean Cross Validation Score: {}'.format(scores.mean()))"
   ]
  },
  {
   "cell_type": "code",
   "execution_count": 141,
   "metadata": {
    "collapsed": false
   },
   "outputs": [
    {
     "data": {
      "text/plain": [
       "0.57186244463832248"
      ]
     },
     "execution_count": 141,
     "metadata": {},
     "output_type": "execute_result"
    }
   ],
   "source": [
    "#smaller model\n",
    "#seed_diff + teff + pir\n",
    "x=6\n",
    "np.clip(model.predict_proba(np.array([intercept,df_concat.iloc[x]['seed_diff'],df_concat.iloc[x]['teff'],df_concat.iloc[x]['pir']]))[:,1],0.05,0.95)[0]\n",
    "#intercept,df_concat.iloc[x]['seed_diff'],df_concat.iloc[x]['teff'],df_concat.iloc[x]['pir']"
   ]
  },
  {
   "cell_type": "code",
   "execution_count": 142,
   "metadata": {
    "collapsed": false
   },
   "outputs": [],
   "source": [
    "my_preds2 = pd.DataFrame(columns = ['id','pred'])\n",
    "for x in range(len(df_concat)):\n",
    "    try:\n",
    "        my_preds2.loc[x] = [df_concat.iloc[x]['id'],np.clip(model.predict_proba(np.array([intercept,df_concat.iloc[x]['seed_diff'],df_concat.iloc[x]['teff'],df_concat.iloc[x]['pir']]))[:,1],0.05,0.95)[0]]\n",
    "    except:\n",
    "        my_preds2.loc[x] = [df_concat.iloc[x],'err']"
   ]
  },
  {
   "cell_type": "code",
   "execution_count": 143,
   "metadata": {
    "collapsed": false
   },
   "outputs": [
    {
     "name": "stdout",
     "output_type": "stream",
     "text": [
      "2278\n"
     ]
    },
    {
     "data": {
      "text/html": [
       "<div>\n",
       "<table border=\"1\" class=\"dataframe\">\n",
       "  <thead>\n",
       "    <tr style=\"text-align: right;\">\n",
       "      <th></th>\n",
       "      <th>id</th>\n",
       "      <th>pred</th>\n",
       "    </tr>\n",
       "  </thead>\n",
       "  <tbody>\n",
       "    <tr>\n",
       "      <th>0</th>\n",
       "      <td>2017_1112_1116</td>\n",
       "      <td>0.713579</td>\n",
       "    </tr>\n",
       "    <tr>\n",
       "      <th>1</th>\n",
       "      <td>2017_1112_1124</td>\n",
       "      <td>0.531398</td>\n",
       "    </tr>\n",
       "    <tr>\n",
       "      <th>2</th>\n",
       "      <td>2017_1116_1124</td>\n",
       "      <td>0.317991</td>\n",
       "    </tr>\n",
       "    <tr>\n",
       "      <th>3</th>\n",
       "      <td>2017_1112_1137</td>\n",
       "      <td>0.796818</td>\n",
       "    </tr>\n",
       "    <tr>\n",
       "      <th>4</th>\n",
       "      <td>2017_1116_1137</td>\n",
       "      <td>0.617216</td>\n",
       "    </tr>\n",
       "  </tbody>\n",
       "</table>\n",
       "</div>"
      ],
      "text/plain": [
       "               id      pred\n",
       "0  2017_1112_1116  0.713579\n",
       "1  2017_1112_1124  0.531398\n",
       "2  2017_1116_1124  0.317991\n",
       "3  2017_1112_1137  0.796818\n",
       "4  2017_1116_1137  0.617216"
      ]
     },
     "execution_count": 143,
     "metadata": {},
     "output_type": "execute_result"
    }
   ],
   "source": [
    "print(len(my_preds2))\n",
    "my_preds2.head()"
   ]
  },
  {
   "cell_type": "code",
   "execution_count": 145,
   "metadata": {
    "collapsed": true
   },
   "outputs": [],
   "source": [
    "my_preds2.to_csv(file_path+'my_predictions_small_model.csv', index=False)"
   ]
  },
  {
   "cell_type": "markdown",
   "metadata": {},
   "source": [
    "# Test Models without seed difference"
   ]
  },
  {
   "cell_type": "code",
   "execution_count": 178,
   "metadata": {
    "collapsed": false
   },
   "outputs": [
    {
     "name": "stdout",
     "output_type": "stream",
     "text": [
      "Straight Model Score 0.6743295019157088 vs mean 0.4904214559386973.\n",
      "Intercept: [ 0.017303]\n",
      "Test model accuracy: 0.6708860759493671\n",
      "Roc Auc Score: 0.7775641025641026\n",
      "Confusion Matrix:\n",
      "[[28 11]\n",
      " [15 25]]\n",
      "Mean Cross Validation Score: 0.655\n"
     ]
    }
   ],
   "source": [
    "#Best without seeds\n",
    "y, X = dmatrices('result ~ wins + losses + ast + to + orr + tsp + teff + pir', df_concat1, return_type = 'dataframe')\n",
    "y = np.ravel(y)\n",
    "model = LogisticRegression()\n",
    "model = model.fit(X,y)\n",
    "print(\"Straight Model Score {} vs mean {}.\".format(model.score(X,y),y.mean()))\n",
    "print('Intercept: {}'.format(model.intercept_))\n",
    "X_train, X_test, y_train, y_test = train_test_split(X, y, \n",
    "                                                    test_size = 0.3, \n",
    "                                                    random_state = 0)\n",
    "model2 = LogisticRegression()\n",
    "model2.fit(X_train, y_train)\n",
    "prediction = model2.predict(X_test)\n",
    "pred_proba = model2.predict_proba(X_test)\n",
    "print('Test model accuracy: {}'.format(metrics.accuracy_score(y_test, prediction)))\n",
    "print('Roc Auc Score: {}'.format(metrics.roc_auc_score(y_test, pred_proba[:,1])))\n",
    "print('Confusion Matrix:')\n",
    "print(metrics.confusion_matrix(y_test, prediction))\n",
    "scores = cross_val_score(LogisticRegression(), X, y, scoring='accuracy', cv = 100)\n",
    "print('Mean Cross Validation Score: {}'.format(scores.mean()))"
   ]
  },
  {
   "cell_type": "code",
   "execution_count": 179,
   "metadata": {
    "collapsed": false
   },
   "outputs": [
    {
     "data": {
      "text/plain": [
       "0.76069206631454012"
      ]
     },
     "execution_count": 179,
     "metadata": {},
     "output_type": "execute_result"
    }
   ],
   "source": [
    "x=6\n",
    "np.clip(model.predict_proba(np.array([intercept,df_concat.iloc[x]['wins'],df_concat.iloc[x]['losses'],df_concat.iloc[x]['ast'],\n",
    "                                      df_concat.iloc[x]['to'],df_concat.iloc[x]['orr'],df_concat.iloc[x]['tsp'],\n",
    "                                      df_concat.iloc[x]['teff'],df_concat.iloc[x]['pir']]))[:,1],0.05,0.95)[0]\n",
    "#intercept,df_concat.iloc[x]['wins'],df_concat.iloc[x]['losses'],df_concat.iloc[x]['ast'],df_concat.iloc[x]['to'],df_concat.iloc[x]['orr'],df_concat.iloc[x]['tsp'],df_concat.iloc[x]['teff'],df_concat.iloc[x]['pir']"
   ]
  },
  {
   "cell_type": "code",
   "execution_count": 180,
   "metadata": {
    "collapsed": true
   },
   "outputs": [],
   "source": [
    "my_preds3 = pd.DataFrame(columns = ['id','pred'])\n",
    "for x in range(len(df_concat)):\n",
    "    try:\n",
    "        my_preds3.loc[x] = [df_concat.iloc[x]['id'],np.clip(model.predict_proba(np.array([intercept,df_concat.iloc[x]['wins'],df_concat.iloc[x]['losses'],df_concat.iloc[x]['ast'],df_concat.iloc[x]['to'],df_concat.iloc[x]['orr'],df_concat.iloc[x]['tsp'],df_concat.iloc[x]['teff'],df_concat.iloc[x]['pir']]))[:,1],0.05,0.95)[0]]\n",
    "    except:\n",
    "        my_preds3.loc[x] = [df_concat.iloc[x],'err']"
   ]
  },
  {
   "cell_type": "code",
   "execution_count": 181,
   "metadata": {
    "collapsed": false
   },
   "outputs": [
    {
     "name": "stdout",
     "output_type": "stream",
     "text": [
      "2278\n"
     ]
    },
    {
     "data": {
      "text/html": [
       "<div>\n",
       "<table border=\"1\" class=\"dataframe\">\n",
       "  <thead>\n",
       "    <tr style=\"text-align: right;\">\n",
       "      <th></th>\n",
       "      <th>id</th>\n",
       "      <th>pred</th>\n",
       "    </tr>\n",
       "  </thead>\n",
       "  <tbody>\n",
       "    <tr>\n",
       "      <th>0</th>\n",
       "      <td>2017_1112_1116</td>\n",
       "      <td>0.634388</td>\n",
       "    </tr>\n",
       "    <tr>\n",
       "      <th>1</th>\n",
       "      <td>2017_1112_1124</td>\n",
       "      <td>0.690697</td>\n",
       "    </tr>\n",
       "    <tr>\n",
       "      <th>2</th>\n",
       "      <td>2017_1116_1124</td>\n",
       "      <td>0.567093</td>\n",
       "    </tr>\n",
       "    <tr>\n",
       "      <th>3</th>\n",
       "      <td>2017_1112_1137</td>\n",
       "      <td>0.701463</td>\n",
       "    </tr>\n",
       "    <tr>\n",
       "      <th>4</th>\n",
       "      <td>2017_1116_1137</td>\n",
       "      <td>0.579543</td>\n",
       "    </tr>\n",
       "  </tbody>\n",
       "</table>\n",
       "</div>"
      ],
      "text/plain": [
       "               id      pred\n",
       "0  2017_1112_1116  0.634388\n",
       "1  2017_1112_1124  0.690697\n",
       "2  2017_1116_1124  0.567093\n",
       "3  2017_1112_1137  0.701463\n",
       "4  2017_1116_1137  0.579543"
      ]
     },
     "execution_count": 181,
     "metadata": {},
     "output_type": "execute_result"
    }
   ],
   "source": [
    "print(len(my_preds3))\n",
    "my_preds3.head()"
   ]
  },
  {
   "cell_type": "code",
   "execution_count": 183,
   "metadata": {
    "collapsed": true
   },
   "outputs": [],
   "source": [
    "my_preds3.to_csv(file_path+'my_predictions_seedless.csv', index=False)"
   ]
  },
  {
   "cell_type": "code",
   "execution_count": 189,
   "metadata": {
    "collapsed": false
   },
   "outputs": [
    {
     "name": "stdout",
     "output_type": "stream",
     "text": [
      "hello worldhello worldhello world\n"
     ]
    }
   ],
   "source": [
    "def hello_world(x):\n",
    "    print('hello world'*x)\n",
    "hello_world(3)"
   ]
  }
 ],
 "metadata": {
  "anaconda-cloud": {},
  "kernelspec": {
   "display_name": "Python [conda env:py352]",
   "language": "python",
   "name": "conda-env-py352-py"
  },
  "language_info": {
   "codemirror_mode": {
    "name": "ipython",
    "version": 3
   },
   "file_extension": ".py",
   "mimetype": "text/x-python",
   "name": "python",
   "nbconvert_exporter": "python",
   "pygments_lexer": "ipython3",
   "version": "3.5.2"
  }
 },
 "nbformat": 4,
 "nbformat_minor": 1
}
