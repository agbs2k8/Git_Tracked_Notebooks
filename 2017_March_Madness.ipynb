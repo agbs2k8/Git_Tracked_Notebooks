{
 "cells": [
  {
   "cell_type": "markdown",
   "metadata": {},
   "source": [
    "# Kaggle 2017 March Madness Tourny"
   ]
  },
  {
   "cell_type": "code",
   "execution_count": null,
   "metadata": {
    "collapsed": false
   },
   "outputs": [],
   "source": []
  },
  {
   "cell_type": "code",
   "execution_count": 7,
   "metadata": {
    "collapsed": false
   },
   "outputs": [],
   "source": [
    "import numpy as np\n",
    "import pandas as pd\n",
    "\n",
    "import matplotlib\n",
    "import matplotlib.pyplot as plt\n",
    "%matplotlib inline\n",
    "matplotlib.style.use('ggplot')\n",
    "\n",
    "#Required for other guy's logistic regression \n",
    "from sklearn.linear_model import LogisticRegression\n",
    "from sklearn.utils import shuffle\n",
    "from sklearn.model_selection import GridSearchCV\n",
    "\n",
    "#Additional to Implement my Logistic Regression\n",
    "#from patsy import dmatrices \n",
    "#from sklearn.cross_validation import train_test_split\n",
    "from sklearn import metrics\n",
    "from sklearn.model_selection import cross_val_score"
   ]
  },
  {
   "cell_type": "code",
   "execution_count": 8,
   "metadata": {
    "collapsed": true
   },
   "outputs": [],
   "source": [
    "file_path = 'D:\\_data_science_data\\\\2017_march_madness\\\\'"
   ]
  },
  {
   "cell_type": "markdown",
   "metadata": {},
   "source": [
    "# Other Guy's Logistic Regression Example"
   ]
  },
  {
   "cell_type": "code",
   "execution_count": 26,
   "metadata": {
    "collapsed": false
   },
   "outputs": [
    {
     "data": {
      "text/html": [
       "<div>\n",
       "<table border=\"1\" class=\"dataframe\">\n",
       "  <thead>\n",
       "    <tr style=\"text-align: right;\">\n",
       "      <th></th>\n",
       "      <th>Season</th>\n",
       "      <th>Team</th>\n",
       "      <th>region</th>\n",
       "      <th>num_seed</th>\n",
       "    </tr>\n",
       "  </thead>\n",
       "  <tbody>\n",
       "    <tr>\n",
       "      <th>0</th>\n",
       "      <td>1985</td>\n",
       "      <td>1207</td>\n",
       "      <td>W</td>\n",
       "      <td>1</td>\n",
       "    </tr>\n",
       "    <tr>\n",
       "      <th>1</th>\n",
       "      <td>1985</td>\n",
       "      <td>1210</td>\n",
       "      <td>W</td>\n",
       "      <td>2</td>\n",
       "    </tr>\n",
       "    <tr>\n",
       "      <th>2</th>\n",
       "      <td>1985</td>\n",
       "      <td>1228</td>\n",
       "      <td>W</td>\n",
       "      <td>3</td>\n",
       "    </tr>\n",
       "    <tr>\n",
       "      <th>3</th>\n",
       "      <td>1985</td>\n",
       "      <td>1260</td>\n",
       "      <td>W</td>\n",
       "      <td>4</td>\n",
       "    </tr>\n",
       "    <tr>\n",
       "      <th>4</th>\n",
       "      <td>1985</td>\n",
       "      <td>1374</td>\n",
       "      <td>W</td>\n",
       "      <td>5</td>\n",
       "    </tr>\n",
       "    <tr>\n",
       "      <th>5</th>\n",
       "      <td>1985</td>\n",
       "      <td>1208</td>\n",
       "      <td>W</td>\n",
       "      <td>6</td>\n",
       "    </tr>\n",
       "  </tbody>\n",
       "</table>\n",
       "</div>"
      ],
      "text/plain": [
       "   Season  Team region  num_seed\n",
       "0    1985  1207      W         1\n",
       "1    1985  1210      W         2\n",
       "2    1985  1228      W         3\n",
       "3    1985  1260      W         4\n",
       "4    1985  1374      W         5\n",
       "5    1985  1208      W         6"
      ]
     },
     "execution_count": 26,
     "metadata": {},
     "output_type": "execute_result"
    }
   ],
   "source": [
    "df_seeds = pd.read_csv(file_path+\"TourneySeeds.csv\")\n",
    "df_seeds[:6]"
   ]
  },
  {
   "cell_type": "code",
   "execution_count": 27,
   "metadata": {
    "collapsed": false
   },
   "outputs": [
    {
     "data": {
      "text/html": [
       "<div>\n",
       "<table border=\"1\" class=\"dataframe\">\n",
       "  <thead>\n",
       "    <tr style=\"text-align: right;\">\n",
       "      <th></th>\n",
       "      <th>Season</th>\n",
       "      <th>Daynum</th>\n",
       "      <th>Wteam</th>\n",
       "      <th>Wscore</th>\n",
       "      <th>Lteam</th>\n",
       "      <th>Lscore</th>\n",
       "      <th>Wloc</th>\n",
       "      <th>Numot</th>\n",
       "    </tr>\n",
       "  </thead>\n",
       "  <tbody>\n",
       "    <tr>\n",
       "      <th>0</th>\n",
       "      <td>1985</td>\n",
       "      <td>136</td>\n",
       "      <td>1116</td>\n",
       "      <td>63</td>\n",
       "      <td>1234</td>\n",
       "      <td>54</td>\n",
       "      <td>N</td>\n",
       "      <td>0</td>\n",
       "    </tr>\n",
       "    <tr>\n",
       "      <th>1</th>\n",
       "      <td>1985</td>\n",
       "      <td>136</td>\n",
       "      <td>1120</td>\n",
       "      <td>59</td>\n",
       "      <td>1345</td>\n",
       "      <td>58</td>\n",
       "      <td>N</td>\n",
       "      <td>0</td>\n",
       "    </tr>\n",
       "    <tr>\n",
       "      <th>2</th>\n",
       "      <td>1985</td>\n",
       "      <td>136</td>\n",
       "      <td>1207</td>\n",
       "      <td>68</td>\n",
       "      <td>1250</td>\n",
       "      <td>43</td>\n",
       "      <td>N</td>\n",
       "      <td>0</td>\n",
       "    </tr>\n",
       "    <tr>\n",
       "      <th>3</th>\n",
       "      <td>1985</td>\n",
       "      <td>136</td>\n",
       "      <td>1229</td>\n",
       "      <td>58</td>\n",
       "      <td>1425</td>\n",
       "      <td>55</td>\n",
       "      <td>N</td>\n",
       "      <td>0</td>\n",
       "    </tr>\n",
       "    <tr>\n",
       "      <th>4</th>\n",
       "      <td>1985</td>\n",
       "      <td>136</td>\n",
       "      <td>1242</td>\n",
       "      <td>49</td>\n",
       "      <td>1325</td>\n",
       "      <td>38</td>\n",
       "      <td>N</td>\n",
       "      <td>0</td>\n",
       "    </tr>\n",
       "    <tr>\n",
       "      <th>5</th>\n",
       "      <td>1985</td>\n",
       "      <td>136</td>\n",
       "      <td>1246</td>\n",
       "      <td>66</td>\n",
       "      <td>1449</td>\n",
       "      <td>58</td>\n",
       "      <td>N</td>\n",
       "      <td>0</td>\n",
       "    </tr>\n",
       "  </tbody>\n",
       "</table>\n",
       "</div>"
      ],
      "text/plain": [
       "   Season  Daynum  Wteam  Wscore  Lteam  Lscore Wloc  Numot\n",
       "0    1985     136   1116      63   1234      54    N      0\n",
       "1    1985     136   1120      59   1345      58    N      0\n",
       "2    1985     136   1207      68   1250      43    N      0\n",
       "3    1985     136   1229      58   1425      55    N      0\n",
       "4    1985     136   1242      49   1325      38    N      0\n",
       "5    1985     136   1246      66   1449      58    N      0"
      ]
     },
     "execution_count": 27,
     "metadata": {},
     "output_type": "execute_result"
    }
   ],
   "source": [
    "df_tour = pd.read_csv(file_path+\"TourneyCompactResults.csv\")\n",
    "df_tour[:6]"
   ]
  },
  {
   "cell_type": "code",
   "execution_count": 28,
   "metadata": {
    "collapsed": true
   },
   "outputs": [],
   "source": [
    "df_tour.drop(labels=['Daynum', 'Wscore', 'Lscore', 'Wloc', 'Numot'], inplace=True, axis=1)"
   ]
  },
  {
   "cell_type": "code",
   "execution_count": 29,
   "metadata": {
    "collapsed": true
   },
   "outputs": [],
   "source": [
    "def seed_to_int(seed):\n",
    "    \"\"\"Get just the digits from the seeding. Return as int\"\"\"\n",
    "    s_int = int(seed[1:3])\n",
    "    return s_int\n",
    "df_seeds['n_seed'] = df_seeds.Seed.apply(seed_to_int)\n",
    "df_seeds.drop(labels=['Seed'], inplace=True, axis=1) # This is the string label"
   ]
  },
  {
   "cell_type": "code",
   "execution_count": 30,
   "metadata": {
    "collapsed": false
   },
   "outputs": [],
   "source": [
    "df_winseeds = df_seeds.rename(columns={'Team':'Wteam', 'n_seed':'win_seed'})\n",
    "df_lossseeds = df_seeds.rename(columns={'Team':'Lteam', 'n_seed':'loss_seed'})"
   ]
  },
  {
   "cell_type": "code",
   "execution_count": 31,
   "metadata": {
    "collapsed": true
   },
   "outputs": [],
   "source": [
    "df_dummy = pd.merge(left=df_tour, right=df_winseeds, how='left', on=['Season', 'Wteam'])\n",
    "df_concat = pd.merge(left=df_dummy, right=df_lossseeds, on=['Season', 'Lteam'])\n",
    "df_concat['seed_diff'] = df_concat.win_seed - df_concat.loss_seed"
   ]
  },
  {
   "cell_type": "code",
   "execution_count": 32,
   "metadata": {
    "collapsed": true
   },
   "outputs": [],
   "source": [
    "df_wins = pd.DataFrame()\n",
    "df_wins['seed_diff'] = df_concat['seed_diff']\n",
    "df_wins['result'] = 1\n",
    "\n",
    "df_losses = pd.DataFrame()\n",
    "df_losses['seed_diff'] = -df_concat['seed_diff']\n",
    "df_losses['result'] = 0\n",
    "\n",
    "df_for_predictions = pd.concat((df_wins, df_losses))"
   ]
  },
  {
   "cell_type": "code",
   "execution_count": 33,
   "metadata": {
    "collapsed": true
   },
   "outputs": [],
   "source": [
    "X_train = df_for_predictions.seed_diff.values.reshape(-1,1)\n",
    "y_train = df_for_predictions.result.values\n",
    "X_train, y_train = shuffle(X_train, y_train)"
   ]
  },
  {
   "cell_type": "code",
   "execution_count": 34,
   "metadata": {
    "collapsed": false
   },
   "outputs": [
    {
     "name": "stdout",
     "output_type": "stream",
     "text": [
      "Best log_loss: -0.5536, with best C: 0.01\n"
     ]
    }
   ],
   "source": [
    "logreg = LogisticRegression()\n",
    "params = {'C': np.logspace(start=-5, stop=3, num=9)}\n",
    "clf = GridSearchCV(logreg, params, scoring='neg_log_loss', refit=True)\n",
    "clf.fit(X_train, y_train)\n",
    "print('Best log_loss: {:.4}, with best C: {}'.format(clf.best_score_, clf.best_params_['C']))"
   ]
  },
  {
   "cell_type": "code",
   "execution_count": 35,
   "metadata": {
    "collapsed": true
   },
   "outputs": [],
   "source": [
    "X = np.arange(-16, 16).reshape(-1, 1)\n",
    "preds = clf.predict_proba(X)[:,1]"
   ]
  },
  {
   "cell_type": "code",
   "execution_count": 36,
   "metadata": {
    "collapsed": false
   },
   "outputs": [
    {
     "data": {
      "text/plain": [
       "<matplotlib.text.Text at 0x1a5366bf390>"
      ]
     },
     "execution_count": 36,
     "metadata": {},
     "output_type": "execute_result"
    },
    {
     "data": {
      "image/png": "[encoded data removed]",
      "text/plain": [
       "<matplotlib.figure.Figure at 0x1a53671dc88>"
      ]
     },
     "metadata": {},
     "output_type": "display_data"
    }
   ],
   "source": [
    "plt.plot(X, preds)\n",
    "plt.xlabel('Team1 seed - Team2 seed')\n",
    "plt.ylabel('P(Team1 will win)')"
   ]
  },
  {
   "cell_type": "code",
   "execution_count": 37,
   "metadata": {
    "collapsed": false
   },
   "outputs": [],
   "source": [
    "df_sample_sub = pd.read_csv(file_path + 'sample_submission.csv')\n",
    "n_test_games = len(df_sample_sub)\n",
    "#df_sample_sub[:6]"
   ]
  },
  {
   "cell_type": "code",
   "execution_count": 38,
   "metadata": {
    "collapsed": true
   },
   "outputs": [],
   "source": [
    "def get_year_t1_t2(id):\n",
    "    \"\"\"Return a tuple with ints `year`, `team1` and `team2`.\"\"\"\n",
    "    return (int(x) for x in id.split('_'))\n",
    "#We loop over each row in the sample_submission.csv file. For each row, we extract the year and the teams playing. \n",
    "#We then look up the seeds for each of those teams in that season. Finally we add the seed difference to an array."
   ]
  },
  {
   "cell_type": "code",
   "execution_count": 39,
   "metadata": {
    "collapsed": false
   },
   "outputs": [],
   "source": [
    "X_test = np.zeros(shape=(n_test_games, 1))\n",
    "for ii, row in df_sample_sub.iterrows():\n",
    "    year, t1, t2 = get_year_t1_t2(row.id)\n",
    "    # There absolutely must be a better way of doing this!\n",
    "    t1_seed = df_seeds[(df_seeds.Team == t1) & (df_seeds.Season == year)].n_seed.values[0]\n",
    "    t2_seed = df_seeds[(df_seeds.Team == t2) & (df_seeds.Season == year)].n_seed.values[0]\n",
    "    diff_seed = t1_seed - t2_seed\n",
    "    X_test[ii, 0] = diff_seed"
   ]
  },
  {
   "cell_type": "code",
   "execution_count": 40,
   "metadata": {
    "collapsed": true
   },
   "outputs": [],
   "source": [
    "preds = clf.predict_proba(X_test)[:,1]"
   ]
  },
  {
   "cell_type": "code",
   "execution_count": 41,
   "metadata": {
    "collapsed": false
   },
   "outputs": [
    {
     "data": {
      "text/html": [
       "<div>\n",
       "<table border=\"1\" class=\"dataframe\">\n",
       "  <thead>\n",
       "    <tr style=\"text-align: right;\">\n",
       "      <th></th>\n",
       "      <th>id</th>\n",
       "      <th>pred</th>\n",
       "    </tr>\n",
       "  </thead>\n",
       "  <tbody>\n",
       "    <tr>\n",
       "      <th>0</th>\n",
       "      <td>2013_1103_1107</td>\n",
       "      <td>0.622432</td>\n",
       "    </tr>\n",
       "    <tr>\n",
       "      <th>1</th>\n",
       "      <td>2013_1103_1112</td>\n",
       "      <td>0.268988</td>\n",
       "    </tr>\n",
       "    <tr>\n",
       "      <th>2</th>\n",
       "      <td>2013_1103_1125</td>\n",
       "      <td>0.458439</td>\n",
       "    </tr>\n",
       "    <tr>\n",
       "      <th>3</th>\n",
       "      <td>2013_1103_1129</td>\n",
       "      <td>0.541561</td>\n",
       "    </tr>\n",
       "    <tr>\n",
       "      <th>4</th>\n",
       "      <td>2013_1103_1137</td>\n",
       "      <td>0.458439</td>\n",
       "    </tr>\n",
       "  </tbody>\n",
       "</table>\n",
       "</div>"
      ],
      "text/plain": [
       "               id      pred\n",
       "0  2013_1103_1107  0.622432\n",
       "1  2013_1103_1112  0.268988\n",
       "2  2013_1103_1125  0.458439\n",
       "3  2013_1103_1129  0.541561\n",
       "4  2013_1103_1137  0.458439"
      ]
     },
     "execution_count": 41,
     "metadata": {},
     "output_type": "execute_result"
    }
   ],
   "source": [
    "clipped_preds = np.clip(preds, 0.05, 0.95)\n",
    "df_sample_sub.pred = clipped_preds\n",
    "df_sample_sub.head()"
   ]
  },
  {
   "cell_type": "code",
   "execution_count": 42,
   "metadata": {
    "collapsed": true
   },
   "outputs": [],
   "source": [
    "df_sample_sub.to_csv('other_guys_logreg_on_seed.csv', index=False)"
   ]
  },
  {
   "cell_type": "markdown",
   "metadata": {},
   "source": [
    "# AJ's Work and Predictions!"
   ]
  },
  {
   "cell_type": "markdown",
   "metadata": {},
   "source": [
    "## What is in the data:"
   ]
  },
  {
   "cell_type": "markdown",
   "metadata": {},
   "source": [
    "### Regular Season Compact Results\n",
    "* \"season\" - this is the year of the associated entry in seasons.csv (the year in which the final tournament occurs)\n",
    "* \"daynum\" - this integer always ranges from 0 to 132, and tells you what day the game was played on. It represents an offset from the \"dayzero\" date in the \"seasons.csv\" file. For example, the first game in the file was daynum=20. Combined with the fact from the \"season.csv\" file that day zero was 10/29/1984, that means the first game was played 20 days later, or 11/18/1984. There are no teams that ever played more than one game on a given date, so you can use this fact if you need a unique key. In order to accomplish this uniqueness, we had to adjust one game's date. In March 2008, the SEC postseason tournament had to reschedule one game (Georgia-Kentucky) to a subsequent day, so Georgia had to actually play two games on the same day. In order to enforce this uniqueness, we moved the game date for the Georgia-Kentucky game back to its original date.\n",
    "* \"wteam\" - this identifies the id number of the team that won the game, as listed in the \"teams.csv\" file. No matter whether the game was won by the home team or visiting team, \"wteam\" always identifies the winning team.\n",
    "* \"wscore\" - this identifies the number of points scored by the winning team.\n",
    "* \"lteam\" - this identifies the id number of the team that lost the game.\n",
    "* \"lscore\" - this identifies the number of points scored by the losing team.\n",
    "* \"numot\" - this indicates the number of overtime periods in the game, an integer 0 or higher.\n",
    "* \"wloc\" - this identifies the \"location\" of the winning team. If the winning team was the home team, this value will be \"H\". If the winning team was the visiting team, this value will be \"A\". If it was played on a neutral court, then this value will be \"N\". Sometimes it is unclear whether the site should be considered neutral, since it is near one team's home court, or even on their court during a tournament, but for this determination we have simply used the Kenneth Massey data in its current state, where the \"@\" sign is either listed with the winning team, the losing team, or neither team."
   ]
  },
  {
   "cell_type": "code",
   "execution_count": 44,
   "metadata": {
    "collapsed": false
   },
   "outputs": [
    {
     "data": {
      "text/html": [
       "<div>\n",
       "<table border=\"1\" class=\"dataframe\">\n",
       "  <thead>\n",
       "    <tr style=\"text-align: right;\">\n",
       "      <th></th>\n",
       "      <th>Season</th>\n",
       "      <th>Daynum</th>\n",
       "      <th>Wteam</th>\n",
       "      <th>Wscore</th>\n",
       "      <th>Lteam</th>\n",
       "      <th>Lscore</th>\n",
       "      <th>Wloc</th>\n",
       "      <th>Numot</th>\n",
       "    </tr>\n",
       "  </thead>\n",
       "  <tbody>\n",
       "    <tr>\n",
       "      <th>0</th>\n",
       "      <td>1985</td>\n",
       "      <td>20</td>\n",
       "      <td>1228</td>\n",
       "      <td>81</td>\n",
       "      <td>1328</td>\n",
       "      <td>64</td>\n",
       "      <td>N</td>\n",
       "      <td>0</td>\n",
       "    </tr>\n",
       "    <tr>\n",
       "      <th>1</th>\n",
       "      <td>1985</td>\n",
       "      <td>25</td>\n",
       "      <td>1106</td>\n",
       "      <td>77</td>\n",
       "      <td>1354</td>\n",
       "      <td>70</td>\n",
       "      <td>H</td>\n",
       "      <td>0</td>\n",
       "    </tr>\n",
       "    <tr>\n",
       "      <th>2</th>\n",
       "      <td>1985</td>\n",
       "      <td>25</td>\n",
       "      <td>1112</td>\n",
       "      <td>63</td>\n",
       "      <td>1223</td>\n",
       "      <td>56</td>\n",
       "      <td>H</td>\n",
       "      <td>0</td>\n",
       "    </tr>\n",
       "    <tr>\n",
       "      <th>3</th>\n",
       "      <td>1985</td>\n",
       "      <td>25</td>\n",
       "      <td>1165</td>\n",
       "      <td>70</td>\n",
       "      <td>1432</td>\n",
       "      <td>54</td>\n",
       "      <td>H</td>\n",
       "      <td>0</td>\n",
       "    </tr>\n",
       "    <tr>\n",
       "      <th>4</th>\n",
       "      <td>1985</td>\n",
       "      <td>25</td>\n",
       "      <td>1192</td>\n",
       "      <td>86</td>\n",
       "      <td>1447</td>\n",
       "      <td>74</td>\n",
       "      <td>H</td>\n",
       "      <td>0</td>\n",
       "    </tr>\n",
       "    <tr>\n",
       "      <th>5</th>\n",
       "      <td>1985</td>\n",
       "      <td>25</td>\n",
       "      <td>1218</td>\n",
       "      <td>79</td>\n",
       "      <td>1337</td>\n",
       "      <td>78</td>\n",
       "      <td>H</td>\n",
       "      <td>0</td>\n",
       "    </tr>\n",
       "  </tbody>\n",
       "</table>\n",
       "</div>"
      ],
      "text/plain": [
       "   Season  Daynum  Wteam  Wscore  Lteam  Lscore Wloc  Numot\n",
       "0    1985      20   1228      81   1328      64    N      0\n",
       "1    1985      25   1106      77   1354      70    H      0\n",
       "2    1985      25   1112      63   1223      56    H      0\n",
       "3    1985      25   1165      70   1432      54    H      0\n",
       "4    1985      25   1192      86   1447      74    H      0\n",
       "5    1985      25   1218      79   1337      78    H      0"
      ]
     },
     "execution_count": 44,
     "metadata": {},
     "output_type": "execute_result"
    }
   ],
   "source": [
    "df_rscr = pd.read_csv(file_path+\"RegularSeasonCompactResults.csv\")\n",
    "df_rscr[:6]"
   ]
  },
  {
   "cell_type": "markdown",
   "metadata": {},
   "source": [
    "### Regular Season Detailed Results\n",
    "This file is a more detailed set of game results, covering seasons 2003-2016. This includes team-level total statistics for each game (total field goals attempted, offensive rebounds, etc.) The column names should be self-explanatory to basketball fans (as above, \"w\" or \"l\" refers to the winning or losing team):\n",
    "\n",
    "* wfgm - field goals made\n",
    "* wfga - field goals attempted\n",
    "* wfgm3 - three pointers made\n",
    "* wfga3 - three pointers attempted\n",
    "* wftm - free throws made\n",
    "* wfta - free throws attempted\n",
    "* wor - offensive rebounds\n",
    "* wdr - defensive rebounds\n",
    "* wast - assists\n",
    "* wto - turnovers\n",
    "* wstl - steals\n",
    "* wblk - blocks\n",
    "* wpf - personal fouls"
   ]
  },
  {
   "cell_type": "code",
   "execution_count": 43,
   "metadata": {
    "collapsed": false
   },
   "outputs": [
    {
     "data": {
      "text/html": [
       "<div>\n",
       "<table border=\"1\" class=\"dataframe\">\n",
       "  <thead>\n",
       "    <tr style=\"text-align: right;\">\n",
       "      <th></th>\n",
       "      <th>Season</th>\n",
       "      <th>Daynum</th>\n",
       "      <th>Wteam</th>\n",
       "      <th>Wscore</th>\n",
       "      <th>Lteam</th>\n",
       "      <th>Lscore</th>\n",
       "      <th>Wloc</th>\n",
       "      <th>Numot</th>\n",
       "      <th>Wfgm</th>\n",
       "      <th>Wfga</th>\n",
       "      <th>...</th>\n",
       "      <th>Lfga3</th>\n",
       "      <th>Lftm</th>\n",
       "      <th>Lfta</th>\n",
       "      <th>Lor</th>\n",
       "      <th>Ldr</th>\n",
       "      <th>Last</th>\n",
       "      <th>Lto</th>\n",
       "      <th>Lstl</th>\n",
       "      <th>Lblk</th>\n",
       "      <th>Lpf</th>\n",
       "    </tr>\n",
       "  </thead>\n",
       "  <tbody>\n",
       "    <tr>\n",
       "      <th>0</th>\n",
       "      <td>2003</td>\n",
       "      <td>10</td>\n",
       "      <td>1104</td>\n",
       "      <td>68</td>\n",
       "      <td>1328</td>\n",
       "      <td>62</td>\n",
       "      <td>N</td>\n",
       "      <td>0</td>\n",
       "      <td>27</td>\n",
       "      <td>58</td>\n",
       "      <td>...</td>\n",
       "      <td>10</td>\n",
       "      <td>16</td>\n",
       "      <td>22</td>\n",
       "      <td>10</td>\n",
       "      <td>22</td>\n",
       "      <td>8</td>\n",
       "      <td>18</td>\n",
       "      <td>9</td>\n",
       "      <td>2</td>\n",
       "      <td>20</td>\n",
       "    </tr>\n",
       "    <tr>\n",
       "      <th>1</th>\n",
       "      <td>2003</td>\n",
       "      <td>10</td>\n",
       "      <td>1272</td>\n",
       "      <td>70</td>\n",
       "      <td>1393</td>\n",
       "      <td>63</td>\n",
       "      <td>N</td>\n",
       "      <td>0</td>\n",
       "      <td>26</td>\n",
       "      <td>62</td>\n",
       "      <td>...</td>\n",
       "      <td>24</td>\n",
       "      <td>9</td>\n",
       "      <td>20</td>\n",
       "      <td>20</td>\n",
       "      <td>25</td>\n",
       "      <td>7</td>\n",
       "      <td>12</td>\n",
       "      <td>8</td>\n",
       "      <td>6</td>\n",
       "      <td>16</td>\n",
       "    </tr>\n",
       "    <tr>\n",
       "      <th>2</th>\n",
       "      <td>2003</td>\n",
       "      <td>11</td>\n",
       "      <td>1266</td>\n",
       "      <td>73</td>\n",
       "      <td>1437</td>\n",
       "      <td>61</td>\n",
       "      <td>N</td>\n",
       "      <td>0</td>\n",
       "      <td>24</td>\n",
       "      <td>58</td>\n",
       "      <td>...</td>\n",
       "      <td>26</td>\n",
       "      <td>14</td>\n",
       "      <td>23</td>\n",
       "      <td>31</td>\n",
       "      <td>22</td>\n",
       "      <td>9</td>\n",
       "      <td>12</td>\n",
       "      <td>2</td>\n",
       "      <td>5</td>\n",
       "      <td>23</td>\n",
       "    </tr>\n",
       "    <tr>\n",
       "      <th>3</th>\n",
       "      <td>2003</td>\n",
       "      <td>11</td>\n",
       "      <td>1296</td>\n",
       "      <td>56</td>\n",
       "      <td>1457</td>\n",
       "      <td>50</td>\n",
       "      <td>N</td>\n",
       "      <td>0</td>\n",
       "      <td>18</td>\n",
       "      <td>38</td>\n",
       "      <td>...</td>\n",
       "      <td>22</td>\n",
       "      <td>8</td>\n",
       "      <td>15</td>\n",
       "      <td>17</td>\n",
       "      <td>20</td>\n",
       "      <td>9</td>\n",
       "      <td>19</td>\n",
       "      <td>4</td>\n",
       "      <td>3</td>\n",
       "      <td>23</td>\n",
       "    </tr>\n",
       "    <tr>\n",
       "      <th>4</th>\n",
       "      <td>2003</td>\n",
       "      <td>11</td>\n",
       "      <td>1400</td>\n",
       "      <td>77</td>\n",
       "      <td>1208</td>\n",
       "      <td>71</td>\n",
       "      <td>N</td>\n",
       "      <td>0</td>\n",
       "      <td>30</td>\n",
       "      <td>61</td>\n",
       "      <td>...</td>\n",
       "      <td>16</td>\n",
       "      <td>17</td>\n",
       "      <td>27</td>\n",
       "      <td>21</td>\n",
       "      <td>15</td>\n",
       "      <td>12</td>\n",
       "      <td>10</td>\n",
       "      <td>7</td>\n",
       "      <td>1</td>\n",
       "      <td>14</td>\n",
       "    </tr>\n",
       "    <tr>\n",
       "      <th>5</th>\n",
       "      <td>2003</td>\n",
       "      <td>11</td>\n",
       "      <td>1458</td>\n",
       "      <td>81</td>\n",
       "      <td>1186</td>\n",
       "      <td>55</td>\n",
       "      <td>H</td>\n",
       "      <td>0</td>\n",
       "      <td>26</td>\n",
       "      <td>57</td>\n",
       "      <td>...</td>\n",
       "      <td>11</td>\n",
       "      <td>12</td>\n",
       "      <td>17</td>\n",
       "      <td>6</td>\n",
       "      <td>22</td>\n",
       "      <td>8</td>\n",
       "      <td>19</td>\n",
       "      <td>4</td>\n",
       "      <td>3</td>\n",
       "      <td>25</td>\n",
       "    </tr>\n",
       "  </tbody>\n",
       "</table>\n",
       "<p>6 rows × 34 columns</p>\n",
       "</div>"
      ],
      "text/plain": [
       "   Season  Daynum  Wteam  Wscore  Lteam  Lscore Wloc  Numot  Wfgm  Wfga ...   \\\n",
       "0    2003      10   1104      68   1328      62    N      0    27    58 ...    \n",
       "1    2003      10   1272      70   1393      63    N      0    26    62 ...    \n",
       "2    2003      11   1266      73   1437      61    N      0    24    58 ...    \n",
       "3    2003      11   1296      56   1457      50    N      0    18    38 ...    \n",
       "4    2003      11   1400      77   1208      71    N      0    30    61 ...    \n",
       "5    2003      11   1458      81   1186      55    H      0    26    57 ...    \n",
       "\n",
       "   Lfga3  Lftm  Lfta  Lor  Ldr  Last  Lto  Lstl  Lblk  Lpf  \n",
       "0     10    16    22   10   22     8   18     9     2   20  \n",
       "1     24     9    20   20   25     7   12     8     6   16  \n",
       "2     26    14    23   31   22     9   12     2     5   23  \n",
       "3     22     8    15   17   20     9   19     4     3   23  \n",
       "4     16    17    27   21   15    12   10     7     1   14  \n",
       "5     11    12    17    6   22     8   19     4     3   25  \n",
       "\n",
       "[6 rows x 34 columns]"
      ]
     },
     "execution_count": 43,
     "metadata": {},
     "output_type": "execute_result"
    }
   ],
   "source": [
    "df_rsdr = pd.read_csv(file_path+\"RegularSeasonDetailedResults.csv\")\n",
    "df_rsdr[:6]"
   ]
  },
  {
   "cell_type": "markdown",
   "metadata": {},
   "source": [
    "### TourneyCompactResults\n",
    "\n",
    "This file identifies the game-by-game NCAA tournament results for all seasons of historical data. The data is formatted exactly like the regular_season_compact_results.csv data. Note that these games also include the play-in games (which always occurred on day 134/135) for those years that had play-in games."
   ]
  },
  {
   "cell_type": "code",
   "execution_count": 45,
   "metadata": {
    "collapsed": false
   },
   "outputs": [
    {
     "data": {
      "text/html": [
       "<div>\n",
       "<table border=\"1\" class=\"dataframe\">\n",
       "  <thead>\n",
       "    <tr style=\"text-align: right;\">\n",
       "      <th></th>\n",
       "      <th>Season</th>\n",
       "      <th>Daynum</th>\n",
       "      <th>Wteam</th>\n",
       "      <th>Wscore</th>\n",
       "      <th>Lteam</th>\n",
       "      <th>Lscore</th>\n",
       "      <th>Wloc</th>\n",
       "      <th>Numot</th>\n",
       "    </tr>\n",
       "  </thead>\n",
       "  <tbody>\n",
       "    <tr>\n",
       "      <th>0</th>\n",
       "      <td>1985</td>\n",
       "      <td>136</td>\n",
       "      <td>1116</td>\n",
       "      <td>63</td>\n",
       "      <td>1234</td>\n",
       "      <td>54</td>\n",
       "      <td>N</td>\n",
       "      <td>0</td>\n",
       "    </tr>\n",
       "    <tr>\n",
       "      <th>1</th>\n",
       "      <td>1985</td>\n",
       "      <td>136</td>\n",
       "      <td>1120</td>\n",
       "      <td>59</td>\n",
       "      <td>1345</td>\n",
       "      <td>58</td>\n",
       "      <td>N</td>\n",
       "      <td>0</td>\n",
       "    </tr>\n",
       "    <tr>\n",
       "      <th>2</th>\n",
       "      <td>1985</td>\n",
       "      <td>136</td>\n",
       "      <td>1207</td>\n",
       "      <td>68</td>\n",
       "      <td>1250</td>\n",
       "      <td>43</td>\n",
       "      <td>N</td>\n",
       "      <td>0</td>\n",
       "    </tr>\n",
       "    <tr>\n",
       "      <th>3</th>\n",
       "      <td>1985</td>\n",
       "      <td>136</td>\n",
       "      <td>1229</td>\n",
       "      <td>58</td>\n",
       "      <td>1425</td>\n",
       "      <td>55</td>\n",
       "      <td>N</td>\n",
       "      <td>0</td>\n",
       "    </tr>\n",
       "    <tr>\n",
       "      <th>4</th>\n",
       "      <td>1985</td>\n",
       "      <td>136</td>\n",
       "      <td>1242</td>\n",
       "      <td>49</td>\n",
       "      <td>1325</td>\n",
       "      <td>38</td>\n",
       "      <td>N</td>\n",
       "      <td>0</td>\n",
       "    </tr>\n",
       "    <tr>\n",
       "      <th>5</th>\n",
       "      <td>1985</td>\n",
       "      <td>136</td>\n",
       "      <td>1246</td>\n",
       "      <td>66</td>\n",
       "      <td>1449</td>\n",
       "      <td>58</td>\n",
       "      <td>N</td>\n",
       "      <td>0</td>\n",
       "    </tr>\n",
       "  </tbody>\n",
       "</table>\n",
       "</div>"
      ],
      "text/plain": [
       "   Season  Daynum  Wteam  Wscore  Lteam  Lscore Wloc  Numot\n",
       "0    1985     136   1116      63   1234      54    N      0\n",
       "1    1985     136   1120      59   1345      58    N      0\n",
       "2    1985     136   1207      68   1250      43    N      0\n",
       "3    1985     136   1229      58   1425      55    N      0\n",
       "4    1985     136   1242      49   1325      38    N      0\n",
       "5    1985     136   1246      66   1449      58    N      0"
      ]
     },
     "execution_count": 45,
     "metadata": {},
     "output_type": "execute_result"
    }
   ],
   "source": [
    "df_tcr = pd.read_csv(file_path+\"TourneyCompactResults.csv\")\n",
    "df_tcr[:6]"
   ]
  },
  {
   "cell_type": "markdown",
   "metadata": {},
   "source": [
    "### TourneyDetailedResults\n",
    "\n",
    "This file contains the more detailed results for tournament games from 2003 onward."
   ]
  },
  {
   "cell_type": "code",
   "execution_count": 46,
   "metadata": {
    "collapsed": false
   },
   "outputs": [
    {
     "data": {
      "text/html": [
       "<div>\n",
       "<table border=\"1\" class=\"dataframe\">\n",
       "  <thead>\n",
       "    <tr style=\"text-align: right;\">\n",
       "      <th></th>\n",
       "      <th>Season</th>\n",
       "      <th>Daynum</th>\n",
       "      <th>Wteam</th>\n",
       "      <th>Wscore</th>\n",
       "      <th>Lteam</th>\n",
       "      <th>Lscore</th>\n",
       "      <th>Wloc</th>\n",
       "      <th>Numot</th>\n",
       "      <th>Wfgm</th>\n",
       "      <th>Wfga</th>\n",
       "      <th>...</th>\n",
       "      <th>Lfga3</th>\n",
       "      <th>Lftm</th>\n",
       "      <th>Lfta</th>\n",
       "      <th>Lor</th>\n",
       "      <th>Ldr</th>\n",
       "      <th>Last</th>\n",
       "      <th>Lto</th>\n",
       "      <th>Lstl</th>\n",
       "      <th>Lblk</th>\n",
       "      <th>Lpf</th>\n",
       "    </tr>\n",
       "  </thead>\n",
       "  <tbody>\n",
       "    <tr>\n",
       "      <th>0</th>\n",
       "      <td>2003</td>\n",
       "      <td>134</td>\n",
       "      <td>1421</td>\n",
       "      <td>92</td>\n",
       "      <td>1411</td>\n",
       "      <td>84</td>\n",
       "      <td>N</td>\n",
       "      <td>1</td>\n",
       "      <td>32</td>\n",
       "      <td>69</td>\n",
       "      <td>...</td>\n",
       "      <td>31</td>\n",
       "      <td>14</td>\n",
       "      <td>31</td>\n",
       "      <td>17</td>\n",
       "      <td>28</td>\n",
       "      <td>16</td>\n",
       "      <td>15</td>\n",
       "      <td>5</td>\n",
       "      <td>0</td>\n",
       "      <td>22</td>\n",
       "    </tr>\n",
       "    <tr>\n",
       "      <th>1</th>\n",
       "      <td>2003</td>\n",
       "      <td>136</td>\n",
       "      <td>1112</td>\n",
       "      <td>80</td>\n",
       "      <td>1436</td>\n",
       "      <td>51</td>\n",
       "      <td>N</td>\n",
       "      <td>0</td>\n",
       "      <td>31</td>\n",
       "      <td>66</td>\n",
       "      <td>...</td>\n",
       "      <td>16</td>\n",
       "      <td>7</td>\n",
       "      <td>7</td>\n",
       "      <td>8</td>\n",
       "      <td>26</td>\n",
       "      <td>12</td>\n",
       "      <td>17</td>\n",
       "      <td>10</td>\n",
       "      <td>3</td>\n",
       "      <td>15</td>\n",
       "    </tr>\n",
       "    <tr>\n",
       "      <th>2</th>\n",
       "      <td>2003</td>\n",
       "      <td>136</td>\n",
       "      <td>1113</td>\n",
       "      <td>84</td>\n",
       "      <td>1272</td>\n",
       "      <td>71</td>\n",
       "      <td>N</td>\n",
       "      <td>0</td>\n",
       "      <td>31</td>\n",
       "      <td>59</td>\n",
       "      <td>...</td>\n",
       "      <td>28</td>\n",
       "      <td>14</td>\n",
       "      <td>21</td>\n",
       "      <td>20</td>\n",
       "      <td>22</td>\n",
       "      <td>11</td>\n",
       "      <td>12</td>\n",
       "      <td>2</td>\n",
       "      <td>5</td>\n",
       "      <td>18</td>\n",
       "    </tr>\n",
       "    <tr>\n",
       "      <th>3</th>\n",
       "      <td>2003</td>\n",
       "      <td>136</td>\n",
       "      <td>1141</td>\n",
       "      <td>79</td>\n",
       "      <td>1166</td>\n",
       "      <td>73</td>\n",
       "      <td>N</td>\n",
       "      <td>0</td>\n",
       "      <td>29</td>\n",
       "      <td>53</td>\n",
       "      <td>...</td>\n",
       "      <td>17</td>\n",
       "      <td>12</td>\n",
       "      <td>17</td>\n",
       "      <td>14</td>\n",
       "      <td>17</td>\n",
       "      <td>20</td>\n",
       "      <td>21</td>\n",
       "      <td>6</td>\n",
       "      <td>6</td>\n",
       "      <td>21</td>\n",
       "    </tr>\n",
       "    <tr>\n",
       "      <th>4</th>\n",
       "      <td>2003</td>\n",
       "      <td>136</td>\n",
       "      <td>1143</td>\n",
       "      <td>76</td>\n",
       "      <td>1301</td>\n",
       "      <td>74</td>\n",
       "      <td>N</td>\n",
       "      <td>1</td>\n",
       "      <td>27</td>\n",
       "      <td>64</td>\n",
       "      <td>...</td>\n",
       "      <td>21</td>\n",
       "      <td>15</td>\n",
       "      <td>20</td>\n",
       "      <td>10</td>\n",
       "      <td>26</td>\n",
       "      <td>16</td>\n",
       "      <td>14</td>\n",
       "      <td>5</td>\n",
       "      <td>8</td>\n",
       "      <td>19</td>\n",
       "    </tr>\n",
       "    <tr>\n",
       "      <th>5</th>\n",
       "      <td>2003</td>\n",
       "      <td>136</td>\n",
       "      <td>1163</td>\n",
       "      <td>58</td>\n",
       "      <td>1140</td>\n",
       "      <td>53</td>\n",
       "      <td>N</td>\n",
       "      <td>0</td>\n",
       "      <td>17</td>\n",
       "      <td>52</td>\n",
       "      <td>...</td>\n",
       "      <td>17</td>\n",
       "      <td>11</td>\n",
       "      <td>13</td>\n",
       "      <td>15</td>\n",
       "      <td>26</td>\n",
       "      <td>11</td>\n",
       "      <td>11</td>\n",
       "      <td>8</td>\n",
       "      <td>4</td>\n",
       "      <td>22</td>\n",
       "    </tr>\n",
       "  </tbody>\n",
       "</table>\n",
       "<p>6 rows × 34 columns</p>\n",
       "</div>"
      ],
      "text/plain": [
       "   Season  Daynum  Wteam  Wscore  Lteam  Lscore Wloc  Numot  Wfgm  Wfga ...   \\\n",
       "0    2003     134   1421      92   1411      84    N      1    32    69 ...    \n",
       "1    2003     136   1112      80   1436      51    N      0    31    66 ...    \n",
       "2    2003     136   1113      84   1272      71    N      0    31    59 ...    \n",
       "3    2003     136   1141      79   1166      73    N      0    29    53 ...    \n",
       "4    2003     136   1143      76   1301      74    N      1    27    64 ...    \n",
       "5    2003     136   1163      58   1140      53    N      0    17    52 ...    \n",
       "\n",
       "   Lfga3  Lftm  Lfta  Lor  Ldr  Last  Lto  Lstl  Lblk  Lpf  \n",
       "0     31    14    31   17   28    16   15     5     0   22  \n",
       "1     16     7     7    8   26    12   17    10     3   15  \n",
       "2     28    14    21   20   22    11   12     2     5   18  \n",
       "3     17    12    17   14   17    20   21     6     6   21  \n",
       "4     21    15    20   10   26    16   14     5     8   19  \n",
       "5     17    11    13   15   26    11   11     8     4   22  \n",
       "\n",
       "[6 rows x 34 columns]"
      ]
     },
     "execution_count": 46,
     "metadata": {},
     "output_type": "execute_result"
    }
   ],
   "source": [
    "df_tdr = pd.read_csv(file_path+\"TourneyDetailedResults.csv\")\n",
    "df_tdr[:6]"
   ]
  },
  {
   "cell_type": "markdown",
   "metadata": {},
   "source": [
    "### TourneySeeds\n",
    "\n",
    "This file identifies the seeds for all teams in each NCAA tournament, for all seasons of historical data. Thus, there are between 64-68 rows for each year, depending on the bracket structure.\n",
    "\n",
    "* \"season\" - the year\n",
    "* \"seed\" - this is a 3/4-character identifier of the seed, where the first character is either W, X, Y, or Z (identifying the region the team was in) and the next two digits (either 01, 02, ..., 15, or 16) tells you the seed within the region. For play-in teams, there is a fourth character (a or b) to further distinguish the seeds, since teams that face each other in the play-in games will have the same first three characters. For example, the first record in the file is seed W01, which means we are looking at the #1 seed in the W region (which we can see from the \"seasons.csv\" file was the East region). This seed is also referenced in the \"tourney_slots.csv\" file that tells us which bracket slots face which other bracket slots in which rounds.\n",
    "* \"team\" - this identifies the id number of the team, as specified in the teams.csv file"
   ]
  },
  {
   "cell_type": "code",
   "execution_count": 47,
   "metadata": {
    "collapsed": false
   },
   "outputs": [
    {
     "data": {
      "text/html": [
       "<div>\n",
       "<table border=\"1\" class=\"dataframe\">\n",
       "  <thead>\n",
       "    <tr style=\"text-align: right;\">\n",
       "      <th></th>\n",
       "      <th>Season</th>\n",
       "      <th>Seed</th>\n",
       "      <th>Team</th>\n",
       "    </tr>\n",
       "  </thead>\n",
       "  <tbody>\n",
       "    <tr>\n",
       "      <th>0</th>\n",
       "      <td>1985</td>\n",
       "      <td>W01</td>\n",
       "      <td>1207</td>\n",
       "    </tr>\n",
       "    <tr>\n",
       "      <th>1</th>\n",
       "      <td>1985</td>\n",
       "      <td>W02</td>\n",
       "      <td>1210</td>\n",
       "    </tr>\n",
       "    <tr>\n",
       "      <th>2</th>\n",
       "      <td>1985</td>\n",
       "      <td>W03</td>\n",
       "      <td>1228</td>\n",
       "    </tr>\n",
       "    <tr>\n",
       "      <th>3</th>\n",
       "      <td>1985</td>\n",
       "      <td>W04</td>\n",
       "      <td>1260</td>\n",
       "    </tr>\n",
       "    <tr>\n",
       "      <th>4</th>\n",
       "      <td>1985</td>\n",
       "      <td>W05</td>\n",
       "      <td>1374</td>\n",
       "    </tr>\n",
       "    <tr>\n",
       "      <th>5</th>\n",
       "      <td>1985</td>\n",
       "      <td>W06</td>\n",
       "      <td>1208</td>\n",
       "    </tr>\n",
       "  </tbody>\n",
       "</table>\n",
       "</div>"
      ],
      "text/plain": [
       "   Season Seed  Team\n",
       "0    1985  W01  1207\n",
       "1    1985  W02  1210\n",
       "2    1985  W03  1228\n",
       "3    1985  W04  1260\n",
       "4    1985  W05  1374\n",
       "5    1985  W06  1208"
      ]
     },
     "execution_count": 47,
     "metadata": {},
     "output_type": "execute_result"
    }
   ],
   "source": [
    "df_seeds = pd.read_csv(file_path+\"TourneySeeds.csv\")\n",
    "df_seeds[:6]"
   ]
  },
  {
   "cell_type": "markdown",
   "metadata": {},
   "source": [
    "### TourneySlots\n",
    "\n",
    "This file identifies the mechanism by which teams are paired against each other, depending upon their seeds. Because of the existence of play-in games for particular seed numbers, the pairings have small differences from year to year. If there were N teams in the tournament during a particular year, there were N-1 teams eliminated (leaving one champion) and therefore N-1 games played, as well as N-1 slots in the tournament bracket, and thus there will be N-1 records in this file for that season.\n",
    "\n",
    "* \"season\" - the year\n",
    "* \"slot\" - this uniquely identifies one of the tournament games. For play-in games, it is a three-character string identifying the seed fulfilled by the winning team, such as W16 or Z13. For regular tournament games, it is a four-character string, where the first two characters tell you which round the game is (R1, R2, R3, R4, R5, or R6) and the second two characters tell you the expected seed of the favored team. Thus the first row is R1W1, identifying the Round 1 game played in the W bracket, where the favored team is the 1 seed. As a further example, the R2W1 slot indicates the Round 2 game that would have the 1 seed from the W bracket, assuming that all favored teams have won up to that point. The slot names are different for the final two rounds, where R5WX identifies the national semifinal game between the winners of regions W and X, and R5YZ identifies the national semifinal game between the winners of regions Y and Z, and R6CH identifies the championship game. The \"slot\" value is used in other columns in order to represent the advancement and pairings of winners of previous games.\n",
    "* \"strongseed\" - this indicates the expected stronger-seeded team that plays in this game. For Round 1 games, a team seed is identified in this column (as listed in the \"seed\" column in the tourney_seeds.csv file), whereas for subsequent games, a slot is identified in this column. In the first record of this file (slot R1W1), we see that seed W01 is the \"strongseed\", which during the 1985 tournament would have been Georgetown. Whereas for games from Round 2 or later, rather than a team seed, we will see a \"slot\" referenced in this column. So in the 33rd record of this file (slot R2W1), it tells us that the winners of slots R1W1 and R1W8 will face each other in Round 2. Of course, in the last few games of the tournament - the national semifinals and finals - it's not really meaningful to talk about a \"strong seed\" or \"weak seed\", but those games are represented in the same format for the sake of uniformity.\n",
    "* \"weakseed\" - this indicates the expected weaker-seeded team that plays in this game, assuming all favored teams have won so far. For Round 1 games, a team seed is identified in this column (as listed in the \"seed\" column in the tourney_seeds.csv file), whereas for subsequent games, a slot is identified in this column."
   ]
  },
  {
   "cell_type": "code",
   "execution_count": 48,
   "metadata": {
    "collapsed": false
   },
   "outputs": [
    {
     "data": {
      "text/html": [
       "<div>\n",
       "<table border=\"1\" class=\"dataframe\">\n",
       "  <thead>\n",
       "    <tr style=\"text-align: right;\">\n",
       "      <th></th>\n",
       "      <th>Season</th>\n",
       "      <th>Slot</th>\n",
       "      <th>Strongseed</th>\n",
       "      <th>Weakseed</th>\n",
       "    </tr>\n",
       "  </thead>\n",
       "  <tbody>\n",
       "    <tr>\n",
       "      <th>0</th>\n",
       "      <td>1985</td>\n",
       "      <td>R1W1</td>\n",
       "      <td>W01</td>\n",
       "      <td>W16</td>\n",
       "    </tr>\n",
       "    <tr>\n",
       "      <th>1</th>\n",
       "      <td>1985</td>\n",
       "      <td>R1W2</td>\n",
       "      <td>W02</td>\n",
       "      <td>W15</td>\n",
       "    </tr>\n",
       "    <tr>\n",
       "      <th>2</th>\n",
       "      <td>1985</td>\n",
       "      <td>R1W3</td>\n",
       "      <td>W03</td>\n",
       "      <td>W14</td>\n",
       "    </tr>\n",
       "    <tr>\n",
       "      <th>3</th>\n",
       "      <td>1985</td>\n",
       "      <td>R1W4</td>\n",
       "      <td>W04</td>\n",
       "      <td>W13</td>\n",
       "    </tr>\n",
       "    <tr>\n",
       "      <th>4</th>\n",
       "      <td>1985</td>\n",
       "      <td>R1W5</td>\n",
       "      <td>W05</td>\n",
       "      <td>W12</td>\n",
       "    </tr>\n",
       "    <tr>\n",
       "      <th>5</th>\n",
       "      <td>1985</td>\n",
       "      <td>R1W6</td>\n",
       "      <td>W06</td>\n",
       "      <td>W11</td>\n",
       "    </tr>\n",
       "  </tbody>\n",
       "</table>\n",
       "</div>"
      ],
      "text/plain": [
       "   Season  Slot Strongseed Weakseed\n",
       "0    1985  R1W1        W01      W16\n",
       "1    1985  R1W2        W02      W15\n",
       "2    1985  R1W3        W03      W14\n",
       "3    1985  R1W4        W04      W13\n",
       "4    1985  R1W5        W05      W12\n",
       "5    1985  R1W6        W06      W11"
      ]
     },
     "execution_count": 48,
     "metadata": {},
     "output_type": "execute_result"
    }
   ],
   "source": [
    "df_slots = pd.read_csv(file_path+\"TourneySlots.csv\")\n",
    "df_slots[:6]"
   ]
  },
  {
   "cell_type": "markdown",
   "metadata": {},
   "source": [
    "## Sample Submission\n",
    "What to predict\n",
    "\n",
    "Stage 1 - You should submit predicted probabilities for every possible matchup in the past 4 NCAA tournaments (2013-2016).\n",
    "\n",
    "Stage 2 - You should submit predicted probabilities for every possible matchup before the 2017 tournament begins.\n",
    "\n",
    "Refer to the Timeline page for specific dates. In both stages, the sample submission will tell you which games to predict.\n",
    "\n",
    "The file you submit will depend on whether the competition is in stage 1 (historical model building) or stage 2 (the 2017 tournament). Sample submission files will be provided for both stages. The format is a list of every possible matchup between the tournament teams. Since team1 vs. team2 is the same as team2 vs. team1, we only include the game pairs where team1 has the lower team id. For example, in a tournament of 68 teams (64 + 4 play-in teams), you will predict (68*67)/2  = 2278 matchups. \n",
    "\n",
    "Each game has a unique id created by concatenating the season in which the game was played, the team1 id, and the team2 id. For example, \"2013_1104_1129\" indicates team 1104 played team 1129 in the year 2013. You must predict the probability that the team with the lower id beats the team with the higher id.\n",
    "\n",
    "The resulting submission format looks like the following, where \"pred\" represents the predicted probability that the first team will win:\n",
    "\n",
    "    id, pred\n",
    "    2013_1103_1107, 0.5\n",
    "\n",
    "that is that there is a 50% probability of team 1103 beating team 1107"
   ]
  },
  {
   "cell_type": "code",
   "execution_count": 53,
   "metadata": {
    "collapsed": false
   },
   "outputs": [
    {
     "data": {
      "text/html": [
       "<div>\n",
       "<table border=\"1\" class=\"dataframe\">\n",
       "  <thead>\n",
       "    <tr style=\"text-align: right;\">\n",
       "      <th></th>\n",
       "      <th>id</th>\n",
       "      <th>pred</th>\n",
       "    </tr>\n",
       "  </thead>\n",
       "  <tbody>\n",
       "    <tr>\n",
       "      <th>9106</th>\n",
       "      <td>2016_1455_1458</td>\n",
       "      <td>0.5</td>\n",
       "    </tr>\n",
       "    <tr>\n",
       "      <th>9107</th>\n",
       "      <td>2016_1455_1462</td>\n",
       "      <td>0.5</td>\n",
       "    </tr>\n",
       "    <tr>\n",
       "      <th>9108</th>\n",
       "      <td>2016_1455_1463</td>\n",
       "      <td>0.5</td>\n",
       "    </tr>\n",
       "    <tr>\n",
       "      <th>9109</th>\n",
       "      <td>2016_1458_1462</td>\n",
       "      <td>0.5</td>\n",
       "    </tr>\n",
       "    <tr>\n",
       "      <th>9110</th>\n",
       "      <td>2016_1458_1463</td>\n",
       "      <td>0.5</td>\n",
       "    </tr>\n",
       "    <tr>\n",
       "      <th>9111</th>\n",
       "      <td>2016_1462_1463</td>\n",
       "      <td>0.5</td>\n",
       "    </tr>\n",
       "  </tbody>\n",
       "</table>\n",
       "</div>"
      ],
      "text/plain": [
       "                  id  pred\n",
       "9106  2016_1455_1458   0.5\n",
       "9107  2016_1455_1462   0.5\n",
       "9108  2016_1455_1463   0.5\n",
       "9109  2016_1458_1462   0.5\n",
       "9110  2016_1458_1463   0.5\n",
       "9111  2016_1462_1463   0.5"
      ]
     },
     "execution_count": 53,
     "metadata": {},
     "output_type": "execute_result"
    }
   ],
   "source": [
    "df_sample_sub = pd.read_csv(file_path + 'sample_submission.csv')\n",
    "df_sample_sub[-6:]"
   ]
  },
  {
   "cell_type": "code",
   "execution_count": 50,
   "metadata": {
    "collapsed": false
   },
   "outputs": [
    {
     "data": {
      "text/plain": [
       "9112"
      ]
     },
     "execution_count": 50,
     "metadata": {},
     "output_type": "execute_result"
    }
   ],
   "source": [
    "len(df_sample_sub)"
   ]
  },
  {
   "cell_type": "markdown",
   "metadata": {},
   "source": [
    "### Some Basketball Metrics to Consider (calculate)\n",
    "\n",
    "* AST: Assist Ratio - the percentage of a team's possessions that ends in an assist. Assist Ratio = (Assists x 100) divided by [(FGA + (FTA x 0.44) + Assists + Turnovers]\n",
    "     \n",
    "* TO: Turnover Ratio - the percentage of a team's possessions that end in a turnover. Turnover Ratio = (Turnover x 100) divided by [(FGA + (FTA x 0.44) + Assists + Turnovers]\n",
    "     \n",
    "* ORR: Offensive rebound rate = (100 x Offensive Rebounds x Team Minutes Played / 5) / [Minutes Played x (Team Offensive Rebounds + Opposing Team Defensive Rebounds)]\n",
    "     \n",
    "* DRR: Defensive rebound rate = (100 x Defensive Rebounds x Team Minutes Played / 5) / [Minutes Played x (Team Defensive Rebounds + Opposing Team Offensive Rebounds)]\n",
    "     \n",
    "* REBR: Rebound Rate - the percentage of missed shots that a team rebounds. Rebound Rate = (Rebounds x Team Minutes) divided by [Player Minutes x (Team Rebounds + Opponent Rebounds)]\n",
    "     \n",
    "* EFF FG%: Effective Field Goal Percentage\n",
    "     \n",
    "* TS%: True Shooting Percentage - what a team's shooting percentage would be if we accounted for free throws and 3-pointers. True Shooting Percentage = (Total points x 50) divided by [(FGA + (FTA x 0.44)]\n",
    "     \n",
    "* OFF EFF: Offensive Efficiency - the number of points a team scores per 100 possessions.\n",
    "     \n",
    "* DEF EFF: Defensive Efficiency - the number of points a team allows per 100 possessions.\n",
    "     \n",
    "* Eff = (PTS + REB + AST + STL + BLK - ((FGA-FAM) + (FTA-FTM) + TO))\n",
    "     \n",
    "* Performance Index Rating = (PTS + REB + AST + STL + BLK + Fouls Draw) - (MFG + MFT + TO + Shots Blocked + Fouls Comitted)\n",
    "\n",
    "### Also of Note:\n",
    "* Games = 2x 20 minute halfs\n",
    "* OT = 5 minutes each\n",
    "* Game Length = 40 + 5x OTs"
   ]
  },
  {
   "cell_type": "code",
   "execution_count": null,
   "metadata": {
    "collapsed": true
   },
   "outputs": [],
   "source": []
  },
  {
   "cell_type": "code",
   "execution_count": null,
   "metadata": {
    "collapsed": true
   },
   "outputs": [],
   "source": []
  },
  {
   "cell_type": "code",
   "execution_count": 25,
   "metadata": {
    "collapsed": false
   },
   "outputs": [],
   "source": [
    "#built to do the other guy's work in my style. \n",
    "\n",
    "#def split_seed(Seed):\n",
    "#    return (str(Seed[0]),int(Seed[1:3]))\n",
    "#print(type(split_seed('z16a')))\n",
    "#\n",
    "#def get_seed_num(Seed):\n",
    "#    return split_seed(Seed)[1]\n",
    "#def get_seed_reg(Seed):\n",
    "#    return split_seed(Seed)[0]\n",
    "#print(set(seeds['Seed']))\n",
    "#seeds['region'] = seeds['Seed'].apply(get_seed_reg)\n",
    "#seeds['num_seed'] = seeds['Seed'].apply(get_seed_num)\n",
    "#seeds.drop(labels=['Seed'], inplace=True, axis=1)\n",
    "#print(seeds[:6])\n",
    "\n",
    "#win_seeds = seeds.rename(columns={'Team':'Wteam', 'num_seed':'win_seed','region':'win_region'})\n",
    "#loss_seeds = seeds.rename(columns={'Team':'Lteam', 'num_seed':'loss_seed','region':'loss_region'})\n",
    "\n",
    "#print(win_seeds[:3])\n",
    "#print(loss_seeds[:3])"
   ]
  }
 ],
 "metadata": {
  "anaconda-cloud": {},
  "kernelspec": {
   "display_name": "Python [conda env:py352]",
   "language": "python",
   "name": "conda-env-py352-py"
  },
  "language_info": {
   "codemirror_mode": {
    "name": "ipython",
    "version": 3
   },
   "file_extension": ".py",
   "mimetype": "text/x-python",
   "name": "python",
   "nbconvert_exporter": "python",
   "pygments_lexer": "ipython3",
   "version": "3.5.2"
  }
 },
 "nbformat": 4,
 "nbformat_minor": 1
}
